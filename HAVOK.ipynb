{
 "cells": [
  {
   "cell_type": "code",
   "execution_count": 1,
   "metadata": {},
   "outputs": [],
   "source": [
    "import os\n",
    "import torch\n",
    "\n",
    "import matplotlib.pyplot as plt\n",
    "from tqdm import trange\n",
    "from models.ESN import ESNModel\n",
    "from dataset.data_loaders import load_dataset, generate_datasets\n",
    "from models.early_stopping import EarlyStopping\n",
    "\n",
    "\n",
    "os.environ[\"CUDA_VISIBLE_DEVICES\"]='0'\n",
    "\n",
    "if torch.cuda.is_available():\n",
    "    device = torch.device('cuda')\n",
    "else:\n",
    "    device = torch.device('cpu')"
   ]
  },
  {
   "cell_type": "code",
   "execution_count": 2,
   "metadata": {},
   "outputs": [],
   "source": [
    "data, L, F = load_dataset('spain')\n",
    "\n",
    "Xtr, Ytr, Xval, Yval, Xte, Yte, diffXte, diffYte = generate_datasets(data, L, F, device, test_percent = 0.25, val_percent = 0.25)"
   ]
  },
  {
   "cell_type": "code",
   "execution_count": 3,
   "metadata": {},
   "outputs": [],
   "source": [
    "batch = 1\n",
    "steps = Xtr[:,0].shape[0]\n",
    "\n",
    "X = torch.stack([Xtr[i:i+batch,0] for i in range(steps-batch+1)])[...,None,None]\n",
    "Xv = torch.stack([Xval[i:i+batch,0] for i in range(Xval.shape[0]-batch+1)])[...,None,None]\n",
    "Xt = torch.stack([Xte[i:i+batch,0] for i in range(Xte.shape[0]-batch+1)])[...,None,None]\n",
    "\n",
    "Y = Ytr[batch-F:,].squeeze()\n",
    "Yv = Yval[batch-F:,].squeeze()\n",
    "Yt = Yte[batch-F:,].squeeze()"
   ]
  },
  {
   "cell_type": "code",
   "execution_count": 4,
   "metadata": {},
   "outputs": [],
   "source": [
    "esn = ESNModel(1, 500, 1, 0, 1, F).to(device)"
   ]
  },
  {
   "cell_type": "code",
   "execution_count": 5,
   "metadata": {},
   "outputs": [
    {
     "name": "stderr",
     "output_type": "stream",
     "text": [
      "Epoch 71:  70%|███████   | 70/100 [00:02<00:01, 28.25it/s, loss=0.000519]"
     ]
    },
    {
     "name": "stdout",
     "output_type": "stream",
     "text": [
      "Early stopping\n"
     ]
    },
    {
     "name": "stderr",
     "output_type": "stream",
     "text": [
      "\n"
     ]
    },
    {
     "data": {
      "text/plain": [
       "<All keys matched successfully>"
      ]
     },
     "execution_count": 5,
     "metadata": {},
     "output_type": "execute_result"
    }
   ],
   "source": [
    "torch_optimizer = torch.optim.Adam(esn.parameters(), lr=0.01, weight_decay=1e-5)\n",
    "epochs = 100\n",
    "torch_loss = torch.nn.MSELoss()\n",
    "\n",
    "# initialize the early_stopping object\n",
    "checkpoint_path = \"./checkpoints/esn_spain/\"\n",
    "early_stopping = EarlyStopping(patience=20, verbose=False, path=checkpoint_path)\n",
    "\n",
    "with trange(epochs) as t:\n",
    "    for epoch in t:\n",
    "        esn.train()\n",
    "        torch_optimizer.zero_grad()\n",
    "        loss = torch_loss(esn(X).squeeze(), Y.squeeze())\n",
    "        loss.backward()\n",
    "        torch_optimizer.step()\n",
    "\n",
    "        # display progress bar\n",
    "        t.set_description(f\"Epoch {epoch+1}\")\n",
    "        t.set_postfix({\"loss\":float(loss / Y.shape[0])})\n",
    "\n",
    "        # Early stopping\n",
    "        esn.eval()\n",
    "        valid_loss = torch_loss(esn(Xv).squeeze(), Yv.squeeze()).item()\n",
    "\n",
    "        # early_stopping needs the validation loss to check if it has decresed, \n",
    "        # and if it has, it will make a checkpoint of the current model\n",
    "        early_stopping(valid_loss, esn)\n",
    "        \n",
    "        if early_stopping.early_stop:\n",
    "            print(\"Early stopping\")\n",
    "            break\n",
    "\n",
    "# load the last checkpoint with the best model\n",
    "esn.load_state_dict(torch.load(checkpoint_path + \"checkpoint.pt\"))"
   ]
  },
  {
   "cell_type": "markdown",
   "metadata": {},
   "source": [
    "Reservoir states"
   ]
  },
  {
   "cell_type": "code",
   "execution_count": 9,
   "metadata": {},
   "outputs": [
    {
     "data": {
      "text/plain": [
       "torch.Size([455, 500])"
      ]
     },
     "execution_count": 9,
     "metadata": {},
     "output_type": "execute_result"
    }
   ],
   "source": [
    "h = esn.reservoir(Xt, return_last_state=False).squeeze().cpu()\n",
    "h.shape"
   ]
  },
  {
   "cell_type": "markdown",
   "metadata": {},
   "source": [
    "Delay coordinates"
   ]
  },
  {
   "cell_type": "code",
   "execution_count": 21,
   "metadata": {},
   "outputs": [],
   "source": [
    "stack = 100\n",
    "h_delay = torch.zeros((stack,h.shape[0]-stack))\n",
    "for i in range(stack):\n",
    "    h_delay[i,:] = h[i:-stack+i,0]  # NOTE: only the first state component! What about the others?"
   ]
  },
  {
   "cell_type": "code",
   "execution_count": 22,
   "metadata": {},
   "outputs": [
    {
     "data": {
      "text/plain": [
       "torch.Size([100, 355])"
      ]
     },
     "execution_count": 22,
     "metadata": {},
     "output_type": "execute_result"
    }
   ],
   "source": [
    "h_delay.shape"
   ]
  },
  {
   "cell_type": "markdown",
   "metadata": {},
   "source": [
    "SVD"
   ]
  },
  {
   "cell_type": "code",
   "execution_count": 24,
   "metadata": {},
   "outputs": [],
   "source": [
    "U, S, Vh = torch.linalg.svd(h_delay)\n",
    "V = Vh.T"
   ]
  },
  {
   "cell_type": "markdown",
   "metadata": {},
   "source": [
    "Finding the optimal for the threshold r\n",
    "\n",
    "https://github.com/erichson/optht"
   ]
  },
  {
   "cell_type": "code",
   "execution_count": null,
   "metadata": {},
   "outputs": [],
   "source": []
  }
 ],
 "metadata": {
  "kernelspec": {
   "display_name": "koopman",
   "language": "python",
   "name": "python3"
  },
  "language_info": {
   "codemirror_mode": {
    "name": "ipython",
    "version": 3
   },
   "file_extension": ".py",
   "mimetype": "text/x-python",
   "name": "python",
   "nbconvert_exporter": "python",
   "pygments_lexer": "ipython3",
   "version": "3.9.17"
  },
  "orig_nbformat": 4
 },
 "nbformat": 4,
 "nbformat_minor": 2
}
