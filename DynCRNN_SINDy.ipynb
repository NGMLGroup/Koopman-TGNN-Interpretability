{
 "cells": [
  {
   "cell_type": "code",
   "execution_count": 1,
   "metadata": {},
   "outputs": [
    {
     "name": "stderr",
     "output_type": "stream",
     "text": [
      "Seed set to 42\n"
     ]
    }
   ],
   "source": [
    "import torch\n",
    "import os\n",
    "import random\n",
    "import numpy as np\n",
    "import pytorch_lightning as pl\n",
    "\n",
    "from tqdm import tqdm\n",
    "from sklearn.model_selection import train_test_split\n",
    "from dataset.utils import process_classification_dataset, load_classification_dataset\n",
    "\n",
    "config = {\n",
    "        'dataset': 'facebook_ct1', # 'infectious_ct1', #\n",
    "        'hidden_size': 32,\n",
    "        'rnn_layers': 8,\n",
    "        'readout_layers': 3,\n",
    "        'cell_type': 'lstm',\n",
    "        'dim_red': 64,\n",
    "        'add_self_loops': False,\n",
    "        'verbose': True,\n",
    "        'cat_states_layers': True,\n",
    "        'weight_decay': 1e-3,\n",
    "        'step_size': 30,\n",
    "        'gamma': 0.5\n",
    "        }\n",
    "\n",
    "# Select one GPU if more are available\n",
    "os.environ[\"CUDA_VISIBLE_DEVICES\"]='0'\n",
    "\n",
    "seed = 42\n",
    "random.seed(seed)\n",
    "torch.manual_seed(seed)\n",
    "np.random.seed(seed)\n",
    "pl.seed_everything(seed)\n",
    "\n",
    "if torch.cuda.is_available():\n",
    "    device = torch.device('cuda')\n",
    "else:\n",
    "    device = torch.device('cpu')"
   ]
  },
  {
   "cell_type": "code",
   "execution_count": 2,
   "metadata": {},
   "outputs": [
    {
     "name": "stderr",
     "output_type": "stream",
     "text": [
      "100%|██████████| 995/995 [11:47<00:00,  1.41it/s]\n"
     ]
    }
   ],
   "source": [
    "# Fix cuda memory issue\n",
    "dataset, states, node_states, node_labels = process_classification_dataset(config, \"DynCRNN\", device)"
   ]
  },
  {
   "cell_type": "code",
   "execution_count": 3,
   "metadata": {},
   "outputs": [],
   "source": [
    "edge_indexes, _, _ = load_classification_dataset(config['dataset'], False)"
   ]
  },
  {
   "cell_type": "code",
   "execution_count": 4,
   "metadata": {},
   "outputs": [
    {
     "name": "stdout",
     "output_type": "stream",
     "text": [
      "Accuracy: 0.9547738693467337\n"
     ]
    }
   ],
   "source": [
    "from sklearn.linear_model import LogisticRegression\n",
    "from sklearn.metrics import accuracy_score\n",
    "\n",
    "inputs, test_inputs, labels, test_labels = train_test_split(states.inputs[:,-1,:], dataset.targets, test_size=0.2, random_state=seed)\n",
    "\n",
    "# Create the classifier\n",
    "classifier = LogisticRegression(max_iter=5000, random_state=seed)\n",
    "\n",
    "# Train the classifier\n",
    "classifier.fit(inputs, labels)\n",
    "\n",
    "# Test the classifier\n",
    "y_pred = classifier.predict(test_inputs)\n",
    "\n",
    "accuracy = accuracy_score(test_labels, y_pred)\n",
    "print(f\"Accuracy: {accuracy}\")"
   ]
  },
  {
   "cell_type": "markdown",
   "metadata": {},
   "source": [
    "# PCA per node"
   ]
  },
  {
   "cell_type": "markdown",
   "metadata": {},
   "source": []
  },
  {
   "cell_type": "code",
   "execution_count": 18,
   "metadata": {},
   "outputs": [],
   "source": [
    "from torch_sparse import SparseTensor\n",
    "\n",
    "idx = 0\n",
    "\n",
    "edge_index = torch.cat(edge_indexes[idx], dim=1)\n",
    "edge_index = torch.unique(edge_index.T, dim=0).T\n",
    "\n",
    "num_nodes = edge_index.max().item() + 1\n",
    "adj_matrix = SparseTensor(row=edge_index[0], col=edge_index[1], sparse_sizes=(num_nodes, num_nodes))\n",
    "adj_matrix = adj_matrix.to_dense()"
   ]
  },
  {
   "cell_type": "code",
   "execution_count": null,
   "metadata": {},
   "outputs": [],
   "source": [
    "from sklearn.decomposition import PCA\n",
    "from einops import rearrange\n",
    "\n",
    "node_states = rearrange(node_states[idx], 't n f -> n t f')\n",
    "\n",
    "pca = PCA(n_components=10)\n",
    "X = pca.fit_transform(rearrange(node_states, 'n t f -> (n t) f'))\n",
    "X = rearrange(X, '(n t) f -> n t f', n=num_nodes, t=node_states.shape[1], f=10)\n",
    "X = torch.from_numpy(X)"
   ]
  },
  {
   "cell_type": "code",
   "execution_count": 30,
   "metadata": {},
   "outputs": [
    {
     "data": {
      "text/plain": [
       "(100, 106, 10)"
      ]
     },
     "execution_count": 30,
     "metadata": {},
     "output_type": "execute_result"
    }
   ],
   "source": [
    "X.shape"
   ]
  },
  {
   "cell_type": "code",
   "execution_count": 57,
   "metadata": {},
   "outputs": [
    {
     "data": {
      "text/plain": [
       "210"
      ]
     },
     "execution_count": 57,
     "metadata": {},
     "output_type": "execute_result"
    }
   ],
   "source": [
    "torch.nonzero(adj_matrix).size(0)"
   ]
  },
  {
   "cell_type": "code",
   "execution_count": 68,
   "metadata": {},
   "outputs": [],
   "source": [
    "from DMD.sindy import sindy_library_adj\n",
    "\n",
    "s = sindy_library_adj(X, adj_matrix)"
   ]
  },
  {
   "cell_type": "code",
   "execution_count": 59,
   "metadata": {},
   "outputs": [
    {
     "data": {
      "text/plain": [
       "torch.Size([310, 106, 10])"
      ]
     },
     "execution_count": 59,
     "metadata": {},
     "output_type": "execute_result"
    }
   ],
   "source": [
    "s.shape"
   ]
  },
  {
   "cell_type": "code",
   "execution_count": 69,
   "metadata": {},
   "outputs": [],
   "source": [
    "from DMD.sindy import sindy_fit2\n",
    "\n",
    "# s = rearrange(s, 'n t f -> (t n) f', n=s.shape[0], t=s.shape[1], f=10)\n",
    "\n",
    "x = rearrange(s[:,1:,:], 'n t f -> (t n) f')\n",
    "y = rearrange(s[:,:-1,:], 'n t f -> (t n) f')\n",
    "\n",
    "K = sindy_fit2(x, y, 1.0)"
   ]
  },
  {
   "cell_type": "code",
   "execution_count": 70,
   "metadata": {},
   "outputs": [
    {
     "data": {
      "text/plain": [
       "(10, 10)"
      ]
     },
     "execution_count": 70,
     "metadata": {},
     "output_type": "execute_result"
    }
   ],
   "source": [
    "K.shape"
   ]
  },
  {
   "cell_type": "code",
   "execution_count": null,
   "metadata": {},
   "outputs": [],
   "source": []
  }
 ],
 "metadata": {
  "kernelspec": {
   "display_name": "mic_koopman",
   "language": "python",
   "name": "python3"
  },
  "language_info": {
   "codemirror_mode": {
    "name": "ipython",
    "version": 3
   },
   "file_extension": ".py",
   "mimetype": "text/x-python",
   "name": "python",
   "nbconvert_exporter": "python",
   "pygments_lexer": "ipython3",
   "version": "3.11.5"
  }
 },
 "nbformat": 4,
 "nbformat_minor": 2
}
