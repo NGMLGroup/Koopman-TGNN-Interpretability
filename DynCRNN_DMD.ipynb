{
 "cells": [
  {
   "cell_type": "code",
   "execution_count": 1,
   "metadata": {},
   "outputs": [
    {
     "name": "stderr",
     "output_type": "stream",
     "text": [
      "Seed set to 42\n"
     ]
    }
   ],
   "source": [
    "import torch\n",
    "import os\n",
    "import random\n",
    "import numpy as np\n",
    "import pytorch_lightning as pl\n",
    "\n",
    "from tqdm import tqdm\n",
    "from sklearn.model_selection import train_test_split\n",
    "from dataset.utils import process_classification_dataset\n",
    "\n",
    "config = {\n",
    "        'dataset': 'facebook_ct1', # 'infectious_ct1', #\n",
    "        'hidden_size': 32,\n",
    "        'rnn_layers': 8,\n",
    "        'readout_layers': 3,\n",
    "        'cell_type': 'lstm',\n",
    "        'dim_red': 64,\n",
    "        'add_self_loops': False,\n",
    "        'verbose': True,\n",
    "        'cat_states_layers': True,\n",
    "        'weight_decay': 1e-3,\n",
    "        'step_size': 30,\n",
    "        'gamma': 0.5\n",
    "        }\n",
    "\n",
    "# Select one GPU if more are available\n",
    "os.environ[\"CUDA_VISIBLE_DEVICES\"]='0'\n",
    "\n",
    "seed = 42\n",
    "random.seed(seed)\n",
    "torch.manual_seed(seed)\n",
    "np.random.seed(seed)\n",
    "pl.seed_everything(seed)\n",
    "\n",
    "if torch.cuda.is_available():\n",
    "    device = torch.device('cuda')\n",
    "else:\n",
    "    device = torch.device('cpu')"
   ]
  },
  {
   "cell_type": "code",
   "execution_count": null,
   "metadata": {},
   "outputs": [],
   "source": [
    "# Fix cuda memory issue\n",
    "dataset, states, node_states = process_classification_dataset(config, \"DynCRNN\", device)"
   ]
  }
 ],
 "metadata": {
  "kernelspec": {
   "display_name": "mic_koopman",
   "language": "python",
   "name": "python3"
  },
  "language_info": {
   "codemirror_mode": {
    "name": "ipython",
    "version": 3
   },
   "file_extension": ".py",
   "mimetype": "text/x-python",
   "name": "python",
   "nbconvert_exporter": "python",
   "pygments_lexer": "ipython3",
   "version": "3.11.5"
  }
 },
 "nbformat": 4,
 "nbformat_minor": 2
}
