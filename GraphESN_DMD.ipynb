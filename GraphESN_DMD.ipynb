{
 "cells": [
  {
   "cell_type": "code",
   "execution_count": 1,
   "metadata": {},
   "outputs": [],
   "source": [
    "# import argparse\n",
    "import os.path as osp\n",
    "\n",
    "import torch\n",
    "import torch.nn.functional as F\n",
    "\n",
    "from torch_geometric.datasets import TUDataset\n",
    "from torch_geometric.loader import DataLoader\n",
    "# from torch_geometric.logging import init_wandb, log\n",
    "# from torch_geometric.nn import MLP, GINConv, global_add_pool\n",
    "\n",
    "from models.GraphESN import GESNModel"
   ]
  },
  {
   "cell_type": "code",
   "execution_count": 2,
   "metadata": {},
   "outputs": [],
   "source": [
    "if torch.cuda.is_available():\n",
    "    device = torch.device('cuda')\n",
    "else:\n",
    "    device = torch.device('cpu')"
   ]
  },
  {
   "cell_type": "code",
   "execution_count": 3,
   "metadata": {},
   "outputs": [],
   "source": [
    "path = osp.join('dataset', 'TU')\n",
    "dataset = TUDataset(path, name='MUTAG').shuffle()\n",
    "batch_size = 64\n",
    "\n",
    "train_dataset = dataset[len(dataset) // 10:]\n",
    "train_loader = DataLoader(train_dataset, batch_size, shuffle=True)\n",
    "\n",
    "test_dataset = dataset[:len(dataset) // 10]\n",
    "test_loader = DataLoader(test_dataset, batch_size)"
   ]
  },
  {
   "cell_type": "code",
   "execution_count": 4,
   "metadata": {},
   "outputs": [
    {
     "data": {
      "text/plain": [
       "Data(edge_index=[2, 44], x=[21, 7], edge_attr=[44, 4], y=[1])"
      ]
     },
     "execution_count": 4,
     "metadata": {},
     "output_type": "execute_result"
    }
   ],
   "source": [
    "train_dataset[0]"
   ]
  },
  {
   "cell_type": "code",
   "execution_count": 4,
   "metadata": {},
   "outputs": [],
   "source": [
    "input_size = train_dataset[0].x.shape[1]\n",
    "\n",
    "model = GESNModel(input_size, 500, 1, 0.9, 0.9, 0.9, 1., False).to(device)\n",
    "optimizer = torch.optim.Adam(model.parameters(), lr=0.01)"
   ]
  },
  {
   "cell_type": "markdown",
   "metadata": {},
   "source": [
    "Penso che GESNModel sia un dynamic Graph ESN"
   ]
  },
  {
   "cell_type": "code",
   "execution_count": 10,
   "metadata": {},
   "outputs": [
    {
     "ename": "KeyboardInterrupt",
     "evalue": "",
     "output_type": "error",
     "traceback": [
      "\u001b[1;31m---------------------------------------------------------------------------\u001b[0m",
      "\u001b[1;31mRuntimeError\u001b[0m                              Traceback (most recent call last)",
      "    \u001b[1;31m[... skipping hidden 1 frame]\u001b[0m\n",
      "\u001b[1;32mc:\\Users\\mgphy\\GitHub_scripts\\Koopman\\GraphESN_DMD.ipynb Cell 7\u001b[0m line \u001b[0;36m1\n\u001b[1;32m----> <a href='vscode-notebook-cell:/c%3A/Users/mgphy/GitHub_scripts/Koopman/GraphESN_DMD.ipynb#W6sZmlsZQ%3D%3D?line=0'>1</a>\u001b[0m model(train_dataset[\u001b[39m0\u001b[39;49m]\u001b[39m.\u001b[39;49mx\u001b[39m.\u001b[39;49mto(device), train_dataset[\u001b[39m0\u001b[39;49m]\u001b[39m.\u001b[39;49medge_index\u001b[39m.\u001b[39;49mto(device), train_dataset[\u001b[39m0\u001b[39;49m]\u001b[39m.\u001b[39;49medge_attr\u001b[39m.\u001b[39;49mto(device))\n",
      "File \u001b[1;32mc:\\Users\\mgphy\\Anaconda3\\envs\\koopman\\lib\\site-packages\\torch\\nn\\modules\\module.py:1501\u001b[0m, in \u001b[0;36mModule._call_impl\u001b[1;34m(self, *args, **kwargs)\u001b[0m\n\u001b[0;32m   1498\u001b[0m \u001b[39mif\u001b[39;00m \u001b[39mnot\u001b[39;00m (\u001b[39mself\u001b[39m\u001b[39m.\u001b[39m_backward_hooks \u001b[39mor\u001b[39;00m \u001b[39mself\u001b[39m\u001b[39m.\u001b[39m_backward_pre_hooks \u001b[39mor\u001b[39;00m \u001b[39mself\u001b[39m\u001b[39m.\u001b[39m_forward_hooks \u001b[39mor\u001b[39;00m \u001b[39mself\u001b[39m\u001b[39m.\u001b[39m_forward_pre_hooks\n\u001b[0;32m   1499\u001b[0m         \u001b[39mor\u001b[39;00m _global_backward_pre_hooks \u001b[39mor\u001b[39;00m _global_backward_hooks\n\u001b[0;32m   1500\u001b[0m         \u001b[39mor\u001b[39;00m _global_forward_hooks \u001b[39mor\u001b[39;00m _global_forward_pre_hooks):\n\u001b[1;32m-> 1501\u001b[0m     \u001b[39mreturn\u001b[39;00m forward_call(\u001b[39m*\u001b[39margs, \u001b[39m*\u001b[39m\u001b[39m*\u001b[39mkwargs)\n\u001b[0;32m   1502\u001b[0m \u001b[39m# Do not call functions when jit is used\u001b[39;00m\n",
      "File \u001b[1;32mc:\\Users\\mgphy\\GitHub_scripts\\Koopman\\models\\GraphESN.py:189\u001b[0m, in \u001b[0;36mGESNModel.forward\u001b[1;34m(self, x, edge_index, edge_weight)\u001b[0m\n\u001b[0;32m    187\u001b[0m     edge_index \u001b[39m=\u001b[39m SparseTensor(row\u001b[39m=\u001b[39mrow, col\u001b[39m=\u001b[39mcol, value\u001b[39m=\u001b[39medge_weight,\n\u001b[0;32m    188\u001b[0m                               sparse_sizes\u001b[39m=\u001b[39m(x\u001b[39m.\u001b[39msize(\u001b[39m-\u001b[39m\u001b[39m2\u001b[39m), x\u001b[39m.\u001b[39msize(\u001b[39m-\u001b[39m\u001b[39m2\u001b[39m)))\n\u001b[1;32m--> 189\u001b[0m x, _ \u001b[39m=\u001b[39m \u001b[39mself\u001b[39;49m\u001b[39m.\u001b[39;49mreservoir(x, edge_index)\n\u001b[0;32m    190\u001b[0m \u001b[39mreturn\u001b[39;00m x[\u001b[39m0\u001b[39m]\n",
      "File \u001b[1;32mc:\\Users\\mgphy\\Anaconda3\\envs\\koopman\\lib\\site-packages\\torch\\nn\\modules\\module.py:1501\u001b[0m, in \u001b[0;36mModule._call_impl\u001b[1;34m(self, *args, **kwargs)\u001b[0m\n\u001b[0;32m   1498\u001b[0m \u001b[39mif\u001b[39;00m \u001b[39mnot\u001b[39;00m (\u001b[39mself\u001b[39m\u001b[39m.\u001b[39m_backward_hooks \u001b[39mor\u001b[39;00m \u001b[39mself\u001b[39m\u001b[39m.\u001b[39m_backward_pre_hooks \u001b[39mor\u001b[39;00m \u001b[39mself\u001b[39m\u001b[39m.\u001b[39m_forward_hooks \u001b[39mor\u001b[39;00m \u001b[39mself\u001b[39m\u001b[39m.\u001b[39m_forward_pre_hooks\n\u001b[0;32m   1499\u001b[0m         \u001b[39mor\u001b[39;00m _global_backward_pre_hooks \u001b[39mor\u001b[39;00m _global_backward_hooks\n\u001b[0;32m   1500\u001b[0m         \u001b[39mor\u001b[39;00m _global_forward_hooks \u001b[39mor\u001b[39;00m _global_forward_pre_hooks):\n\u001b[1;32m-> 1501\u001b[0m     \u001b[39mreturn\u001b[39;00m forward_call(\u001b[39m*\u001b[39margs, \u001b[39m*\u001b[39m\u001b[39m*\u001b[39mkwargs)\n\u001b[0;32m   1502\u001b[0m \u001b[39m# Do not call functions when jit is used\u001b[39;00m\n",
      "File \u001b[1;32mc:\\Users\\mgphy\\GitHub_scripts\\Koopman\\models\\utils.py:87\u001b[0m, in \u001b[0;36m_GraphRNN.forward\u001b[1;34m(self, x, h, *args, **kwargs)\u001b[0m\n\u001b[0;32m     86\u001b[0m \u001b[39mfor\u001b[39;00m step \u001b[39min\u001b[39;00m \u001b[39mrange\u001b[39m(steps):\n\u001b[1;32m---> 87\u001b[0m     h \u001b[39m=\u001b[39m \u001b[39mself\u001b[39m\u001b[39m.\u001b[39msingle_pass(x[:, step], h, \u001b[39m*\u001b[39margs, \u001b[39m*\u001b[39m\u001b[39m*\u001b[39mkwargs)\n\u001b[0;32m     88\u001b[0m     \u001b[39mif\u001b[39;00m \u001b[39mnot\u001b[39;00m \u001b[39misinstance\u001b[39m(h, torch\u001b[39m.\u001b[39mTensor):\n",
      "File \u001b[1;32mc:\\Users\\mgphy\\GitHub_scripts\\Koopman\\models\\utils.py:73\u001b[0m, in \u001b[0;36m_GraphRNN.single_pass\u001b[1;34m(self, x, h, *args, **kwargs)\u001b[0m\n\u001b[0;32m     72\u001b[0m \u001b[39mfor\u001b[39;00m i, cell \u001b[39min\u001b[39;00m \u001b[39menumerate\u001b[39m(\u001b[39mself\u001b[39m\u001b[39m.\u001b[39mrnn_cells):\n\u001b[1;32m---> 73\u001b[0m     out \u001b[39m=\u001b[39m cell(out, h[i], \u001b[39m*\u001b[39margs, \u001b[39m*\u001b[39m\u001b[39m*\u001b[39mkwargs)\n\u001b[0;32m     74\u001b[0m     h_new\u001b[39m.\u001b[39mappend(out)\n",
      "File \u001b[1;32mc:\\Users\\mgphy\\Anaconda3\\envs\\koopman\\lib\\site-packages\\torch\\nn\\modules\\module.py:1501\u001b[0m, in \u001b[0;36mModule._call_impl\u001b[1;34m(self, *args, **kwargs)\u001b[0m\n\u001b[0;32m   1498\u001b[0m \u001b[39mif\u001b[39;00m \u001b[39mnot\u001b[39;00m (\u001b[39mself\u001b[39m\u001b[39m.\u001b[39m_backward_hooks \u001b[39mor\u001b[39;00m \u001b[39mself\u001b[39m\u001b[39m.\u001b[39m_backward_pre_hooks \u001b[39mor\u001b[39;00m \u001b[39mself\u001b[39m\u001b[39m.\u001b[39m_forward_hooks \u001b[39mor\u001b[39;00m \u001b[39mself\u001b[39m\u001b[39m.\u001b[39m_forward_pre_hooks\n\u001b[0;32m   1499\u001b[0m         \u001b[39mor\u001b[39;00m _global_backward_pre_hooks \u001b[39mor\u001b[39;00m _global_backward_hooks\n\u001b[0;32m   1500\u001b[0m         \u001b[39mor\u001b[39;00m _global_forward_hooks \u001b[39mor\u001b[39;00m _global_forward_pre_hooks):\n\u001b[1;32m-> 1501\u001b[0m     \u001b[39mreturn\u001b[39;00m forward_call(\u001b[39m*\u001b[39margs, \u001b[39m*\u001b[39m\u001b[39m*\u001b[39mkwargs)\n\u001b[0;32m   1502\u001b[0m \u001b[39m# Do not call functions when jit is used\u001b[39;00m\n",
      "File \u001b[1;32mc:\\Users\\mgphy\\GitHub_scripts\\Koopman\\models\\GraphESN.py:96\u001b[0m, in \u001b[0;36mGESNLayer.forward\u001b[1;34m(self, x, h, edge_index, edge_weight)\u001b[0m\n\u001b[0;32m     93\u001b[0m \u001b[39m\u001b[39m\u001b[39m\"\"\"This layer expects a normalized adjacency matrix either in\u001b[39;00m\n\u001b[0;32m     94\u001b[0m \u001b[39medge_index or SparseTensor layout.\"\"\"\u001b[39;00m\n\u001b[0;32m     95\u001b[0m h_new \u001b[39m=\u001b[39m \u001b[39mself\u001b[39m\u001b[39m.\u001b[39mactivation(F\u001b[39m.\u001b[39mlinear(x, \u001b[39mself\u001b[39m\u001b[39m.\u001b[39mw_ih, \u001b[39mself\u001b[39m\u001b[39m.\u001b[39mb_ih) \u001b[39m+\u001b[39m\n\u001b[1;32m---> 96\u001b[0m                         \u001b[39mself\u001b[39;49m\u001b[39m.\u001b[39;49mpropagate(edge_index,\n\u001b[0;32m     97\u001b[0m                                        x\u001b[39m=\u001b[39;49mF\u001b[39m.\u001b[39;49mlinear(h, \u001b[39mself\u001b[39;49m\u001b[39m.\u001b[39;49mw_hh),\n\u001b[0;32m     98\u001b[0m                                        edge_weight\u001b[39m=\u001b[39;49medge_weight))\n\u001b[0;32m     99\u001b[0m h_new \u001b[39m=\u001b[39m (\u001b[39m1\u001b[39m \u001b[39m-\u001b[39m \u001b[39mself\u001b[39m\u001b[39m.\u001b[39malpha) \u001b[39m*\u001b[39m h \u001b[39m+\u001b[39m \u001b[39mself\u001b[39m\u001b[39m.\u001b[39malpha \u001b[39m*\u001b[39m h_new\n",
      "File \u001b[1;32mc:\\Users\\mgphy\\Anaconda3\\envs\\koopman\\lib\\site-packages\\torch_geometric\\nn\\conv\\message_passing.py:435\u001b[0m, in \u001b[0;36mMessagePassing.propagate\u001b[1;34m(self, edge_index, size, **kwargs)\u001b[0m\n\u001b[0;32m    434\u001b[0m         edge_index, msg_aggr_kwargs \u001b[39m=\u001b[39m res\n\u001b[1;32m--> 435\u001b[0m out \u001b[39m=\u001b[39m \u001b[39mself\u001b[39m\u001b[39m.\u001b[39mmessage_and_aggregate(edge_index, \u001b[39m*\u001b[39m\u001b[39m*\u001b[39mmsg_aggr_kwargs)\n\u001b[0;32m    436\u001b[0m \u001b[39mfor\u001b[39;00m hook \u001b[39min\u001b[39;00m \u001b[39mself\u001b[39m\u001b[39m.\u001b[39m_message_and_aggregate_forward_hooks\u001b[39m.\u001b[39mvalues():\n",
      "File \u001b[1;32mc:\\Users\\mgphy\\GitHub_scripts\\Koopman\\models\\GraphESN.py:90\u001b[0m, in \u001b[0;36mGESNLayer.message_and_aggregate\u001b[1;34m(self, adj_t, x)\u001b[0m\n\u001b[0;32m     89\u001b[0m \u001b[39mdef\u001b[39;00m \u001b[39mmessage_and_aggregate\u001b[39m(\u001b[39mself\u001b[39m, adj_t, x):\n\u001b[1;32m---> 90\u001b[0m     \u001b[39mreturn\u001b[39;00m torch_sparse\u001b[39m.\u001b[39;49mmatmul(adj_t, x, reduce\u001b[39m=\u001b[39;49m\u001b[39mself\u001b[39;49m\u001b[39m.\u001b[39;49maggr)\n",
      "File \u001b[1;32mc:\\Users\\mgphy\\Anaconda3\\envs\\koopman\\lib\\site-packages\\torch_sparse\\matmul.py:160\u001b[0m, in \u001b[0;36mmatmul\u001b[1;34m(src, other, reduce)\u001b[0m\n\u001b[0;32m    159\u001b[0m \u001b[39mif\u001b[39;00m \u001b[39misinstance\u001b[39m(other, torch\u001b[39m.\u001b[39mTensor):\n\u001b[1;32m--> 160\u001b[0m     \u001b[39mreturn\u001b[39;00m spmm(src, other, reduce)\n\u001b[0;32m    161\u001b[0m \u001b[39melif\u001b[39;00m \u001b[39misinstance\u001b[39m(other, SparseTensor):\n",
      "File \u001b[1;32mc:\\Users\\mgphy\\Anaconda3\\envs\\koopman\\lib\\site-packages\\torch_sparse\\matmul.py:83\u001b[0m, in \u001b[0;36mspmm\u001b[1;34m(src, other, reduce)\u001b[0m\n\u001b[0;32m     82\u001b[0m \u001b[39mif\u001b[39;00m reduce \u001b[39m==\u001b[39m \u001b[39m'\u001b[39m\u001b[39msum\u001b[39m\u001b[39m'\u001b[39m \u001b[39mor\u001b[39;00m reduce \u001b[39m==\u001b[39m \u001b[39m'\u001b[39m\u001b[39madd\u001b[39m\u001b[39m'\u001b[39m:\n\u001b[1;32m---> 83\u001b[0m     \u001b[39mreturn\u001b[39;00m spmm_sum(src, other)\n\u001b[0;32m     84\u001b[0m \u001b[39melif\u001b[39;00m reduce \u001b[39m==\u001b[39m \u001b[39m'\u001b[39m\u001b[39mmean\u001b[39m\u001b[39m'\u001b[39m:\n",
      "File \u001b[1;32mc:\\Users\\mgphy\\Anaconda3\\envs\\koopman\\lib\\site-packages\\torch_sparse\\matmul.py:27\u001b[0m, in \u001b[0;36mspmm_sum\u001b[1;34m(src, other)\u001b[0m\n\u001b[0;32m     25\u001b[0m     colptr \u001b[39m=\u001b[39m src\u001b[39m.\u001b[39mstorage\u001b[39m.\u001b[39mcolptr()\n\u001b[1;32m---> 27\u001b[0m \u001b[39mreturn\u001b[39;00m torch\u001b[39m.\u001b[39;49mops\u001b[39m.\u001b[39;49mtorch_sparse\u001b[39m.\u001b[39;49mspmm_sum(row, rowptr, col, value, colptr,\n\u001b[0;32m     28\u001b[0m                                        csr2csc, other)\n",
      "File \u001b[1;32mc:\\Users\\mgphy\\Anaconda3\\envs\\koopman\\lib\\site-packages\\torch\\_ops.py:502\u001b[0m, in \u001b[0;36mOpOverloadPacket.__call__\u001b[1;34m(self, *args, **kwargs)\u001b[0m\n\u001b[0;32m    497\u001b[0m \u001b[39mdef\u001b[39;00m \u001b[39m__call__\u001b[39m(\u001b[39mself\u001b[39m, \u001b[39m*\u001b[39margs, \u001b[39m*\u001b[39m\u001b[39m*\u001b[39mkwargs):\n\u001b[0;32m    498\u001b[0m     \u001b[39m# overloading __call__ to ensure torch.ops.foo.bar()\u001b[39;00m\n\u001b[0;32m    499\u001b[0m     \u001b[39m# is still callable from JIT\u001b[39;00m\n\u001b[0;32m    500\u001b[0m     \u001b[39m# We save the function ptr as the `op` attribute on\u001b[39;00m\n\u001b[0;32m    501\u001b[0m     \u001b[39m# OpOverloadPacket to access it here.\u001b[39;00m\n\u001b[1;32m--> 502\u001b[0m     \u001b[39mreturn\u001b[39;00m \u001b[39mself\u001b[39m\u001b[39m.\u001b[39m_op(\u001b[39m*\u001b[39margs, \u001b[39m*\u001b[39m\u001b[39m*\u001b[39mkwargs \u001b[39mor\u001b[39;00m {})\n",
      "\u001b[1;31mRuntimeError\u001b[0m: optional_value.value().dim() == 1 INTERNAL ASSERT FAILED at \"D:\\\\a\\\\pytorch_sparse\\\\pytorch_sparse\\\\csrc\\\\cuda\\\\spmm_cuda.cu\":107, please report a bug to PyTorch. Input mismatch",
      "\nDuring handling of the above exception, another exception occurred:\n",
      "\u001b[1;31mKeyboardInterrupt\u001b[0m                         Traceback (most recent call last)",
      "\u001b[1;31mKeyboardInterrupt\u001b[0m: "
     ]
    }
   ],
   "source": [
    "model(train_dataset[0].x.to(device), train_dataset[0].edge_index.to(device), train_dataset[0].edge_attr.to(device))"
   ]
  },
  {
   "cell_type": "code",
   "execution_count": null,
   "metadata": {},
   "outputs": [],
   "source": []
  }
 ],
 "metadata": {
  "kernelspec": {
   "display_name": "koopman",
   "language": "python",
   "name": "python3"
  },
  "language_info": {
   "codemirror_mode": {
    "name": "ipython",
    "version": 3
   },
   "file_extension": ".py",
   "mimetype": "text/x-python",
   "name": "python",
   "nbconvert_exporter": "python",
   "pygments_lexer": "ipython3",
   "version": "3.9.17"
  },
  "orig_nbformat": 4
 },
 "nbformat": 4,
 "nbformat_minor": 2
}
