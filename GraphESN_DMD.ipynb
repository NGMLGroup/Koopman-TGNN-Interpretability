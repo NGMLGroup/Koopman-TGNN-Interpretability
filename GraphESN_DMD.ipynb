{
 "cells": [
  {
   "cell_type": "code",
   "execution_count": 1,
   "metadata": {},
   "outputs": [],
   "source": [
    "import torch\n",
    "import numpy as np\n",
    "import networkx as nx\n",
    "import torch_geometric\n",
    "import matplotlib.pyplot as plt\n",
    "\n",
    "from torch_geometric.datasets import TUDataset\n",
    "from tqdm import trange\n",
    "\n",
    "from models.GraphESN import GraphESN\n",
    "\n",
    "from DMD.dmd import KANN\n",
    "\n",
    "if torch.cuda.is_available():\n",
    "    device = torch.device('cuda')\n",
    "else:\n",
    "    device = torch.device('cpu')"
   ]
  },
  {
   "cell_type": "code",
   "execution_count": 2,
   "metadata": {},
   "outputs": [],
   "source": [
    "dataset = TUDataset(root='/ESGNN/data/MUTAG', name='MUTAG')\n",
    "# dataset = dataset.shuffle()"
   ]
  },
  {
   "cell_type": "code",
   "execution_count": 3,
   "metadata": {},
   "outputs": [
    {
     "data": {
      "text/plain": [
       "188"
      ]
     },
     "execution_count": 3,
     "metadata": {},
     "output_type": "execute_result"
    }
   ],
   "source": [
    "len(dataset)"
   ]
  },
  {
   "cell_type": "code",
   "execution_count": 4,
   "metadata": {},
   "outputs": [
    {
     "data": {
      "text/plain": [
       "Data(edge_index=[2, 38], x=[17, 7], edge_attr=[38, 4], y=[1])"
      ]
     },
     "execution_count": 4,
     "metadata": {},
     "output_type": "execute_result"
    }
   ],
   "source": [
    "dataset[0]"
   ]
  },
  {
   "cell_type": "code",
   "execution_count": 3,
   "metadata": {},
   "outputs": [
    {
     "data": {
      "image/png": "[encoded data removed]",
      "text/plain": [
       "<Figure size 640x480 with 1 Axes>"
      ]
     },
     "metadata": {},
     "output_type": "display_data"
    }
   ],
   "source": [
    "edge_index = dataset[0]['edge_index']\n",
    "x = dataset[0]['x']\n",
    "data = torch_geometric.data.Data(x=x, edge_index=edge_index)\n",
    "g = torch_geometric.utils.to_networkx(data, to_undirected=True)\n",
    "nx.draw(g)"
   ]
  },
  {
   "cell_type": "code",
   "execution_count": 9,
   "metadata": {},
   "outputs": [
    {
     "data": {
      "text/plain": [
       "tensor([1])"
      ]
     },
     "execution_count": 9,
     "metadata": {},
     "output_type": "execute_result"
    }
   ],
   "source": [
    "dataset[0]['y']"
   ]
  },
  {
   "cell_type": "code",
   "execution_count": 3,
   "metadata": {},
   "outputs": [],
   "source": [
    "model = GraphESN(input_size=7,\n",
    "                hidden_size=100,\n",
    "                steps=50,\n",
    "                input_scaling=1.,\n",
    "                num_layers=1,\n",
    "                leaking_rate=0.9,\n",
    "                spectral_radius=0.9,\n",
    "                density=0.9,\n",
    "                activation='tanh',\n",
    "                alpha_decay=False)\n"
   ]
  },
  {
   "cell_type": "code",
   "execution_count": 4,
   "metadata": {},
   "outputs": [],
   "source": [
    "embs = []\n",
    "for g in dataset:\n",
    "    embs.append(model(g['x'], g['edge_index']).sum(dim=0))\n",
    "embs = torch.stack(embs).to(device)"
   ]
  },
  {
   "cell_type": "code",
   "execution_count": 40,
   "metadata": {},
   "outputs": [
    {
     "data": {
      "text/plain": [
       "torch.Size([188, 100])"
      ]
     },
     "execution_count": 40,
     "metadata": {},
     "output_type": "execute_result"
    }
   ],
   "source": [
    "embs.shape"
   ]
  },
  {
   "cell_type": "code",
   "execution_count": 9,
   "metadata": {},
   "outputs": [
    {
     "name": "stderr",
     "output_type": "stream",
     "text": [
      "100%|██████████| 100/100 [00:06<00:00, 14.71it/s]\n"
     ]
    }
   ],
   "source": [
    "classifier = torch.nn.Sequential(\n",
    "    torch.nn.Linear(model.hidden_size, 2),\n",
    "    torch.nn.Softmax(dim=-1)\n",
    "    ).to(device)\n",
    "\n",
    "optimizer = torch.optim.Adam(classifier.parameters(), lr=0.1)\n",
    "loss_fn = torch.nn.CrossEntropyLoss()\n",
    "epochs = 100\n",
    "classifier.train()\n",
    "losses = []\n",
    "\n",
    "for epoch in trange(epochs):\n",
    "    for i in range(embs.shape[0]//2):\n",
    "        out = classifier(embs[i,:])\n",
    "        optimizer.zero_grad()\n",
    "        loss = loss_fn(out, (dataset[i]['y'].squeeze()/2+0.5).type(torch.LongTensor).to(device))\n",
    "        loss.backward()\n",
    "        optimizer.step()\n",
    "        losses.append(loss)"
   ]
  },
  {
   "cell_type": "code",
   "execution_count": 10,
   "metadata": {},
   "outputs": [
    {
     "name": "stdout",
     "output_type": "stream",
     "text": [
      "0.6063829660415649\n"
     ]
    }
   ],
   "source": [
    "classifier.eval()\n",
    "test = 0\n",
    "\n",
    "for i in range(embs.shape[0]//2,embs.shape[0]):\n",
    "    test += torch.argmax(classifier(embs[i,:]).cpu()) == dataset[i]['y']\n",
    "\n",
    "print(float(test/(embs.shape[0]//2)))"
   ]
  },
  {
   "cell_type": "code",
   "execution_count": 93,
   "metadata": {},
   "outputs": [],
   "source": [
    "koops = []\n",
    "\n",
    "for g in dataset:\n",
    "    _ = model(g['x'], g['edge_index'])\n",
    "    state = model.states\n",
    "    state = torch.stack(state[1:], dim=1)\n",
    "    state = torch.cat([state[k,:,:] for k in range(state.shape[0])], dim=-1)\n",
    "    state = state.unsqueeze(dim=0) # add batch dim\n",
    "\n",
    "    # compute Koopman operator\n",
    "    kann_ = KANN(state.cpu(), k=50, emb='TruncatedSVD')\n",
    "    C = kann_.compute_KOP()\n",
    "    koops.append(C.flatten())\n",
    "\n",
    "koops = torch.from_numpy(np.stack(koops)).to(device)"
   ]
  },
  {
   "cell_type": "code",
   "execution_count": 96,
   "metadata": {},
   "outputs": [
    {
     "data": {
      "text/plain": [
       "torch.Size([188, 2500])"
      ]
     },
     "execution_count": 96,
     "metadata": {},
     "output_type": "execute_result"
    }
   ],
   "source": [
    "koops.shape"
   ]
  },
  {
   "cell_type": "code",
   "execution_count": 104,
   "metadata": {},
   "outputs": [
    {
     "name": "stderr",
     "output_type": "stream",
     "text": [
      "100%|██████████| 100/100 [00:07<00:00, 13.04it/s]\n"
     ]
    }
   ],
   "source": [
    "state_classifier = torch.nn.Sequential(\n",
    "    torch.nn.Linear(koops.shape[1], 2),\n",
    "    torch.nn.Softmax(dim=-1)\n",
    "    ).to(device)\n",
    "\n",
    "state_optimizer = torch.optim.Adam(state_classifier.parameters(), lr=0.01)\n",
    "loss_fn2 = torch.nn.CrossEntropyLoss()\n",
    "epochs = 100\n",
    "state_classifier.train()\n",
    "losses = []\n",
    "\n",
    "for epoch in trange(epochs):\n",
    "    for i in range(koops.shape[0]//2):\n",
    "        out = state_classifier(koops[i,:])\n",
    "        state_optimizer.zero_grad()\n",
    "        loss = loss_fn2(out, (dataset[i]['y'].squeeze()/2+0.5).type(torch.LongTensor).to(device))\n",
    "        loss.backward()\n",
    "        state_optimizer.step()\n",
    "        losses.append(loss)"
   ]
  },
  {
   "cell_type": "code",
   "execution_count": 105,
   "metadata": {},
   "outputs": [
    {
     "name": "stdout",
     "output_type": "stream",
     "text": [
      "0.6063829660415649\n"
     ]
    }
   ],
   "source": [
    "state_classifier.eval()\n",
    "test = 0\n",
    "\n",
    "for i in range(koops.shape[0]//2, koops.shape[0]):\n",
    "    test += torch.argmax(state_classifier(koops[i,:])) == dataset[i]['y'].to(device)\n",
    "\n",
    "print(float(test/(koops.shape[0]//2)))"
   ]
  },
  {
   "cell_type": "markdown",
   "metadata": {},
   "source": []
  },
  {
   "cell_type": "code",
   "execution_count": 4,
   "metadata": {},
   "outputs": [],
   "source": [
    "state = model(dataset[0]['x'], dataset[0]['edge_index'])"
   ]
  },
  {
   "cell_type": "code",
   "execution_count": 9,
   "metadata": {},
   "outputs": [
    {
     "data": {
      "text/plain": [
       "torch.Size([17, 100])"
      ]
     },
     "execution_count": 9,
     "metadata": {},
     "output_type": "execute_result"
    }
   ],
   "source": [
    "state.shape"
   ]
  },
  {
   "cell_type": "code",
   "execution_count": 10,
   "metadata": {},
   "outputs": [
    {
     "data": {
      "text/plain": [
       "11"
      ]
     },
     "execution_count": 10,
     "metadata": {},
     "output_type": "execute_result"
    }
   ],
   "source": [
    "len(model.states)"
   ]
  },
  {
   "cell_type": "code",
   "execution_count": 6,
   "metadata": {},
   "outputs": [
    {
     "data": {
      "text/plain": [
       "torch.Size([17, 100])"
      ]
     },
     "execution_count": 6,
     "metadata": {},
     "output_type": "execute_result"
    }
   ],
   "source": [
    "model.states[0].shape"
   ]
  },
  {
   "cell_type": "code",
   "execution_count": 14,
   "metadata": {},
   "outputs": [],
   "source": [
    "H = torch.stack(model.states[1:], dim=1)\n",
    "H = torch.cat([H[k,:,:] for k in range(H.shape[0])], dim=-1)\n",
    "H = H.unsqueeze(dim=0) # add batch dim"
   ]
  },
  {
   "cell_type": "code",
   "execution_count": 15,
   "metadata": {},
   "outputs": [
    {
     "data": {
      "text/plain": [
       "torch.Size([1, 50, 1700])"
      ]
     },
     "execution_count": 15,
     "metadata": {},
     "output_type": "execute_result"
    }
   ],
   "source": [
    "H.shape"
   ]
  },
  {
   "cell_type": "markdown",
   "metadata": {},
   "source": [
    "- perform SVD on states H\n",
    "- you get new states Zp with smaller dimensions\n",
    "- find Koopman operator C that approximates Zp dynamics"
   ]
  },
  {
   "cell_type": "code",
   "execution_count": 16,
   "metadata": {},
   "outputs": [],
   "source": [
    "# compute Koopman operator\n",
    "kann_ = KANN(H.cpu(), emb=None)\n",
    "C = kann_.compute_KOP()\n",
    "D, V = np.linalg.eig(C)\n",
    "U = np.linalg.inv(V)"
   ]
  },
  {
   "cell_type": "markdown",
   "metadata": {},
   "source": [
    "maybe use this instead to reduce the dimensionality?\n",
    "\n",
    "https://github.com/FilippoMB/Time-series-classification-and-clustering-with-Reservoir-Computing/blob/master/code/tensorPCA.py"
   ]
  },
  {
   "cell_type": "code",
   "execution_count": 19,
   "metadata": {},
   "outputs": [
    {
     "name": "stderr",
     "output_type": "stream",
     "text": [
      "No artists with labels found to put in legend.  Note that artists whose label start with an underscore are ignored when legend() is called with no argument.\n"
     ]
    },
    {
     "data": {
      "image/png": "[encoded data removed]",
      "text/plain": [
       "<Figure size 1000x600 with 1 Axes>"
      ]
     },
     "metadata": {},
     "output_type": "display_data"
    }
   ],
   "source": [
    "plt.figure(figsize=(10,6))\n",
    "t = [i for i in range(H.shape[1]-1)]\n",
    "plt.plot(t, torch.linalg.vector_norm(H[:,:-1,:]-H[:,1:,:], dim=(0,2)))\n",
    "plt.ylabel('time steps')\n",
    "plt.legend()\n",
    "plt.show() "
   ]
  },
  {
   "cell_type": "code",
   "execution_count": 20,
   "metadata": {},
   "outputs": [
    {
     "data": {
      "text/plain": [
       "False"
      ]
     },
     "execution_count": 20,
     "metadata": {},
     "output_type": "execute_result"
    }
   ],
   "source": [
    "np.allclose(C,(V @ np.diag(D) @ U)) # it should return True"
   ]
  },
  {
   "cell_type": "code",
   "execution_count": null,
   "metadata": {},
   "outputs": [],
   "source": [
    "# Q: What's the difference between this and what has ben done above?\n",
    "# A: Matrix C is already squared because states H were already transformed with SVD\n",
    "# so diagonalisation or SVD lead to the same results\n",
    "Un, S, Vh = np.linalg.svd(C)"
   ]
  },
  {
   "cell_type": "code",
   "execution_count": 21,
   "metadata": {},
   "outputs": [
    {
     "data": {
      "image/png": "[encoded data removed]",
      "text/plain": [
       "<Figure size 640x480 with 1 Axes>"
      ]
     },
     "metadata": {},
     "output_type": "display_data"
    }
   ],
   "source": [
    "fig, ax = plt.subplots()\n",
    "# the histogram of the data\n",
    "n, bins, patches = ax.hist(C.flatten(), 40, density=False)\n",
    "\n",
    "plt.show() "
   ]
  },
  {
   "cell_type": "code",
   "execution_count": 22,
   "metadata": {},
   "outputs": [
    {
     "data": {
      "text/plain": [
       "56324"
      ]
     },
     "execution_count": 22,
     "metadata": {},
     "output_type": "execute_result"
    }
   ],
   "source": [
    "(C>0.01).sum()"
   ]
  },
  {
   "cell_type": "markdown",
   "metadata": {},
   "source": [
    "Plot Zp states:\n",
    "- only the first one seems relevant"
   ]
  },
  {
   "cell_type": "code",
   "execution_count": 23,
   "metadata": {},
   "outputs": [
    {
     "data": {
      "text/plain": [
       "torch.Size([1, 50, 1700])"
      ]
     },
     "execution_count": 23,
     "metadata": {},
     "output_type": "execute_result"
    }
   ],
   "source": [
    "kann_.Zp.shape"
   ]
  },
  {
   "cell_type": "code",
   "execution_count": null,
   "metadata": {},
   "outputs": [],
   "source": [
    "# plt.figure(figsize=(10,6))\n",
    "# t = [i for i in range(H.shape[1])]\n",
    "# for n in range(kann_.Zp.shape[-1]):\n",
    "#     plt.plot(t, kann_.Zp.squeeze()[:,n], label=f'{n}')\n",
    "# # plt.yscale('log')\n",
    "# plt.ylabel('time steps')\n",
    "# plt.legend()\n",
    "# plt.show() "
   ]
  },
  {
   "cell_type": "markdown",
   "metadata": {},
   "source": [
    "- the first eigenvalue is the biggest\n",
    "- it's close to 1, so the exponential dynamics doesn't kill it"
   ]
  },
  {
   "cell_type": "code",
   "execution_count": 26,
   "metadata": {},
   "outputs": [
    {
     "data": {
      "text/plain": [
       "(1700,)"
      ]
     },
     "execution_count": 26,
     "metadata": {},
     "output_type": "execute_result"
    }
   ],
   "source": [
    "D.shape"
   ]
  },
  {
   "cell_type": "code",
   "execution_count": 29,
   "metadata": {},
   "outputs": [
    {
     "data": {
      "text/plain": [
       "45"
      ]
     },
     "execution_count": 29,
     "metadata": {},
     "output_type": "execute_result"
    }
   ],
   "source": [
    "(np.absolute(D)>0.8).sum()"
   ]
  },
  {
   "cell_type": "code",
   "execution_count": 25,
   "metadata": {},
   "outputs": [
    {
     "data": {
      "image/png": "[encoded data removed]",
      "text/plain": [
       "<Figure size 500x500 with 1 Axes>"
      ]
     },
     "metadata": {},
     "output_type": "display_data"
    }
   ],
   "source": [
    "plt.figure(figsize=(5,5))\n",
    "plt.scatter(D.real, D.imag)\n",
    "circle = plt.Circle((0, 0), 1, color='r', fill=False)\n",
    "plt.gca().add_patch(circle)\n",
    "plt.ylabel('Imaginary') \n",
    "plt.xlabel('Real')\n",
    "plt.show() "
   ]
  },
  {
   "cell_type": "markdown",
   "metadata": {},
   "source": [
    "Let's approximate Zp dynamics with C"
   ]
  },
  {
   "cell_type": "code",
   "execution_count": 30,
   "metadata": {},
   "outputs": [
    {
     "data": {
      "text/plain": [
       "torch.Size([1, 50, 1700])"
      ]
     },
     "execution_count": 30,
     "metadata": {},
     "output_type": "execute_result"
    }
   ],
   "source": [
    "kann_.Zp.shape"
   ]
  },
  {
   "cell_type": "code",
   "execution_count": 34,
   "metadata": {},
   "outputs": [],
   "source": [
    "first_Z = kann_.Zp.squeeze()[0,:].numpy()\n",
    "newZp = np.stack([C**n @ first_Z for n in range(model.steps)])[np.newaxis,:,:]"
   ]
  },
  {
   "cell_type": "code",
   "execution_count": 36,
   "metadata": {},
   "outputs": [
    {
     "data": {
      "image/png": "[encoded data removed]",
      "text/plain": [
       "<Figure size 1000x600 with 1 Axes>"
      ]
     },
     "metadata": {},
     "output_type": "display_data"
    }
   ],
   "source": [
    "# plot the first one to check\n",
    "\n",
    "plt.figure(figsize=(10,6))\n",
    "t = [i for i in range(H.shape[1])]\n",
    "plt.plot(t, kann_.Zp.squeeze()[:,0], label='True')\n",
    "plt.plot(t, newZp.squeeze()[:,0], label='Simulated')\n",
    "# plt.yscale('log')\n",
    "plt.ylabel('time steps')\n",
    "plt.legend()\n",
    "plt.show() "
   ]
  },
  {
   "cell_type": "code",
   "execution_count": null,
   "metadata": {},
   "outputs": [],
   "source": []
  },
  {
   "cell_type": "markdown",
   "metadata": {},
   "source": []
  },
  {
   "cell_type": "markdown",
   "metadata": {},
   "source": []
  },
  {
   "cell_type": "markdown",
   "metadata": {},
   "source": [
    "Let's project states newZp onto the most important eignvector"
   ]
  },
  {
   "cell_type": "code",
   "execution_count": 58,
   "metadata": {},
   "outputs": [
    {
     "data": {
      "text/plain": [
       "array([1.0062362 , 0.72079212, 0.72079212, 0.42902767, 0.42902767,\n",
       "       0.31037689, 0.31037689, 0.27858445])"
      ]
     },
     "execution_count": 58,
     "metadata": {},
     "output_type": "execute_result"
    }
   ],
   "source": [
    "np.absolute(D)"
   ]
  },
  {
   "cell_type": "code",
   "execution_count": 37,
   "metadata": {},
   "outputs": [
    {
     "data": {
      "text/plain": [
       "(1700,)"
      ]
     },
     "execution_count": 37,
     "metadata": {},
     "output_type": "execute_result"
    }
   ],
   "source": [
    "V[:,0].shape"
   ]
  },
  {
   "cell_type": "code",
   "execution_count": 60,
   "metadata": {},
   "outputs": [],
   "source": [
    "scal = V[:,0].T @ newZp.squeeze().T # scalar product with eigenvector\n",
    "proj = np.stack([V[:,0]*s for s in scal]) # projection on eigenvector\n",
    "proj = proj[np.newaxis, :, :] # add batch dim"
   ]
  },
  {
   "cell_type": "code",
   "execution_count": 61,
   "metadata": {},
   "outputs": [
    {
     "data": {
      "text/plain": [
       "(1, 10, 8)"
      ]
     },
     "execution_count": 61,
     "metadata": {},
     "output_type": "execute_result"
    }
   ],
   "source": [
    "proj.real.shape"
   ]
  },
  {
   "cell_type": "markdown",
   "metadata": {},
   "source": [
    "Then we can recover the original sequence of states"
   ]
  },
  {
   "cell_type": "code",
   "execution_count": 62,
   "metadata": {},
   "outputs": [],
   "source": [
    "recov = kann_.recover_states(proj.real, kann_.k)"
   ]
  },
  {
   "cell_type": "code",
   "execution_count": 63,
   "metadata": {},
   "outputs": [],
   "source": [
    "# recover the right shape\n",
    "new_states = np.stack([recov.squeeze()[:,k*options.dim_hidden:(k+1)*options.dim_hidden] for k in range(recov.shape[-1]//options.dim_hidden)], axis=-1)\n",
    "new_states = torch.tensor(new_states)\n",
    "# add bias, for reasons...\n",
    "final_state_w_bias = torch.cat((new_states[-1,:,:], model.bias * torch.ones(1, new_states[-1,:,:].shape[1], device=model.device)), dim=0)"
   ]
  },
  {
   "cell_type": "code",
   "execution_count": 64,
   "metadata": {},
   "outputs": [
    {
     "data": {
      "text/plain": [
       "tensor([[-8.8677e+13, -8.6985e+13, -6.5358e+13, -8.0969e+13, -8.0395e+13,\n",
       "         -6.5702e+13, -7.8691e+13, -6.7746e+13, -8.7596e+13, -8.6922e+13,\n",
       "         -6.8813e+13, -7.9994e+13, -8.2263e+13, -7.9814e+13, -5.7326e+13,\n",
       "         -5.8948e+13, -5.7479e+13, -6.1286e+13, -2.1879e+13,  1.1953e+14,\n",
       "          1.2132e+14]])"
      ]
     },
     "execution_count": 64,
     "metadata": {},
     "output_type": "execute_result"
    }
   ],
   "source": [
    "# send it through the model\n",
    "model.test_only(final_state_w_bias)"
   ]
  },
  {
   "cell_type": "code",
   "execution_count": 67,
   "metadata": {},
   "outputs": [
    {
     "name": "stdout",
     "output_type": "stream",
     "text": [
      "tensor(0.0952)\n"
     ]
    }
   ],
   "source": [
    "te_acc = torch.sum(torch.sign(model.test_only(final_state_w_bias)) ==\n",
    "                           target[-graph]) / model.test_only(final_state_w_bias).shape[-1]\n",
    "print(te_acc)"
   ]
  },
  {
   "cell_type": "markdown",
   "metadata": {},
   "source": [
    "Can we plot the states back to the original graph?"
   ]
  },
  {
   "cell_type": "code",
   "execution_count": 68,
   "metadata": {},
   "outputs": [
    {
     "name": "stdout",
     "output_type": "stream",
     "text": [
      "tensor([0., 0., 0., 0., 0., 0., 0., 0., 0., 0., 0., 0., 0., 0., 0., 1., 0., 0.,\n",
      "        0., 0., 0.])\n"
     ]
    }
   ],
   "source": [
    "imp = torch.softmax(torch.sum(new_states[-1,:,:],dim=0),dim=0) # numbers are too big\n",
    "print(imp)"
   ]
  },
  {
   "cell_type": "code",
   "execution_count": 69,
   "metadata": {},
   "outputs": [
    {
     "data": {
      "image/png": "[encoded data removed]",
      "text/plain": [
       "<Figure size 640x480 with 1 Axes>"
      ]
     },
     "metadata": {},
     "output_type": "display_data"
    }
   ],
   "source": [
    "edge_index = adj_mats[-graph].to_sparse().indices().cpu()\n",
    "x = node_labels[-graph].cpu()\n",
    "colors = ['r' if n==1.0 else 'b' for n in imp]\n",
    "data = torch_geometric.data.Data(x=x, edge_index=edge_index)\n",
    "g = torch_geometric.utils.to_networkx(data, to_undirected=True)\n",
    "nx.draw(g, node_color=colors)"
   ]
  },
  {
   "cell_type": "code",
   "execution_count": null,
   "metadata": {},
   "outputs": [],
   "source": []
  }
 ],
 "metadata": {
  "kernelspec": {
   "display_name": "koopman",
   "language": "python",
   "name": "python3"
  },
  "language_info": {
   "codemirror_mode": {
    "name": "ipython",
    "version": 3
   },
   "file_extension": ".py",
   "mimetype": "text/x-python",
   "name": "python",
   "nbconvert_exporter": "python",
   "pygments_lexer": "ipython3",
   "version": "3.9.17"
  },
  "orig_nbformat": 4
 },
 "nbformat": 4,
 "nbformat_minor": 2
}
