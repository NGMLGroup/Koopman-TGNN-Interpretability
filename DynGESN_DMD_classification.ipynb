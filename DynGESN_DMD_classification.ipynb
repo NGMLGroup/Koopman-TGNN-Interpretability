{
 "cells": [
  {
   "cell_type": "code",
   "execution_count": 1,
   "metadata": {},
   "outputs": [
    {
     "name": "stderr",
     "output_type": "stream",
     "text": [
      "c:\\Users\\mgphy\\Anaconda3\\envs\\koopman\\lib\\site-packages\\torchaudio\\backend\\utils.py:74: UserWarning: No audio backend is available.\n",
      "  warnings.warn(\"No audio backend is available.\")\n",
      "Seed set to 42\n"
     ]
    }
   ],
   "source": [
    "import torch\n",
    "import pytorch_lightning as pl\n",
    "import random\n",
    "import numpy as np\n",
    "import matplotlib.pyplot as plt\n",
    "\n",
    "from einops import rearrange\n",
    "from tqdm import tqdm\n",
    "from sklearn.model_selection import train_test_split\n",
    "\n",
    "from dataset.utils import process_classification_dataset\n",
    "\n",
    "seed = 42\n",
    "random.seed(seed)\n",
    "torch.manual_seed(seed)\n",
    "np.random.seed(seed)\n",
    "pl.seed_everything(seed)\n",
    "\n",
    "if torch.cuda.is_available():\n",
    "    device = torch.device('cuda')\n",
    "else:\n",
    "    device = torch.device('cpu')"
   ]
  },
  {
   "cell_type": "markdown",
   "metadata": {},
   "source": [
    "# Load & process dataset"
   ]
  },
  {
   "cell_type": "markdown",
   "metadata": {},
   "source": [
    "for more datasets:\n",
    "\n",
    "https://github.com/dtortorella/dyngraphesn/tree/master"
   ]
  },
  {
   "cell_type": "code",
   "execution_count": 2,
   "metadata": {},
   "outputs": [],
   "source": [
    "config = {\n",
    "        'dataset': 'facebook_ct1', # 'infectious_ct1', # \n",
    "        'reservoir_size': 32,\n",
    "        'input_scaling': 0.9,\n",
    "        'reservoir_layers': 5,\n",
    "        'leaking_rate': 0.3,\n",
    "        'spectral_radius': 0.5,\n",
    "        'density': 0.6,\n",
    "        'reservoir_activation': 'tanh',\n",
    "        'alpha_decay': False,\n",
    "        'add_self_loops': False,\n",
    "        'b_leaking_rate': True,\n",
    "        }"
   ]
  },
  {
   "cell_type": "code",
   "execution_count": 3,
   "metadata": {},
   "outputs": [
    {
     "name": "stdout",
     "output_type": "stream",
     "text": [
      "Model saved to models/saved/DynGESN.pt\n",
      "Running DynGESN model...\n"
     ]
    },
    {
     "name": "stderr",
     "output_type": "stream",
     "text": [
      "100%|██████████| 995/995 [02:29<00:00,  6.66it/s]\n"
     ]
    },
    {
     "name": "stdout",
     "output_type": "stream",
     "text": [
      "DynGESN model run complete.\n",
      "Saving results to H5 file...\n",
      "Saved results to H5 file.\n"
     ]
    }
   ],
   "source": [
    "dataset, states = process_classification_dataset(config, device, ignore_file=True, verbose=True)"
   ]
  },
  {
   "cell_type": "markdown",
   "metadata": {},
   "source": [
    "### Train the readout"
   ]
  },
  {
   "cell_type": "code",
   "execution_count": 4,
   "metadata": {},
   "outputs": [],
   "source": [
    "inputs, test_inputs, labels, test_labels = train_test_split(dataset.inputs, dataset.targets, test_size=0.2, random_state=seed)"
   ]
  },
  {
   "cell_type": "code",
   "execution_count": 5,
   "metadata": {},
   "outputs": [
    {
     "name": "stdout",
     "output_type": "stream",
     "text": [
      "Accuracy: 0.9195979899497487\n"
     ]
    }
   ],
   "source": [
    "from sklearn.linear_model import LogisticRegression\n",
    "from sklearn.metrics import accuracy_score\n",
    "\n",
    "# Create the classifier\n",
    "classifier = LogisticRegression(max_iter=5000, random_state=seed)\n",
    "\n",
    "# Train the classifier\n",
    "classifier.fit(inputs, labels)\n",
    "\n",
    "# Test the classifier\n",
    "y_pred = classifier.predict(test_inputs)\n",
    "\n",
    "accuracy = accuracy_score(test_labels, y_pred)\n",
    "print(f\"Accuracy: {accuracy}\")"
   ]
  },
  {
   "cell_type": "markdown",
   "metadata": {},
   "source": [
    "# DMD..."
   ]
  },
  {
   "cell_type": "markdown",
   "metadata": {},
   "source": [
    "## PCA analysis"
   ]
  },
  {
   "cell_type": "markdown",
   "metadata": {},
   "source": [
    "## ... at graph level"
   ]
  },
  {
   "cell_type": "code",
   "execution_count": 6,
   "metadata": {},
   "outputs": [],
   "source": [
    "from DMD.dmd import KANN"
   ]
  },
  {
   "cell_type": "code",
   "execution_count": 7,
   "metadata": {},
   "outputs": [],
   "source": [
    "X = torch.from_numpy(states.inputs).float()"
   ]
  },
  {
   "cell_type": "code",
   "execution_count": 8,
   "metadata": {},
   "outputs": [],
   "source": [
    "dim_red = 5\n",
    "method = 'TruncatedSVD'\n",
    "\n",
    "# compute local Koopman operator\n",
    "train_X, val_X, train_y, val_y = train_test_split(X, states.targets, test_size=0.2, random_state=seed)\n",
    "kann_ = KANN(train_X.cpu(), k=dim_red, emb=method)\n",
    "\n",
    "K0 = kann_.compute_KOP()"
   ]
  },
  {
   "cell_type": "code",
   "execution_count": 9,
   "metadata": {},
   "outputs": [
    {
     "data": {
      "text/plain": [
       "(5, 5)"
      ]
     },
     "execution_count": 9,
     "metadata": {},
     "output_type": "execute_result"
    }
   ],
   "source": [
    "K0.shape"
   ]
  },
  {
   "cell_type": "code",
   "execution_count": 18,
   "metadata": {},
   "outputs": [],
   "source": [
    "pred_X = []\n",
    "s = kann_.emb_engine.transform(val_X[:,0,:])\n",
    "\n",
    "for t in range(val_X.shape[1]):\n",
    "    pred_X.append(kann_.emb_engine.inverse_transform(s))\n",
    "    s = s @ K0\n",
    "\n",
    "pred_X = np.stack(pred_X, axis=1)"
   ]
  },
  {
   "cell_type": "code",
   "execution_count": 19,
   "metadata": {},
   "outputs": [
    {
     "name": "stdout",
     "output_type": "stream",
     "text": [
      "Accuracy: 0.457286432160804\n"
     ]
    }
   ],
   "source": [
    "pred_y = classifier.predict(pred_X[:, -1, :])\n",
    "\n",
    "accuracy = accuracy_score(val_y, pred_y)\n",
    "print(f\"Accuracy: {accuracy}\")"
   ]
  },
  {
   "cell_type": "code",
   "execution_count": 10,
   "metadata": {},
   "outputs": [
    {
     "data": {
      "text/plain": [
       "<matplotlib.colorbar.Colorbar at 0x20e1e0808e0>"
      ]
     },
     "execution_count": 10,
     "metadata": {},
     "output_type": "execute_result"
    },
    {
     "data": {
      "image/png": "[encoded data removed]",
      "text/plain": [
       "<Figure size 640x480 with 2 Axes>"
      ]
     },
     "metadata": {},
     "output_type": "display_data"
    }
   ],
   "source": [
    "plt.imshow(K0)\n",
    "plt.colorbar()"
   ]
  },
  {
   "cell_type": "markdown",
   "metadata": {},
   "source": [
    "Spectrum of Koopman"
   ]
  },
  {
   "cell_type": "code",
   "execution_count": 11,
   "metadata": {},
   "outputs": [],
   "source": [
    "E, V = np.linalg.eig(K0)\n",
    "\n",
    "# sort eigenvalues and eigenvectors\n",
    "idx = np.argsort(np.abs(E))[::-1]\n",
    "E = E[idx]\n",
    "V = V[:, idx]"
   ]
  },
  {
   "cell_type": "code",
   "execution_count": 12,
   "metadata": {},
   "outputs": [
    {
     "data": {
      "image/png": "[encoded data removed]",
      "text/plain": [
       "<Figure size 500x500 with 1 Axes>"
      ]
     },
     "metadata": {},
     "output_type": "display_data"
    }
   ],
   "source": [
    "plt.figure(figsize=(5,5))\n",
    "plt.scatter(E.real, E.imag)\n",
    "circle = plt.Circle((0, 0), 1, color='r', fill=False)\n",
    "plt.gca().add_patch(circle)\n",
    "plt.ylabel('Imaginary') \n",
    "plt.xlabel('Real')\n",
    "plt.show()"
   ]
  },
  {
   "cell_type": "code",
   "execution_count": 34,
   "metadata": {},
   "outputs": [
    {
     "data": {
      "text/plain": [
       "torch.Size([995, 106, 80])"
      ]
     },
     "execution_count": 34,
     "metadata": {},
     "output_type": "execute_result"
    }
   ],
   "source": [
    "X.shape"
   ]
  },
  {
   "cell_type": "markdown",
   "metadata": {},
   "source": [
    "### per sample"
   ]
  },
  {
   "cell_type": "code",
   "execution_count": 7,
   "metadata": {},
   "outputs": [
    {
     "data": {
      "text/plain": [
       "(995,)"
      ]
     },
     "execution_count": 7,
     "metadata": {},
     "output_type": "execute_result"
    }
   ],
   "source": [
    "states.targets.shape"
   ]
  },
  {
   "cell_type": "code",
   "execution_count": 6,
   "metadata": {},
   "outputs": [],
   "source": [
    "from sklearn.model_selection import train_test_split\n",
    "\n",
    "train_X, val_X, train_y, val_y = train_test_split(states.inputs, states.targets, test_size=0.2, random_state=42)"
   ]
  },
  {
   "cell_type": "code",
   "execution_count": 14,
   "metadata": {},
   "outputs": [
    {
     "data": {
      "text/plain": [
       "(796, 106, 160)"
      ]
     },
     "execution_count": 14,
     "metadata": {},
     "output_type": "execute_result"
    }
   ],
   "source": [
    "train_X.shape"
   ]
  },
  {
   "cell_type": "code",
   "execution_count": 7,
   "metadata": {},
   "outputs": [],
   "source": [
    "from DMD.dmd import KANN\n",
    "from sklearn.linear_model import LogisticRegression\n",
    "from sklearn.decomposition import PCA\n",
    "\n",
    "# Dim reduction\n",
    "dim_red = 3\n",
    "pca = PCA(n_components=dim_red)\n",
    "train_X_red = pca.fit_transform(train_X.reshape(-1, train_X.shape[-1]))\n",
    "val_X_red = pca.transform(val_X.reshape(-1, val_X.shape[-1]))\n",
    "\n",
    "train_X_red = rearrange(train_X_red, '(b t) f -> b t f', b = train_X.shape[0], t=train_X.shape[1], f=dim_red)\n",
    "val_X_red = rearrange(val_X_red, '(b t) f -> b t f', b = val_X.shape[0], t=val_X.shape[1], f=dim_red)\n",
    "\n",
    "# Define the classifier\n",
    "Kclassifier = LogisticRegression(max_iter=1000)\n",
    "\n",
    "Ks = []\n",
    "\n",
    "for x in train_X_red:\n",
    "    kann_ = KANN(x[np.newaxis,:,:], k=0, emb=None)\n",
    "    KL = kann_.compute_KOP()\n",
    "    Ks.append(KL.flatten())\n",
    "\n",
    "Ks = np.stack(Ks, axis=0)\n",
    "\n",
    "# Train the classifier\n",
    "Kclassifier.fit(Ks, train_y)\n",
    "\n",
    "# Test the classifier\n",
    "Ks_te = []\n",
    "\n",
    "for x in val_X_red:\n",
    "    kann_ = KANN(x[np.newaxis,:,:], k=0, emb=None)\n",
    "    KL = kann_.compute_KOP()\n",
    "    Ks_te.append(KL.flatten())\n",
    "\n",
    "Ks_te = np.stack(Ks_te, axis=0)\n",
    "y_pred = Kclassifier.predict(Ks_te)"
   ]
  },
  {
   "cell_type": "code",
   "execution_count": 8,
   "metadata": {},
   "outputs": [
    {
     "name": "stdout",
     "output_type": "stream",
     "text": [
      "Accuracy: 0.5778894472361809\n"
     ]
    }
   ],
   "source": [
    "accuracy = accuracy_score(val_y, y_pred)\n",
    "print(f\"Accuracy: {accuracy}\")"
   ]
  },
  {
   "cell_type": "code",
   "execution_count": 16,
   "metadata": {},
   "outputs": [
    {
     "data": {
      "text/plain": [
       "<matplotlib.colorbar.Colorbar at 0x20e220b2d30>"
      ]
     },
     "execution_count": 16,
     "metadata": {},
     "output_type": "execute_result"
    },
    {
     "data": {
      "image/png": "[encoded data removed]",
      "text/plain": [
       "<Figure size 640x480 with 2 Axes>"
      ]
     },
     "metadata": {},
     "output_type": "display_data"
    }
   ],
   "source": [
    "plt.imshow(pca.get_covariance(), cmap='viridis')\n",
    "plt.colorbar()"
   ]
  },
  {
   "cell_type": "code",
   "execution_count": 16,
   "metadata": {},
   "outputs": [
    {
     "data": {
      "text/plain": [
       "(796, 106, 3)"
      ]
     },
     "execution_count": 16,
     "metadata": {},
     "output_type": "execute_result"
    }
   ],
   "source": [
    "train_X_red.shape"
   ]
  },
  {
   "cell_type": "code",
   "execution_count": 17,
   "metadata": {},
   "outputs": [
    {
     "data": {
      "text/plain": [
       "<matplotlib.colorbar.Colorbar at 0x20e405bd850>"
      ]
     },
     "execution_count": 17,
     "metadata": {},
     "output_type": "execute_result"
    },
    {
     "data": {
      "image/png": "[encoded data removed]",
      "text/plain": [
       "<Figure size 640x480 with 2 Axes>"
      ]
     },
     "metadata": {},
     "output_type": "display_data"
    }
   ],
   "source": [
    "plt.imshow(train_X_red.reshape(-1,train_X_red.shape[-1]).T @ train_X_red.reshape(-1,train_X_red.shape[-1]), cmap='viridis')\n",
    "plt.colorbar()"
   ]
  },
  {
   "cell_type": "code",
   "execution_count": 18,
   "metadata": {},
   "outputs": [
    {
     "data": {
      "text/plain": [
       "array([1., 0., 0.], dtype=float32)"
      ]
     },
     "execution_count": 18,
     "metadata": {},
     "output_type": "execute_result"
    }
   ],
   "source": [
    "import scipy\n",
    "\n",
    "diag = (train_X_red.reshape(-1,train_X_red.shape[-1]).T @ train_X_red.reshape(-1,train_X_red.shape[-1])).diagonal()\n",
    "\n",
    "scipy.special.softmax(diag)"
   ]
  },
  {
   "cell_type": "code",
   "execution_count": 9,
   "metadata": {},
   "outputs": [],
   "source": [
    "# Separate the data points based on the label\n",
    "idx0 = train_y == 0\n",
    "idx1 = train_y == 1\n",
    "label_0 = train_X_red[idx0, -1, :2]\n",
    "label_1 = train_X_red[idx1, -1, :2]"
   ]
  },
  {
   "cell_type": "code",
   "execution_count": 10,
   "metadata": {},
   "outputs": [
    {
     "data": {
      "image/png": "[encoded data removed]",
      "text/plain": [
       "<Figure size 640x480 with 1 Axes>"
      ]
     },
     "metadata": {},
     "output_type": "display_data"
    }
   ],
   "source": [
    "plt.scatter(label_0[:, 0], label_0[:, 1], c='blue', label='Label 0')\n",
    "plt.scatter(label_1[:, 0], label_1[:, 1], c='red', label='Label 1')\n",
    "\n",
    "# Add labels and title\n",
    "plt.xlabel('PC 0')\n",
    "plt.ylabel('PC 1')\n",
    "plt.show()"
   ]
  },
  {
   "cell_type": "markdown",
   "metadata": {},
   "source": [
    "PCA only of the last time step"
   ]
  },
  {
   "cell_type": "code",
   "execution_count": 12,
   "metadata": {},
   "outputs": [],
   "source": [
    "# Dim reduction\n",
    "dim_red = 3\n",
    "pca2 = PCA(n_components=dim_red)\n",
    "train_X_red2 = pca2.fit_transform(train_X[:,-1,:])\n",
    "val_X_red2 = pca2.transform(val_X[:,-1,:])"
   ]
  },
  {
   "cell_type": "code",
   "execution_count": 22,
   "metadata": {},
   "outputs": [
    {
     "data": {
      "text/plain": [
       "<matplotlib.colorbar.Colorbar at 0x20e40627e50>"
      ]
     },
     "execution_count": 22,
     "metadata": {},
     "output_type": "execute_result"
    },
    {
     "data": {
      "image/png": "[encoded data removed]",
      "text/plain": [
       "<Figure size 640x480 with 2 Axes>"
      ]
     },
     "metadata": {},
     "output_type": "display_data"
    }
   ],
   "source": [
    "plt.imshow(train_X_red2.T @ train_X_red2, cmap='viridis')\n",
    "plt.colorbar()"
   ]
  },
  {
   "cell_type": "code",
   "execution_count": 23,
   "metadata": {},
   "outputs": [
    {
     "name": "stdout",
     "output_type": "stream",
     "text": [
      "Accuracy: 0.6180904522613065\n"
     ]
    }
   ],
   "source": [
    "# Classify reduced states\n",
    "# Create the classifier\n",
    "classifier2 = LogisticRegression(max_iter=5000, random_state=seed)\n",
    "\n",
    "# Train the classifier\n",
    "classifier2.fit(train_X_red2, train_y)\n",
    "\n",
    "# Test the classifier\n",
    "y_pred = classifier2.predict(val_X_red2)\n",
    "\n",
    "accuracy = accuracy_score(val_y, y_pred)\n",
    "print(f\"Accuracy: {accuracy}\")"
   ]
  },
  {
   "cell_type": "code",
   "execution_count": 13,
   "metadata": {},
   "outputs": [
    {
     "data": {
      "image/png": "[encoded data removed]",
      "text/plain": [
       "<Figure size 1000x1200 with 12 Axes>"
      ]
     },
     "metadata": {},
     "output_type": "display_data"
    }
   ],
   "source": [
    "label_0 = train_X_red2[idx0]\n",
    "label_1 = train_X_red2[idx1]\n",
    "\n",
    "# Create a figure with two subplots\n",
    "fig, axs = plt.subplots(3, 2, figsize=(10, 12))\n",
    "\n",
    "# PC0 vs PC1\n",
    "# Plot the first histogram in the first subplot\n",
    "hist1 = axs[0,0].hist2d(label_0[:, 0], label_0[:, 1], bins=10, cmap='Blues', alpha=0.6)\n",
    "axs[0,0].set_xlabel('PC 0')\n",
    "axs[0,0].set_ylabel('PC 1')\n",
    "axs[0,0].set_title('2D Histogram - Label 0')\n",
    "plt.colorbar(hist1[3], ax=axs[0,0])\n",
    "\n",
    "# Plot the second histogram in the second subplot\n",
    "hist2 = axs[0,1].hist2d(label_1[:, 0], label_1[:, 1], bins=10, cmap='Reds', alpha=0.6)\n",
    "axs[0,1].set_xlabel('PC 0')\n",
    "axs[0,1].set_ylabel('PC 1')\n",
    "axs[0,1].set_title('2D Histogram - Label 1')\n",
    "plt.colorbar(hist2[3], ax=axs[0,1])\n",
    "\n",
    "# PC0 vs PC2\n",
    "# Plot the first histogram in the first subplot\n",
    "hist3 = axs[1,0].hist2d(label_0[:, 0], label_0[:, 2], bins=10, cmap='Blues', alpha=0.6)\n",
    "axs[1,0].set_xlabel('PC 0')\n",
    "axs[1,0].set_ylabel('PC 2')\n",
    "axs[1,0].set_title('2D Histogram - Label 0')\n",
    "plt.colorbar(hist3[3], ax=axs[1,0])\n",
    "\n",
    "# Plot the second histogram in the second subplot\n",
    "hist4 = axs[1,1].hist2d(label_1[:, 0], label_1[:, 2], bins=10, cmap='Reds', alpha=0.6)\n",
    "axs[1,1].set_xlabel('PC 0')\n",
    "axs[1,1].set_ylabel('PC 2')\n",
    "axs[1,1].set_title('2D Histogram - Label 1')\n",
    "plt.colorbar(hist4[3], ax=axs[1,1])\n",
    "\n",
    "# PC1 vs PC2\n",
    "# Plot the first histogram in the first subplot\n",
    "hist5 = axs[2,0].hist2d(label_0[:, 1], label_0[:, 2], bins=10, cmap='Blues', alpha=0.6)\n",
    "axs[2,0].set_xlabel('PC 1')\n",
    "axs[2,0].set_ylabel('PC 2')\n",
    "axs[2,0].set_title('2D Histogram - Label 0')\n",
    "plt.colorbar(hist5[3], ax=axs[2,0])\n",
    "\n",
    "# Plot the second histogram in the second subplot\n",
    "hist6 = axs[2,1].hist2d(label_1[:, 1], label_1[:, 2], bins=10, cmap='Reds', alpha=0.6)\n",
    "axs[2,1].set_xlabel('PC 1')\n",
    "axs[2,1].set_ylabel('PC 2')\n",
    "axs[2,1].set_title('2D Histogram - Label 1')\n",
    "plt.colorbar(hist6[3], ax=axs[2,1])\n",
    "\n",
    "# Adjust the spacing between subplots\n",
    "plt.tight_layout()\n",
    "\n",
    "# Show the plot\n",
    "plt.show()"
   ]
  },
  {
   "cell_type": "code",
   "execution_count": 14,
   "metadata": {},
   "outputs": [
    {
     "data": {
      "application/vnd.plotly.v1+json": {
       "config": {
        "plotlyServerURL": "https://plot.ly"
       },
       "data": [
        {
         "hovertemplate": "label=Label 0<br>PC0=%{x}<br>PC1=%{y}<br>PC2=%{z}<extra></extra>",
         "legendgroup": "Label 0",
         "marker": {
          "color": "#636efa",
          "symbol": "circle"
         },
         "mode": "markers",
         "name": "Label 0",
         "scene": "scene",
         "showlegend": true,
         "type": "scatter3d",
         "x": [
          124.53003,
          144.80489,
          -88.054794,
          139.94574,
          -113.75865,
          -148.09767,
          149.23753,
          127.635506,
          -144.29375,
          -111.824684,
          141.49115,
          107.23213,
          -119.19354,
          119.10143,
          -119.008316,
          129.72472,
          124.61704,
          123.099686,
          129.26561,
          134.05188,
          -105.13252,
          142.91031,
          138.41928,
          130.54002,
          -104.768135,
          115.86224,
          128.11517,
          128.95996,
          8.302375,
          -121.86482,
          -96.2815,
          -65.62632,
          134.15283,
          -84.38514,
          -132.6954,
          -120.87552,
          -44.688053,
          124.977646,
          -126.11405,
          -133.87978,
          147.41168,
          -133.90129,
          -129.0352,
          115.496475,
          -142.66309,
          144.76822,
          -108.498634,
          -65.86907,
          -143.21179,
          24.311,
          94.490845,
          -132.61118,
          139.38641,
          -97.59822,
          -129.01149,
          -144.0247,
          142.42773,
          106.56047,
          132.9139,
          -38.037876,
          -101.198944,
          -34.53025,
          -156.99577,
          138.39923,
          121.60807,
          39.56621,
          -1.2955486,
          -149.24008,
          114.3194,
          -137.69614,
          -99.04967,
          -157.84576,
          131.5079,
          112.72342,
          -126.484985,
          156.09027,
          124.96295,
          132.66699,
          113.255486,
          -133.7029,
          -108.731735,
          105.333595,
          134.97873,
          118.95823,
          126.829124,
          -126.64698,
          68.160164,
          142.9226,
          60.45636,
          -34.116505,
          125.08719,
          -103.75772,
          -88.7404,
          135.2536,
          -90.604805,
          128.88539,
          130.23146,
          30.225967,
          127.61457,
          -94.96983,
          -130.89226,
          119.72439,
          -21.915869,
          136.62509,
          -30.752699,
          146.96587,
          -106.94806,
          -81.00926,
          116.11228,
          -122.88708,
          -139.62169,
          134.30591,
          135.08102,
          123.88287,
          136.39508,
          105.325485,
          143.01668,
          -137.51987,
          -149.7491,
          -71.07107,
          131.11702,
          -119.46193,
          90.11922,
          141.85158,
          -134.27313,
          -115.961136,
          132.86166,
          -119.81945,
          -155.7424,
          128.24078,
          16.096922,
          141.71106,
          -81.80086,
          -132.04541,
          -118.27181,
          137.75401,
          -145.81032,
          -104.72517,
          -142.3884,
          -53.65845,
          140.41649,
          132.146,
          -121.10786,
          -109.44767,
          108.72987,
          133.14725,
          132.9706,
          146.35196,
          89.08654,
          -138.81706,
          141.65576,
          94.51094,
          111.23588,
          138.90028,
          140.08588,
          137.82674,
          -121.74414,
          120.46726,
          123.44029,
          -74.41533,
          -152.37216,
          -57.041218,
          105.423615,
          -76.031044,
          -1.4206948,
          -58.876232,
          127.77883,
          102.62558,
          133.35774,
          43.47881,
          103.79411,
          -47.15211,
          -125.154686,
          135.02403,
          118.2166,
          -126.37919,
          -98.478745,
          -46.186886,
          -88.22226,
          -109.58262,
          -119.042694,
          -55.966896,
          109.72919,
          -115.29263,
          -117.561295,
          -134.06374,
          42.56677,
          -126.941696,
          -74.492966,
          -113.310905,
          125.52518,
          120.389015,
          129.7287,
          -146.43668,
          -104.03274,
          -106.219,
          -116.547264,
          111.2787,
          120.731766,
          121.75761,
          -119.47159,
          -79.279495,
          123.53051,
          104.45235,
          -112.915344,
          44.312286,
          -70.92428,
          -121.76978,
          130.42184,
          125.56781,
          -149.00127,
          -106.345985,
          125.586426,
          62.18267,
          135.8374,
          84.9699,
          125.482414,
          -118.49441,
          -145.4854,
          126.43449,
          -126.34196,
          146.55843,
          131.5908,
          -118.041405,
          -119.81501,
          -16.6835,
          132.2202,
          -119.293655,
          130.01852,
          147.77472,
          -83.50009,
          -2.1306753,
          -136.91676,
          -133.40997,
          133.24292,
          136.13005,
          134.0964,
          -71.494,
          -113.67051,
          13.737889,
          -139.9691,
          -37.511337,
          135.64523,
          -70.52646,
          -123.21186,
          133.4566,
          109.55143,
          87.70158,
          -110.69259,
          -91.78263,
          88.04004,
          -106.69187,
          138.2829,
          109.90586,
          112.50574,
          -87.2844,
          -39.12846,
          138.63138,
          -46.107758,
          100.61579,
          -69.20741,
          134.8088,
          114.97829,
          135.44286,
          130.54758,
          -124.01786,
          -65.11913,
          101.90213,
          135.40996,
          -123.91734,
          147.10106,
          -145.13109,
          -142.43875,
          -121.93942,
          95.0146,
          -106.364044,
          -141.04358,
          111.09028,
          -98.64211,
          -108.32105,
          -127.15769,
          -90.47264,
          -40.443855,
          127.87882,
          -39.953884,
          129.36945,
          128.06609,
          -15.459409,
          119.20181,
          -22.563967,
          20.39554,
          138.7344,
          128.93758,
          145.62935,
          115.7583,
          108.2001,
          -142.20932,
          115.16034,
          135.48712,
          -140.34732,
          -120.59359,
          -131.9721,
          51.273968,
          -136.70602,
          133.5958,
          -141.95885,
          124.03731,
          116.91477,
          121.50939,
          -136.89958,
          131.11508,
          118.80264,
          129.23178,
          111.78011,
          122.02272,
          -24.675123,
          109.81716,
          -136.84717,
          100.46383,
          112.32877,
          120.99808,
          9.257007,
          -135.82507,
          -129.45363,
          -96.50517,
          117.44382,
          108.01557,
          -115.859085,
          -141.06842,
          -128.68765,
          -144.37404,
          -151.04695,
          125.235275,
          -152.2463,
          -137.98795,
          119.99523,
          38.754375,
          119.39563,
          -140.66077,
          -122.01136,
          96.42798,
          -60.724182,
          133.73396,
          -132.72244,
          -74.52209,
          123.062485,
          131.19966,
          -141.32036,
          116.97905,
          104.87682,
          -50.97153,
          -21.411224,
          135.34448,
          126.56115,
          -96.762535,
          -84.67826,
          63.29934,
          130.4642,
          130.97095,
          58.705605,
          106.89592,
          4.010163,
          129.63557,
          -101.79186,
          -101.41364,
          134.33894,
          -97.10663,
          -130.48734,
          135.38223,
          124.12249,
          118.463005,
          -140.64186,
          -77.841545,
          -75.190445,
          -132.20757,
          97.79206,
          19.616144,
          -28.29052,
          26.531322,
          124.099945,
          -130.1236,
          -148.83414,
          -74.17476,
          -131.0252,
          122.43353,
          -141.34184,
          -61.13287,
          117.60928,
          65.07057,
          -141.2325
         ],
         "y": [
          -16.561802,
          -42.13068,
          2.2137325,
          -42.21749,
          -14.453314,
          -23.123838,
          -33.4033,
          39.081017,
          -31.163933,
          30.853088,
          -33.280495,
          -16.512556,
          39.152504,
          -25.717466,
          39.04123,
          31.772058,
          39.86662,
          30.283712,
          -40.756504,
          -41.06923,
          -6.4198356,
          -42.671246,
          -42.461746,
          -15.112851,
          11.976987,
          -13.658323,
          -42.721157,
          -41.281593,
          -10.9861355,
          -33.527767,
          102.41741,
          192.42215,
          -42.710648,
          -33.940464,
          -33.51945,
          12.276349,
          -34.171833,
          -43.216385,
          -34.40448,
          -33.414032,
          29.942595,
          -33.252747,
          29.709717,
          30.343927,
          -32.83375,
          29.980255,
          -34.170555,
          -36.556244,
          -5.9318957,
          -29.451975,
          13.285842,
          -32.994125,
          11.085345,
          40.300594,
          -32.88153,
          -23.153309,
          -41.821644,
          103.65452,
          -32.255474,
          -35.465324,
          112.48425,
          -28.85417,
          -32.811684,
          57.010475,
          -6.3963404,
          -1.753995,
          -38.933723,
          -30.475157,
          -42.563602,
          -33.473934,
          11.398974,
          -32.634453,
          28.551472,
          -41.21619,
          39.78964,
          -42.195805,
          -14.724989,
          -43.521156,
          -6.197018,
          -24.171774,
          1.7733506,
          -42.98352,
          -16.678354,
          -43.12327,
          -42.808887,
          -33.469013,
          -13.057518,
          -6.120271,
          22.34382,
          35.7011,
          29.287622,
          -33.210373,
          129.48174,
          -41.1031,
          76.26572,
          213.1632,
          20.996525,
          -39.121902,
          -43.126904,
          -34.9773,
          40.002777,
          -41.641666,
          -17.954071,
          -41.737904,
          -0.08868893,
          3.751849,
          22.107382,
          1.314039,
          -4.7166586,
          -32.110416,
          -4.8332987,
          2.381241,
          11.977676,
          103.90673,
          11.247629,
          -42.088066,
          184.57396,
          -31.806059,
          -33.036564,
          46.06588,
          -15.232572,
          20.354353,
          -40.929058,
          48.667545,
          -15.230545,
          29.35656,
          -43.092346,
          38.800243,
          -31.049896,
          75.08656,
          -39.122295,
          -5.2979016,
          37.56138,
          -30.255142,
          -33.625507,
          19.376677,
          -31.630579,
          37.631214,
          -4.551964,
          -26.788755,
          40.12414,
          56.909405,
          -24.704002,
          51.30996,
          2.2001882,
          -42.21028,
          31.291716,
          -40.66492,
          22.552832,
          -4.2027493,
          -42.219025,
          -14.390567,
          -34.218132,
          -38.253773,
          -13.945205,
          -42.879356,
          31.8675,
          -16.615986,
          29.283148,
          10.059184,
          -31.480408,
          -35.024647,
          30.242151,
          -7.4715905,
          -2.0083895,
          164.54398,
          12.056497,
          -24.050718,
          -43.22088,
          -30.357334,
          -42.239487,
          -36.810593,
          12.561661,
          -42.235847,
          -15.115507,
          32.024452,
          -32.61708,
          -25.420296,
          10.425726,
          -15.852715,
          -6.1312256,
          27.535568,
          -32.68044,
          29.855927,
          58.042885,
          -33.72426,
          97.4661,
          41.177235,
          -35.030823,
          -34.78226,
          57.88823,
          -43.062473,
          -43.30022,
          -32.51798,
          19.803566,
          2.9372637,
          39.78762,
          -7.1346755,
          -42.439823,
          -40.76081,
          -5.476771,
          2.5360212,
          -6.7668147,
          39.93505,
          -7.0513453,
          -37.73651,
          -8.013443,
          30.008913,
          -42.45138,
          -6.6981726,
          -32.679295,
          29.326847,
          -41.78706,
          -36.491463,
          -42.744255,
          53.300407,
          -43.551132,
          38.752064,
          -32.587757,
          -32.64096,
          39.48089,
          -32.76752,
          10.877098,
          11.913663,
          12.019328,
          18.836803,
          -43.248714,
          38.971245,
          -16.168533,
          -41.41071,
          111.92116,
          26.260374,
          -33.79611,
          -32.75244,
          -15.22406,
          10.423096,
          2.2466216,
          75.821655,
          57.394543,
          -30.23437,
          -5.015665,
          218.62094,
          -42.387135,
          -17.871584,
          41.455708,
          94.24274,
          -5.7018094,
          32.148003,
          -34.42949,
          -34.006905,
          -41.697353,
          2.1844761,
          -41.846928,
          57.017338,
          -7.4588304,
          12.124057,
          -35.725384,
          -43.4741,
          63.386353,
          -22.787336,
          64.40161,
          55.453728,
          -43.23788,
          -41.454914,
          -33.39468,
          11.510146,
          -34.350388,
          -43.779186,
          20.893143,
          -31.39174,
          -41.521328,
          -31.965158,
          -30.54379,
          -33.09243,
          28.463669,
          -33.812153,
          -32.552963,
          -43.31248,
          84.18686,
          38.237366,
          -33.25551,
          -34.024643,
          -35.52412,
          -15.9236145,
          0.10321554,
          -33.560883,
          -42.941566,
          -0.77247083,
          -16.095123,
          -19.740553,
          -40.742893,
          -6.3981934,
          -41.748283,
          40.758766,
          30.504293,
          28.139698,
          -5.0456758,
          -25.858744,
          31.643095,
          -4.693264,
          20.933016,
          -31.299898,
          -40.4916,
          -33.568623,
          -41.984283,
          -32.230583,
          -39.955196,
          46.981842,
          29.544273,
          -32.938324,
          -43.921154,
          3.0167987,
          39.193913,
          -42.73297,
          158.17555,
          -36.611572,
          55.983273,
          -33.396072,
          50.097446,
          -15.55746,
          -6.548065,
          -10.165012,
          -14.651808,
          -15.536491,
          -24.456812,
          29.469822,
          28.391565,
          56.986,
          -33.177162,
          30.15725,
          -32.97501,
          -32.85033,
          19.004982,
          -32.80196,
          -32.621414,
          -41.914703,
          -36.751297,
          10.765335,
          -32.568253,
          -30.886263,
          32.537094,
          192.02019,
          121.03407,
          -33.92264,
          -34.99932,
          -41.63931,
          31.585154,
          -33.27632,
          9.843295,
          -12.578571,
          -9.90992,
          45.1135,
          66.866684,
          11.178841,
          57.239906,
          74.47898,
          70.30145,
          20.485678,
          -32.068565,
          -29.867764,
          -42.67627,
          -37.038868,
          2.9868548,
          -34.160355,
          -34.032703,
          -42.64856,
          -34.887768,
          2.9857612,
          -42.180077,
          -42.191593,
          12.279983,
          -4.7079,
          147.071,
          18.662334,
          -33.030357,
          -42.868847,
          -39.383953,
          -36.535614,
          24.705315,
          -43.92351,
          -14.705945,
          -23.371704,
          129.18896,
          22.276548,
          -41.94082,
          -33.953224,
          26.993458,
          -42.678875,
          -13.017095,
          -4.824741
         ],
         "z": [
          -0.24669263,
          -9.186431,
          -8.099747,
          -6.827417,
          -0.6624007,
          -5.9738336,
          -11.157882,
          -5.643071,
          -3.828966,
          -1.2009711,
          -10.290953,
          -0.241711,
          -5.5009174,
          -0.27820778,
          -6.4282775,
          -3.732917,
          -3.2304506,
          -8.595129,
          -1.9637494,
          -1.4004397,
          -7.3539414,
          -12.74635,
          0.31438762,
          -13.547609,
          4.4234266,
          0.054094713,
          -2.0090892,
          -3.3174887,
          1.3488597,
          0.66936296,
          -2.1191504,
          -5.0175166,
          -5.263366,
          -6.1316023,
          4.7397456,
          6.114833,
          -4.7740254,
          -3.8147304,
          0.78844947,
          -5.2074885,
          -15.053721,
          -9.589827,
          -4.0446644,
          -6.84405,
          -2.2586877,
          -11.014116,
          1.9944301,
          -0.4573271,
          -3.1628313,
          -6.378389,
          -11.310954,
          -4.491378,
          -9.829633,
          3.0404851,
          -5.856426,
          -4.553904,
          -7.6408114,
          8.813694,
          -7.8511252,
          -3.3569696,
          2.9973004,
          3.7889357,
          -5.4004602,
          -8.693941,
          -1.5239491,
          -3.286349,
          -1.1302141,
          0.20838182,
          -3.915468,
          -1.5671862,
          -0.61131775,
          -7.4007425,
          -4.1280193,
          -7.2148266,
          1.0427876,
          -15.3474245,
          2.8156626,
          -3.2148638,
          1.0053191,
          -2.750085,
          -0.48275977,
          6.9790125,
          -1.5166271,
          -3.5047007,
          -6.047325,
          0.7782017,
          -0.68252707,
          -12.113407,
          0.30422375,
          -3.2394748,
          -8.118752,
          -5.6938963,
          -5.869232,
          -12.913351,
          5.209631,
          -10.663663,
          -9.159593,
          -4.3910437,
          -1.5533572,
          -6.576297,
          -3.4653344,
          -3.9508624,
          -2.2349386,
          -4.2106657,
          -3.2683284,
          -5.693567,
          3.26196,
          -2.5703557,
          -5.5032835,
          1.2912556,
          -1.1460882,
          -8.595685,
          -10.593831,
          10.469095,
          -10.098699,
          -3.4920738,
          -5.585692,
          -3.9803538,
          -1.5150983,
          1.1237562,
          -8.241748,
          -2.332913,
          -9.405522,
          -5.090107,
          2.6861196,
          -5.3684664,
          -10.241535,
          -6.1280255,
          -0.39371368,
          -3.8015792,
          -1.9588454,
          -12.246529,
          -8.292564,
          -0.6338904,
          -2.2784574,
          -4.8219156,
          -6.594254,
          -6.057864,
          -6.903351,
          -5.979081,
          -8.410167,
          -5.359666,
          -3.4986541,
          8.857497,
          0.36481747,
          -9.5183,
          -4.7814493,
          -11.172501,
          -4.012885,
          2.9983134,
          -11.861981,
          -1.2734752,
          2.2855074,
          -11.188956,
          -12.062091,
          -7.5557404,
          -3.196411,
          -2.6339808,
          -5.311731,
          -6.143594,
          -3.4875834,
          0.52039295,
          5.354479,
          -0.35064986,
          -3.4835625,
          -5.22757,
          -5.8795295,
          2.305651,
          -5.2831583,
          -7.552443,
          -2.8604038,
          -5.446255,
          -3.5710518,
          1.218316,
          2.6049888,
          0.047619063,
          -1.6357001,
          -5.0369296,
          -1.0628588,
          -0.07675382,
          1.1896322,
          -6.8322754,
          -6.6941957,
          -3.7446227,
          -2.5691192,
          -4.9979243,
          -2.0972095,
          -1.1411135,
          -8.463216,
          1.0355861,
          -1.6142365,
          7.9205523,
          -6.5230656,
          -2.6207743,
          -7.5081925,
          -1.8795128,
          -0.7182829,
          8.200662,
          -2.8733723,
          -6.436859,
          1.3049897,
          -0.7388575,
          2.08785,
          10.644438,
          -1.0011566,
          -3.1962042,
          6.984172,
          -4.5475965,
          1.52842,
          0.4255127,
          -0.86068165,
          -4.0367374,
          -8.948254,
          -2.9933784,
          -6.3765717,
          -0.2629789,
          -1.5864062,
          -5.935471,
          3.826747,
          -2.1327689,
          -7.7781887,
          -15.531692,
          -4.3571725,
          0.22629139,
          -0.85586095,
          2.0246298,
          -5.1388707,
          -7.6252065,
          -4.5193686,
          -10.689218,
          7.3222065,
          -8.604011,
          1.1978333,
          -3.875204,
          -2.9717195,
          -7.872803,
          -5.7221255,
          -3.5811567,
          -4.410883,
          -1.9503082,
          -0.37490985,
          -8.173347,
          -0.6053484,
          -2.4687257,
          -0.626603,
          -4.901876,
          3.020322,
          -0.46184078,
          -4.6744895,
          3.0888789,
          -5.329878,
          -2.8448257,
          -12.559981,
          0.013219201,
          3.1233754,
          1.162033,
          -2.8150785,
          -4.602117,
          -3.9159827,
          -4.278989,
          -1.5729413,
          0.5877001,
          -5.5433555,
          -11.392154,
          -7.269456,
          0.9311244,
          -2.173398,
          8.353718,
          -8.682019,
          9.388655,
          -14.195892,
          -6.1493506,
          2.2287579,
          -6.048401,
          2.7457516,
          -2.050868,
          -4.6505156,
          1.2513436,
          -6.6405554,
          2.4832067,
          -2.3443956,
          -0.33445928,
          -6.766396,
          -7.3950305,
          -2.6151347,
          -4.7639203,
          -5.9419494,
          -2.5575814,
          3.572413,
          -6.19156,
          3.1973162,
          -8.9619875,
          0.10311771,
          -10.677416,
          2.7168126,
          1.210343,
          -6.5727525,
          3.2446568,
          -3.6211302,
          -1.3532078,
          -8.208403,
          -3.1438212,
          -1.3103206,
          -1.355208,
          1.235296,
          0.25138023,
          -1.3160021,
          10.106043,
          -2.40696,
          -3.1324239,
          -4.6839423,
          -6.2033243,
          -4.293283,
          -6.0037327,
          -6.494117,
          -5.8373985,
          3.8107014,
          -3.8914607,
          -0.1154345,
          -0.84298944,
          2.7569463,
          -3.0081997,
          0.9339852,
          1.2785289,
          -0.8928872,
          -2.82981,
          0.9883721,
          0.80952436,
          0.11926731,
          -5.9877934,
          -3.0771441,
          -5.4516234,
          0.3448063,
          -4.954211,
          -4.7444773,
          -5.0430136,
          -5.117538,
          -6.369433,
          4.857986,
          6.868406,
          8.059398,
          -3.7272096,
          -6.805303,
          -2.125567,
          -5.5503235,
          -1.5032526,
          1.9625977,
          0.49218547,
          -1.460827,
          0.31503376,
          2.5503173,
          -4.4985948,
          -8.720779,
          -0.011647008,
          -6.3238964,
          -3.5882244,
          -11.5637045,
          -5.9372296,
          -3.6573029,
          -9.688878,
          -3.6011124,
          -12.137738,
          -0.35562605,
          -1.9958459,
          -6.681257,
          -7.40781,
          -4.3553843,
          -3.6768596,
          -5.5458713,
          -5.7583637,
          3.910114,
          -2.518514,
          -2.9960213,
          0.43700296,
          -6.5073047,
          -4.297769,
          -2.6799226,
          -3.4516714,
          -4.176816,
          -0.26501638,
          -2.3538656,
          -5.678102,
          -5.6226687,
          -1.5152851,
          -3.9336832,
          -0.5863259,
          -3.212634,
          6.891311,
          -8.280814,
          -3.338789
         ]
        },
        {
         "hovertemplate": "label=Label 1<br>PC0=%{x}<br>PC1=%{y}<br>PC2=%{z}<extra></extra>",
         "legendgroup": "Label 1",
         "marker": {
          "color": "#EF553B",
          "symbol": "circle"
         },
         "mode": "markers",
         "name": "Label 1",
         "scene": "scene",
         "showlegend": true,
         "type": "scatter3d",
         "x": [
          78.33226,
          136.8149,
          115.7876,
          -48.781902,
          -119.84654,
          3.2718484,
          80.06326,
          -117.627846,
          -110.76636,
          121.21884,
          -152.11522,
          80.56953,
          -128.24126,
          102.26411,
          -87.74916,
          -142.23253,
          95.70849,
          -126.987755,
          -138.29726,
          -43.05387,
          102.72705,
          -103.74625,
          123.79392,
          -70.72077,
          -116.02767,
          144.16685,
          -90.337425,
          97.19931,
          -117.031,
          -42.452847,
          94.19201,
          -92.97151,
          -122.10787,
          -143.92897,
          -116.14059,
          131.77177,
          -67.067474,
          128.85048,
          107.005775,
          121.75062,
          34.529987,
          45.04658,
          -134.0711,
          -142.20157,
          -134.2187,
          98.339874,
          -115.28083,
          -58.600197,
          117.243515,
          97.865265,
          123.87401,
          -88.93006,
          118.89255,
          -85.4532,
          58.250065,
          -142.84023,
          70.615486,
          26.562836,
          -123.99135,
          -127.81319,
          107.9672,
          -122.85195,
          101.79225,
          -126.29783,
          -125.45102,
          -109.490814,
          -111.41171,
          -116.04046,
          -151.22029,
          66.6252,
          -132.0654,
          87.72813,
          -137.37027,
          -35.96457,
          -122.5377,
          -144.26404,
          50.390335,
          111.68971,
          149.12915,
          -72.69102,
          -115.06598,
          147.87497,
          138.11009,
          -85.54288,
          97.63833,
          108.06544,
          13.068724,
          92.86989,
          85.13825,
          -126.12799,
          -141.19243,
          81.22619,
          -39.99986,
          86.885635,
          -135.91534,
          -128.37358,
          -99.90026,
          -122.05216,
          89.76517,
          -118.05922,
          -52.624157,
          104.035225,
          -124.328,
          -120.59164,
          -143.79204,
          136.08243,
          -119.60736,
          -147.46667,
          117.765915,
          -131.2096,
          0.63214,
          -61.366985,
          -93.44765,
          125.438896,
          39.07838,
          100.84026,
          81.93417,
          23.325771,
          77.04302,
          47.81675,
          -59.15206,
          -76.88368,
          -109.97767,
          -13.571086,
          -146.67268,
          63.862953,
          -42.250103,
          -7.6538124,
          -148.73203,
          -112.996864,
          158.65364,
          -137.56197,
          113.26616,
          83.59526,
          147.77982,
          98.49729,
          104.09238,
          119.50819,
          15.597208,
          -136.17613,
          120.32927,
          -65.508286,
          103.57515,
          -110.674644,
          139.33937,
          -137.99612,
          -91.81592,
          -148.79587,
          122.86883,
          -123.83157,
          132.16273,
          -95.113075,
          99.45929,
          -118.45724,
          -115.53523,
          -118.64043,
          86.364655,
          127.31471,
          -122.2425,
          109.20587,
          123.04094,
          -16.978327,
          -110.25156,
          -120.99083,
          33.686398,
          46.05635,
          116.702255,
          -122.99686,
          -66.23071,
          119.71638,
          98.04328,
          -114.640656,
          -102.01419,
          -72.45555,
          -127.81583,
          48.602814,
          -117.42412,
          -1.6539428,
          -142.78065,
          121.3002,
          108.98673,
          14.291837,
          -148.43292,
          131.06091,
          -128.47966,
          -27.817307,
          113.02278,
          -91.65118,
          -100.5459,
          -38.501003,
          -112.42092,
          -143.1874,
          126.689476,
          129.85704,
          -98.24932,
          -94.22608,
          -132.07487,
          4.0781965,
          145.14973,
          90.25728,
          143.23822,
          -34.538437,
          -54.793484,
          115.32799,
          86.67598,
          -116.386604,
          100.41286,
          61.66676,
          -71.66655,
          -102.658966,
          -149.14037,
          -120.40352,
          141.92363,
          102.69855,
          3.620027,
          22.969296,
          131.1217,
          112.323296,
          -38.54062,
          -137.92676,
          126.77869,
          -100.276215,
          -149.6583,
          157.02443,
          -122.08502,
          -144.85114,
          103.57696,
          -101.41034,
          -134.77997,
          -80.87978,
          130.73793,
          109.371475,
          122.24289,
          -137.91048,
          106.10734,
          -50.755398,
          -120.60983,
          145.18425,
          -128.2365,
          -47.515793,
          55.42849,
          -37.363567,
          44.25915,
          85.081635,
          -130.98473,
          -135.96475,
          -134.68103,
          -109.19436,
          -139.6941,
          107.33532,
          133.86646,
          -144.5233,
          94.98881,
          -125.22232,
          88.7422,
          -99.47194,
          142.2168,
          -110.46817,
          -136.14421,
          -133.9241,
          -43.982487,
          95.45441,
          119.95492,
          -120.10325,
          110.24073,
          -27.968176,
          -147.9193,
          124.86793,
          89.538666,
          82.36377,
          109.83677,
          130.22519,
          90.151924,
          101.88516,
          -135.92236,
          -148.19315,
          -119.34669,
          131.70496,
          117.23915,
          92.337006,
          95.90705,
          -109.27528,
          42.313873,
          62.5871,
          77.14318,
          -95.652794,
          119.13701,
          111.38828,
          -115.026375,
          -125.953896,
          -90.740265,
          -26.697205,
          -115.54242,
          -45.82327,
          107.51395,
          2.7271507,
          85.428085,
          -97.11349,
          121.59407,
          67.157074,
          75.121925,
          -150.14436,
          83.18451,
          -89.61182,
          -97.15948,
          101.66432,
          15.60549,
          61.927303,
          -107.00169,
          96.43809,
          105.02399,
          -126.381325,
          123.82455,
          133.6818,
          -118.1147,
          -29.428606,
          -155.14645,
          -136.05168,
          88.81643,
          -145.0789,
          -66.53044,
          -43.356224,
          -130.26222,
          99.030464,
          -12.120629,
          130.42232,
          120.73677,
          100.50614,
          111.993454,
          8.970887,
          -86.54573,
          118.245834,
          -134.4646,
          -135.07245,
          120.403885,
          138.26015,
          -122.282234,
          92.04597,
          -133.29395,
          103.29508,
          128.6742,
          109.970024,
          -117.45621,
          9.82535,
          96.752914,
          97.65185,
          -118.492615,
          86.57762,
          15.389336,
          -127.79593,
          78.0169,
          139.5233,
          121.19066,
          -122.755135,
          130.57687,
          132.176,
          -70.65618,
          105.05819,
          141.58803,
          -122.39128,
          -153.2853,
          76.36608,
          -86.07971,
          105.61093,
          80.95443,
          -109.939125,
          72.67661,
          12.455759,
          -149.91533,
          -145.82668,
          64.29808,
          -149.81276,
          -129.54239,
          116.61394,
          -59.675762,
          -99.547966,
          127.781166,
          101.41415,
          115.664,
          -104.39041,
          -123.94369,
          -106.186676,
          -131.87714,
          7.8763204,
          99.264565,
          67.601456,
          -109.394714,
          112.93594,
          100.27693,
          -110.340645,
          -138.55943,
          -137.90927,
          61.652916,
          55.61306,
          116.181656,
          -145.60118,
          -141.40692,
          129.82684,
          -94.509315,
          -28.873531,
          -82.59865,
          -138.46875,
          89.79826,
          -124.7965,
          -72.39616,
          126.74959
         ],
         "y": [
          -41.23918,
          28.881702,
          -43.119724,
          16.458076,
          38.095978,
          -41.46843,
          -43.732906,
          47.447742,
          48.058884,
          12.596554,
          -30.069635,
          12.618255,
          39.848328,
          -41.065586,
          27.014368,
          -30.779,
          -25.901152,
          39.369038,
          -23.115643,
          98.82034,
          -17.109667,
          65.49977,
          -14.297067,
          -34.43725,
          -6.372486,
          20.340973,
          -35.008842,
          -26.120226,
          -33.656216,
          -37.723972,
          -41.06645,
          85.42883,
          -33.850273,
          -30.912151,
          -24.567894,
          120.60844,
          -36.005245,
          -16.036436,
          -42.640102,
          -41.33315,
          -41.27003,
          125.145905,
          -4.595378,
          -32.382412,
          -6.024453,
          -40.08964,
          10.263611,
          35.345734,
          32.504177,
          54.45699,
          -44.529465,
          -0.46314645,
          66.02826,
          -35.188587,
          -25.836536,
          -31.38125,
          -38.770493,
          -39.9282,
          -32.598667,
          21.82096,
          -43.9573,
          48.561092,
          -42.801823,
          13.573791,
          -33.167645,
          21.504665,
          3.0328386,
          21.110456,
          -32.74843,
          22.654385,
          -6.0873475,
          11.455359,
          -24.13794,
          -36.49502,
          -6.674369,
          -32.031033,
          -43.494087,
          -42.610744,
          11.18239,
          28.30031,
          -33.433723,
          -14.914558,
          18.827873,
          8.47716,
          -42.46489,
          28.71723,
          -15.788015,
          -43.755257,
          -15.605611,
          -22.562378,
          -15.18813,
          -45.842396,
          15.684909,
          -22.345732,
          -33.559135,
          2.0870848,
          -15.212518,
          1.7643558,
          -44.130966,
          20.160501,
          198.92941,
          75.43842,
          -23.925983,
          -33.088516,
          -13.644358,
          -27.042822,
          47.538258,
          -32.47772,
          55.477913,
          2.751919,
          7.0483885,
          219.39789,
          80.88904,
          -45.50354,
          -43.046333,
          -44.55583,
          5.0510087,
          -25.254553,
          -45.195778,
          10.69186,
          -37.442013,
          -33.32947,
          84.849396,
          -10.253281,
          -32.478905,
          10.625657,
          -9.981903,
          -0.2065353,
          -33.42913,
          2.4334154,
          21.327393,
          -5.531059,
          -18.014029,
          -44.285587,
          21.636656,
          11.759734,
          30.933407,
          -17.81652,
          -11.758726,
          11.454951,
          9.964842,
          -34.7495,
          -6.2226596,
          -34.310394,
          31.94024,
          -25.669579,
          -35.746494,
          -31.374695,
          37.138042,
          -33.493484,
          -7.5690756,
          -8.0569,
          -42.77228,
          -7.0455003,
          1.8418343,
          38.57911,
          -43.690704,
          -25.311283,
          2.0431354,
          28.072956,
          -34.748642,
          -39.416172,
          -7.307685,
          -33.499367,
          -41.491985,
          31.627325,
          -45.55099,
          39.602127,
          -35.86027,
          -13.84725,
          28.294449,
          28.938116,
          37.412777,
          27.73831,
          21.025618,
          23.34152,
          -7.479647,
          -38.50164,
          -3.9580014,
          28.90267,
          219.8414,
          80.09701,
          -31.532223,
          -33.930794,
          2.6646848,
          14.991942,
          -39.525917,
          -6.758616,
          36.35304,
          36.04747,
          57.47372,
          -30.238718,
          2.2436717,
          -17.327734,
          38.746807,
          -36.879597,
          22.0834,
          -20.066082,
          20.555208,
          0.08339207,
          -14.934006,
          -38.24614,
          -7.9526534,
          29.415379,
          -6.8752394,
          56.996223,
          -15.840835,
          -0.84932303,
          19.685362,
          -34.224243,
          -32.58072,
          2.7463467,
          2.3101904,
          30.69788,
          30.388739,
          29.976389,
          56.120033,
          47.436275,
          98.99815,
          3.9648254,
          2.6489801,
          36.373276,
          -31.710707,
          48.299755,
          12.211122,
          -32.715485,
          -35.36457,
          0.9979133,
          -32.719772,
          63.732418,
          -6.548681,
          -17.231117,
          56.52009,
          -32.138573,
          -44.55584,
          1.4474599,
          -35.041615,
          -7.4960895,
          -31.77502,
          7.7954335,
          -41.103615,
          -39.421654,
          -43.70688,
          -44.911552,
          3.1182878,
          -32.085075,
          -6.3608184,
          -24.388054,
          -24.12193,
          -17.2108,
          20.635742,
          -33.148106,
          28.72498,
          -32.706604,
          10.941625,
          -33.233578,
          21.019,
          49.364372,
          4.10698,
          12.585492,
          -0.9579177,
          9.264605,
          129.10526,
          57.433422,
          28.987087,
          -31.899672,
          -32.676704,
          29.37114,
          28.012047,
          -14.940363,
          93.03971,
          212.43604,
          -42.186996,
          10.086929,
          3.9721918,
          -33.16636,
          20.267984,
          10.473581,
          9.7737665,
          183.2407,
          60.021477,
          38.842617,
          -17.721146,
          -43.41546,
          -40.808243,
          112.28178,
          -44.50474,
          183.18315,
          21.135124,
          -31.669724,
          56.09265,
          -38.236225,
          48.983444,
          188.43513,
          -44.722828,
          32.180935,
          -13.556291,
          -6.4760895,
          -42.930702,
          -44.214912,
          -40.282528,
          -32.233753,
          -35.033363,
          19.720625,
          -27.3386,
          -46.291294,
          -38.478455,
          -45.141525,
          86.58703,
          83.82903,
          -6.2663436,
          -33.794006,
          11.126814,
          -42.986156,
          2.992603,
          34.349888,
          -33.076263,
          -33.35826,
          -6.7597437,
          -22.67727,
          -28.649582,
          8.425771,
          -32.648926,
          91.49752,
          -37.91652,
          20.93762,
          -5.9990273,
          66.75483,
          -45.08727,
          -38.98794,
          -8.560492,
          11.368337,
          -34.92328,
          -5.212381,
          -43.574787,
          -43.284264,
          22.710932,
          53.93535,
          -4.9228935,
          47.263718,
          -39.489117,
          -7.243315,
          29.511702,
          -9.977099,
          30.599667,
          -12.035812,
          -5.4066725,
          -13.262307,
          8.399861,
          30.17043,
          -13.674333,
          20.833342,
          28.805529,
          -5.260352,
          -43.164825,
          19.798332,
          12.417942,
          -41.762623,
          29.71447,
          56.181965,
          -33.066555,
          -44.21045,
          -7.2929697,
          -44.190567,
          -35.00657,
          10.882431,
          -46.102562,
          29.828684,
          -31.568235,
          -31.489065,
          12.476251,
          -31.819601,
          12.261206,
          2.1261783,
          0.7302542,
          39.20133,
          -43.453663,
          -43.609608,
          -42.77735,
          101.2359,
          3.014679,
          15.836683,
          13.472746,
          -40.499622,
          46.891994,
          -42.37789,
          -34.59849,
          39.446728,
          18.704985,
          -34.943253,
          -32.80645,
          -4.966484,
          -16.595154,
          23.776855,
          37.059483,
          -32.697098,
          -33.79678,
          120.20565,
          111.82878,
          -12.289154,
          -7.4291453,
          -5.9150376,
          -6.5571814,
          4.764733,
          9.92401,
          -16.465385
         ],
         "z": [
          8.909474,
          -9.022433,
          5.228776,
          23.243143,
          -2.39441,
          18.49772,
          13.74017,
          -4.2658362,
          2.3940105,
          -10.204432,
          -3.59721,
          11.590003,
          0.6584103,
          -8.770098,
          4.3261514,
          -0.030343462,
          13.6450815,
          1.716923,
          -6.0409746,
          3.1301017,
          17.79775,
          -5.9958267,
          -4.1102643,
          -0.9379681,
          -2.8715196,
          -6.430224,
          -5.194714,
          12.037567,
          -5.5719543,
          4.5981917,
          15.918204,
          -0.87559336,
          2.0950642,
          0.8692825,
          3.1774206,
          -3.6243002,
          -3.0007737,
          2.9018497,
          -0.49848047,
          -10.35302,
          4.5864177,
          -5.0352683,
          0.6635908,
          0.3874976,
          6.5200872,
          -5.990207,
          4.925924,
          4.515967,
          -1.9841733,
          14.604325,
          -0.44172394,
          8.838347,
          -1.8255798,
          -5.470297,
          15.694941,
          -1.4690936,
          7.96566,
          1.269628,
          -8.25769,
          2.3052988,
          4.948367,
          -7.3444424,
          7.230342,
          -0.8799064,
          -8.502558,
          2.5345242,
          -6.611048,
          6.6949644,
          -5.685991,
          -4.529773,
          -0.3685292,
          15.172505,
          -3.2235134,
          4.7908483,
          -5.321058,
          -2.943303,
          22.556643,
          -6.7815104,
          -15.334032,
          -4.66072,
          2.0594442,
          -11.811627,
          -2.5026612,
          15.456975,
          9.5577,
          2.857878,
          25.757675,
          9.215226,
          8.473774,
          -2.348762,
          5.910883,
          21.094519,
          8.329929,
          -0.34338623,
          -2.768525,
          0.7738194,
          -3.901405,
          3.3783166,
          16.426489,
          -5.3737493,
          12.88459,
          0.11355109,
          0.6118438,
          -0.21795882,
          -2.6377523,
          -0.5908856,
          -3.9909782,
          6.5720882,
          6.038061,
          -3.942043,
          34.621006,
          -7.3686366,
          11.274367,
          5.2809725,
          21.307325,
          7.266469,
          13.06114,
          13.314301,
          18.904392,
          28.260124,
          12.200936,
          -0.88969797,
          -7.440717,
          -3.1374762,
          3.7704473,
          22.27676,
          0.7245469,
          5.9914575,
          -0.110962816,
          5.665016,
          -16.861282,
          -6.612272,
          11.147343,
          10.276671,
          -12.751423,
          11.2096405,
          5.9082556,
          7.983973,
          -6.9325523,
          2.6826484,
          -2.7146242,
          -4.81826,
          -1.0717036,
          -0.097385935,
          -14.954065,
          14.694789,
          10.986056,
          -0.14098461,
          0.27449718,
          -4.272671,
          -1.6408578,
          -3.500154,
          2.646332,
          -1.441117,
          -0.33431518,
          -6.784616,
          14.438933,
          -1.0812725,
          4.9084644,
          16.463865,
          2.1353092,
          14.774715,
          7.310751,
          0.7505974,
          26.657055,
          14.679409,
          7.7956786,
          -1.4272364,
          -3.7681575,
          -7.204544,
          15.432373,
          -0.56242657,
          -0.24358302,
          10.583413,
          1.2640694,
          -5.373506,
          7.840224,
          4.9393854,
          -6.2297473,
          -1.8355076,
          8.228267,
          5.0051537,
          1.2483683,
          -3.280496,
          -1.2578874,
          19.18336,
          1.2153935,
          -0.17203592,
          23.855059,
          7.567011,
          -5.415511,
          0.3489004,
          1.1001661,
          1.5911211,
          0.58952385,
          5.3893833,
          -5.5194063,
          3.943656,
          -10.229043,
          21.423653,
          -15.108809,
          3.3797839,
          -10.819094,
          -1.5557082,
          6.5888777,
          -3.7348104,
          10.791172,
          31.85613,
          -6.563703,
          -0.54322106,
          -1.6686821,
          -5.5195436,
          -11.367987,
          7.7513385,
          34.706818,
          32.174683,
          -2.1615324,
          1.9242691,
          0.58676386,
          -4.8527756,
          -8.256967,
          23.927488,
          4.436932,
          -16.697542,
          -7.255776,
          -5.7953014,
          9.350702,
          4.155758,
          -0.015547459,
          1.2263983,
          -4.862312,
          5.711442,
          -0.09481918,
          -3.7691302,
          6.365681,
          -9.638825,
          -2.3586628,
          -7.000329,
          2.0260136,
          14.8867445,
          -0.113349766,
          5.6137223,
          22.961523,
          22.82878,
          -4.909747,
          -2.7899961,
          10.0244055,
          1.1493821,
          -4.2169995,
          11.220132,
          -7.829604,
          -2.3500924,
          23.489225,
          -4.9688935,
          7.628932,
          -8.366836,
          -10.723671,
          -4.8053975,
          -1.0439669,
          5.744784,
          -0.91181153,
          9.645458,
          8.498646,
          1.5961202,
          0.8186133,
          17.915037,
          1.1424544,
          1.8813448,
          9.137509,
          0.90918076,
          4.8124075,
          -8.163256,
          -2.179725,
          0.5275572,
          -0.7185175,
          0.64423025,
          -6.8014054,
          -5.4322195,
          7.321151,
          13.295612,
          -3.2667558,
          2.8063035,
          26.304588,
          15.002553,
          12.758988,
          5.6383348,
          1.362413,
          7.6031713,
          -4.6831923,
          0.39985693,
          2.9563053,
          0.18574396,
          -5.475277,
          13.634986,
          6.559843,
          6.3811173,
          7.3786683,
          0.21901815,
          -9.327853,
          28.082357,
          15.464051,
          -2.680749,
          9.636205,
          -2.024493,
          13.972614,
          14.548666,
          -0.41594717,
          18.493826,
          -0.7968517,
          11.446954,
          -2.4458854,
          -6.3195744,
          -1.3363959,
          -7.30184,
          -3.8247113,
          -4.172775,
          -1.5352734,
          -0.36789277,
          5.14261,
          0.9255893,
          13.920482,
          -3.932714,
          0.264347,
          15.182846,
          -3.8872166,
          -9.331376,
          2.8462188,
          12.612756,
          7.7716956,
          -6.1147337,
          3.2529886,
          -5.726002,
          13.205184,
          -1.28053,
          4.7716327,
          -6.705314,
          2.4582582,
          22.458551,
          -0.48088357,
          12.235343,
          -6.75544,
          9.803183,
          -5.103076,
          41.023346,
          14.614769,
          -3.725916,
          0.78354686,
          -8.214308,
          -0.98328537,
          -4.500379,
          6.169949,
          -9.329505,
          -4.410931,
          -7.5183625,
          -10.042238,
          -2.3718555,
          -0.9140228,
          1.3177688,
          -13.774958,
          -1.0457385,
          1.0563434,
          17.18452,
          -4.2226553,
          8.534283,
          12.174309,
          -0.069996074,
          29.443155,
          23.719652,
          -1.631324,
          -7.2756643,
          22.464256,
          -1.5470014,
          5.871825,
          9.460234,
          -5.7350006,
          6.995254,
          -3.8744667,
          3.6627202,
          -4.7521396,
          2.1815815,
          -3.3368676,
          4.0497203,
          1.6876911,
          19.857315,
          16.100708,
          8.929724,
          -5.090178,
          2.066165,
          9.529599,
          9.335022,
          -5.057281,
          2.2159975,
          19.433178,
          -11.081016,
          2.0983558,
          -7.6631093,
          -0.09755999,
          -3.0212126,
          8.234787,
          16.700497,
          -0.5028081,
          -2.0343473,
          3.8723752,
          -3.8762467,
          -1.8008267,
          -0.17111397
         ]
        }
       ],
       "layout": {
        "legend": {
         "title": {
          "text": "label"
         },
         "tracegroupgap": 0
        },
        "margin": {
         "t": 60
        },
        "scene": {
         "domain": {
          "x": [
           0,
           1
          ],
          "y": [
           0,
           1
          ]
         },
         "xaxis": {
          "title": {
           "text": "PC0"
          }
         },
         "yaxis": {
          "title": {
           "text": "PC1"
          }
         },
         "zaxis": {
          "title": {
           "text": "PC2"
          }
         }
        },
        "template": {
         "data": {
          "bar": [
           {
            "error_x": {
             "color": "#2a3f5f"
            },
            "error_y": {
             "color": "#2a3f5f"
            },
            "marker": {
             "line": {
              "color": "#E5ECF6",
              "width": 0.5
             },
             "pattern": {
              "fillmode": "overlay",
              "size": 10,
              "solidity": 0.2
             }
            },
            "type": "bar"
           }
          ],
          "barpolar": [
           {
            "marker": {
             "line": {
              "color": "#E5ECF6",
              "width": 0.5
             },
             "pattern": {
              "fillmode": "overlay",
              "size": 10,
              "solidity": 0.2
             }
            },
            "type": "barpolar"
           }
          ],
          "carpet": [
           {
            "aaxis": {
             "endlinecolor": "#2a3f5f",
             "gridcolor": "white",
             "linecolor": "white",
             "minorgridcolor": "white",
             "startlinecolor": "#2a3f5f"
            },
            "baxis": {
             "endlinecolor": "#2a3f5f",
             "gridcolor": "white",
             "linecolor": "white",
             "minorgridcolor": "white",
             "startlinecolor": "#2a3f5f"
            },
            "type": "carpet"
           }
          ],
          "choropleth": [
           {
            "colorbar": {
             "outlinewidth": 0,
             "ticks": ""
            },
            "type": "choropleth"
           }
          ],
          "contour": [
           {
            "colorbar": {
             "outlinewidth": 0,
             "ticks": ""
            },
            "colorscale": [
             [
              0,
              "#0d0887"
             ],
             [
              0.1111111111111111,
              "#46039f"
             ],
             [
              0.2222222222222222,
              "#7201a8"
             ],
             [
              0.3333333333333333,
              "#9c179e"
             ],
             [
              0.4444444444444444,
              "#bd3786"
             ],
             [
              0.5555555555555556,
              "#d8576b"
             ],
             [
              0.6666666666666666,
              "#ed7953"
             ],
             [
              0.7777777777777778,
              "#fb9f3a"
             ],
             [
              0.8888888888888888,
              "#fdca26"
             ],
             [
              1,
              "#f0f921"
             ]
            ],
            "type": "contour"
           }
          ],
          "contourcarpet": [
           {
            "colorbar": {
             "outlinewidth": 0,
             "ticks": ""
            },
            "type": "contourcarpet"
           }
          ],
          "heatmap": [
           {
            "colorbar": {
             "outlinewidth": 0,
             "ticks": ""
            },
            "colorscale": [
             [
              0,
              "#0d0887"
             ],
             [
              0.1111111111111111,
              "#46039f"
             ],
             [
              0.2222222222222222,
              "#7201a8"
             ],
             [
              0.3333333333333333,
              "#9c179e"
             ],
             [
              0.4444444444444444,
              "#bd3786"
             ],
             [
              0.5555555555555556,
              "#d8576b"
             ],
             [
              0.6666666666666666,
              "#ed7953"
             ],
             [
              0.7777777777777778,
              "#fb9f3a"
             ],
             [
              0.8888888888888888,
              "#fdca26"
             ],
             [
              1,
              "#f0f921"
             ]
            ],
            "type": "heatmap"
           }
          ],
          "heatmapgl": [
           {
            "colorbar": {
             "outlinewidth": 0,
             "ticks": ""
            },
            "colorscale": [
             [
              0,
              "#0d0887"
             ],
             [
              0.1111111111111111,
              "#46039f"
             ],
             [
              0.2222222222222222,
              "#7201a8"
             ],
             [
              0.3333333333333333,
              "#9c179e"
             ],
             [
              0.4444444444444444,
              "#bd3786"
             ],
             [
              0.5555555555555556,
              "#d8576b"
             ],
             [
              0.6666666666666666,
              "#ed7953"
             ],
             [
              0.7777777777777778,
              "#fb9f3a"
             ],
             [
              0.8888888888888888,
              "#fdca26"
             ],
             [
              1,
              "#f0f921"
             ]
            ],
            "type": "heatmapgl"
           }
          ],
          "histogram": [
           {
            "marker": {
             "pattern": {
              "fillmode": "overlay",
              "size": 10,
              "solidity": 0.2
             }
            },
            "type": "histogram"
           }
          ],
          "histogram2d": [
           {
            "colorbar": {
             "outlinewidth": 0,
             "ticks": ""
            },
            "colorscale": [
             [
              0,
              "#0d0887"
             ],
             [
              0.1111111111111111,
              "#46039f"
             ],
             [
              0.2222222222222222,
              "#7201a8"
             ],
             [
              0.3333333333333333,
              "#9c179e"
             ],
             [
              0.4444444444444444,
              "#bd3786"
             ],
             [
              0.5555555555555556,
              "#d8576b"
             ],
             [
              0.6666666666666666,
              "#ed7953"
             ],
             [
              0.7777777777777778,
              "#fb9f3a"
             ],
             [
              0.8888888888888888,
              "#fdca26"
             ],
             [
              1,
              "#f0f921"
             ]
            ],
            "type": "histogram2d"
           }
          ],
          "histogram2dcontour": [
           {
            "colorbar": {
             "outlinewidth": 0,
             "ticks": ""
            },
            "colorscale": [
             [
              0,
              "#0d0887"
             ],
             [
              0.1111111111111111,
              "#46039f"
             ],
             [
              0.2222222222222222,
              "#7201a8"
             ],
             [
              0.3333333333333333,
              "#9c179e"
             ],
             [
              0.4444444444444444,
              "#bd3786"
             ],
             [
              0.5555555555555556,
              "#d8576b"
             ],
             [
              0.6666666666666666,
              "#ed7953"
             ],
             [
              0.7777777777777778,
              "#fb9f3a"
             ],
             [
              0.8888888888888888,
              "#fdca26"
             ],
             [
              1,
              "#f0f921"
             ]
            ],
            "type": "histogram2dcontour"
           }
          ],
          "mesh3d": [
           {
            "colorbar": {
             "outlinewidth": 0,
             "ticks": ""
            },
            "type": "mesh3d"
           }
          ],
          "parcoords": [
           {
            "line": {
             "colorbar": {
              "outlinewidth": 0,
              "ticks": ""
             }
            },
            "type": "parcoords"
           }
          ],
          "pie": [
           {
            "automargin": true,
            "type": "pie"
           }
          ],
          "scatter": [
           {
            "fillpattern": {
             "fillmode": "overlay",
             "size": 10,
             "solidity": 0.2
            },
            "type": "scatter"
           }
          ],
          "scatter3d": [
           {
            "line": {
             "colorbar": {
              "outlinewidth": 0,
              "ticks": ""
             }
            },
            "marker": {
             "colorbar": {
              "outlinewidth": 0,
              "ticks": ""
             }
            },
            "type": "scatter3d"
           }
          ],
          "scattercarpet": [
           {
            "marker": {
             "colorbar": {
              "outlinewidth": 0,
              "ticks": ""
             }
            },
            "type": "scattercarpet"
           }
          ],
          "scattergeo": [
           {
            "marker": {
             "colorbar": {
              "outlinewidth": 0,
              "ticks": ""
             }
            },
            "type": "scattergeo"
           }
          ],
          "scattergl": [
           {
            "marker": {
             "colorbar": {
              "outlinewidth": 0,
              "ticks": ""
             }
            },
            "type": "scattergl"
           }
          ],
          "scattermapbox": [
           {
            "marker": {
             "colorbar": {
              "outlinewidth": 0,
              "ticks": ""
             }
            },
            "type": "scattermapbox"
           }
          ],
          "scatterpolar": [
           {
            "marker": {
             "colorbar": {
              "outlinewidth": 0,
              "ticks": ""
             }
            },
            "type": "scatterpolar"
           }
          ],
          "scatterpolargl": [
           {
            "marker": {
             "colorbar": {
              "outlinewidth": 0,
              "ticks": ""
             }
            },
            "type": "scatterpolargl"
           }
          ],
          "scatterternary": [
           {
            "marker": {
             "colorbar": {
              "outlinewidth": 0,
              "ticks": ""
             }
            },
            "type": "scatterternary"
           }
          ],
          "surface": [
           {
            "colorbar": {
             "outlinewidth": 0,
             "ticks": ""
            },
            "colorscale": [
             [
              0,
              "#0d0887"
             ],
             [
              0.1111111111111111,
              "#46039f"
             ],
             [
              0.2222222222222222,
              "#7201a8"
             ],
             [
              0.3333333333333333,
              "#9c179e"
             ],
             [
              0.4444444444444444,
              "#bd3786"
             ],
             [
              0.5555555555555556,
              "#d8576b"
             ],
             [
              0.6666666666666666,
              "#ed7953"
             ],
             [
              0.7777777777777778,
              "#fb9f3a"
             ],
             [
              0.8888888888888888,
              "#fdca26"
             ],
             [
              1,
              "#f0f921"
             ]
            ],
            "type": "surface"
           }
          ],
          "table": [
           {
            "cells": {
             "fill": {
              "color": "#EBF0F8"
             },
             "line": {
              "color": "white"
             }
            },
            "header": {
             "fill": {
              "color": "#C8D4E3"
             },
             "line": {
              "color": "white"
             }
            },
            "type": "table"
           }
          ]
         },
         "layout": {
          "annotationdefaults": {
           "arrowcolor": "#2a3f5f",
           "arrowhead": 0,
           "arrowwidth": 1
          },
          "autotypenumbers": "strict",
          "coloraxis": {
           "colorbar": {
            "outlinewidth": 0,
            "ticks": ""
           }
          },
          "colorscale": {
           "diverging": [
            [
             0,
             "#8e0152"
            ],
            [
             0.1,
             "#c51b7d"
            ],
            [
             0.2,
             "#de77ae"
            ],
            [
             0.3,
             "#f1b6da"
            ],
            [
             0.4,
             "#fde0ef"
            ],
            [
             0.5,
             "#f7f7f7"
            ],
            [
             0.6,
             "#e6f5d0"
            ],
            [
             0.7,
             "#b8e186"
            ],
            [
             0.8,
             "#7fbc41"
            ],
            [
             0.9,
             "#4d9221"
            ],
            [
             1,
             "#276419"
            ]
           ],
           "sequential": [
            [
             0,
             "#0d0887"
            ],
            [
             0.1111111111111111,
             "#46039f"
            ],
            [
             0.2222222222222222,
             "#7201a8"
            ],
            [
             0.3333333333333333,
             "#9c179e"
            ],
            [
             0.4444444444444444,
             "#bd3786"
            ],
            [
             0.5555555555555556,
             "#d8576b"
            ],
            [
             0.6666666666666666,
             "#ed7953"
            ],
            [
             0.7777777777777778,
             "#fb9f3a"
            ],
            [
             0.8888888888888888,
             "#fdca26"
            ],
            [
             1,
             "#f0f921"
            ]
           ],
           "sequentialminus": [
            [
             0,
             "#0d0887"
            ],
            [
             0.1111111111111111,
             "#46039f"
            ],
            [
             0.2222222222222222,
             "#7201a8"
            ],
            [
             0.3333333333333333,
             "#9c179e"
            ],
            [
             0.4444444444444444,
             "#bd3786"
            ],
            [
             0.5555555555555556,
             "#d8576b"
            ],
            [
             0.6666666666666666,
             "#ed7953"
            ],
            [
             0.7777777777777778,
             "#fb9f3a"
            ],
            [
             0.8888888888888888,
             "#fdca26"
            ],
            [
             1,
             "#f0f921"
            ]
           ]
          },
          "colorway": [
           "#636efa",
           "#EF553B",
           "#00cc96",
           "#ab63fa",
           "#FFA15A",
           "#19d3f3",
           "#FF6692",
           "#B6E880",
           "#FF97FF",
           "#FECB52"
          ],
          "font": {
           "color": "#2a3f5f"
          },
          "geo": {
           "bgcolor": "white",
           "lakecolor": "white",
           "landcolor": "#E5ECF6",
           "showlakes": true,
           "showland": true,
           "subunitcolor": "white"
          },
          "hoverlabel": {
           "align": "left"
          },
          "hovermode": "closest",
          "mapbox": {
           "style": "light"
          },
          "paper_bgcolor": "white",
          "plot_bgcolor": "#E5ECF6",
          "polar": {
           "angularaxis": {
            "gridcolor": "white",
            "linecolor": "white",
            "ticks": ""
           },
           "bgcolor": "#E5ECF6",
           "radialaxis": {
            "gridcolor": "white",
            "linecolor": "white",
            "ticks": ""
           }
          },
          "scene": {
           "xaxis": {
            "backgroundcolor": "#E5ECF6",
            "gridcolor": "white",
            "gridwidth": 2,
            "linecolor": "white",
            "showbackground": true,
            "ticks": "",
            "zerolinecolor": "white"
           },
           "yaxis": {
            "backgroundcolor": "#E5ECF6",
            "gridcolor": "white",
            "gridwidth": 2,
            "linecolor": "white",
            "showbackground": true,
            "ticks": "",
            "zerolinecolor": "white"
           },
           "zaxis": {
            "backgroundcolor": "#E5ECF6",
            "gridcolor": "white",
            "gridwidth": 2,
            "linecolor": "white",
            "showbackground": true,
            "ticks": "",
            "zerolinecolor": "white"
           }
          },
          "shapedefaults": {
           "line": {
            "color": "#2a3f5f"
           }
          },
          "ternary": {
           "aaxis": {
            "gridcolor": "white",
            "linecolor": "white",
            "ticks": ""
           },
           "baxis": {
            "gridcolor": "white",
            "linecolor": "white",
            "ticks": ""
           },
           "bgcolor": "#E5ECF6",
           "caxis": {
            "gridcolor": "white",
            "linecolor": "white",
            "ticks": ""
           }
          },
          "title": {
           "x": 0.05
          },
          "xaxis": {
           "automargin": true,
           "gridcolor": "white",
           "linecolor": "white",
           "ticks": "",
           "title": {
            "standoff": 15
           },
           "zerolinecolor": "white",
           "zerolinewidth": 2
          },
          "yaxis": {
           "automargin": true,
           "gridcolor": "white",
           "linecolor": "white",
           "ticks": "",
           "title": {
            "standoff": 15
           },
           "zerolinecolor": "white",
           "zerolinewidth": 2
          }
         }
        }
       }
      }
     },
     "metadata": {},
     "output_type": "display_data"
    }
   ],
   "source": [
    "import plotly.express as px\n",
    "import pandas as pd\n",
    "\n",
    "# Create a DataFrame for label_1 and label_0 data\n",
    "df_label_0 = pd.DataFrame(label_0, columns=['PC0', 'PC1', 'PC2'])\n",
    "df_label_1 = pd.DataFrame(label_1, columns=['PC0', 'PC1', 'PC2'])\n",
    "\n",
    "# Add a column to indicate the label\n",
    "df_label_0['label'] = 'Label 0'\n",
    "df_label_1['label'] = 'Label 1'\n",
    "\n",
    "# Concatenate the dataframes\n",
    "df = pd.concat([df_label_0, df_label_1])\n",
    "\n",
    "# Create the 3D scatter plot\n",
    "fig = px.scatter_3d(df, x='PC0', y='PC1', z='PC2', color='label')\n",
    "\n",
    "# Show the plot\n",
    "fig.show()"
   ]
  },
  {
   "cell_type": "markdown",
   "metadata": {},
   "source": [
    "Plot showing the degrading of accuracy when reducing PCA component (retraining a regressor for each number of PCs)"
   ]
  },
  {
   "cell_type": "code",
   "execution_count": 15,
   "metadata": {},
   "outputs": [
    {
     "data": {
      "image/png": "[encoded data removed]",
      "text/plain": [
       "<Figure size 640x480 with 1 Axes>"
      ]
     },
     "metadata": {},
     "output_type": "display_data"
    }
   ],
   "source": [
    "accs = []\n",
    "for dim_red in range(1, train_X.shape[-1]):\n",
    "    pca3 = PCA(n_components=dim_red)\n",
    "    train_X_red3 = pca3.fit_transform(train_X[:,-1,:])\n",
    "    val_X_red3 = pca3.transform(val_X[:,-1,:])\n",
    "\n",
    "    classifier3 = LogisticRegression(max_iter=5000, random_state=seed)\n",
    "    classifier3.fit(train_X_red3, train_y)\n",
    "    y_pred = classifier3.predict(val_X_red3)\n",
    "    accs.append(accuracy_score(val_y, y_pred))\n",
    "\n",
    "accs = np.array(accs)\n",
    "\n",
    "plt.plot(accs)\n",
    "plt.xlabel('Number of PCs')\n",
    "plt.ylabel('Accuracy')\n",
    "plt.title('Accuracy vs Number of PCs')\n",
    "plt.show()"
   ]
  },
  {
   "cell_type": "markdown",
   "metadata": {},
   "source": [
    "Check which PC contains more information"
   ]
  },
  {
   "cell_type": "code",
   "execution_count": 16,
   "metadata": {},
   "outputs": [
    {
     "data": {
      "image/png": "[encoded data removed]",
      "text/plain": [
       "<Figure size 640x480 with 1 Axes>"
      ]
     },
     "metadata": {},
     "output_type": "display_data"
    }
   ],
   "source": [
    "accs = []\n",
    "\n",
    "pca4 = PCA(n_components=20)\n",
    "train_X_red4 = pca4.fit_transform(train_X[:,-1,:])\n",
    "val_X_red4 = pca4.transform(val_X[:,-1,:])\n",
    "\n",
    "for i in range(0, train_X_red4.shape[-1]):\n",
    "    x = train_X_red4[:,i]\n",
    "    x = x[:, np.newaxis]\n",
    "    classifier4 = LogisticRegression(max_iter=5000, random_state=seed)\n",
    "    classifier4.fit(x, train_y)\n",
    "    x = val_X_red4[:,i]\n",
    "    x = x[:, np.newaxis]\n",
    "    y_pred = classifier4.predict(x)\n",
    "    accs.append(accuracy_score(val_y, y_pred))\n",
    "\n",
    "accs = np.array(accs)\n",
    "\n",
    "plt.plot(accs)\n",
    "plt.xlabel('Number of PCs')\n",
    "plt.ylabel('Accuracy')\n",
    "plt.title('Accuracy vs Number of PCs')\n",
    "plt.show()"
   ]
  },
  {
   "cell_type": "code",
   "execution_count": 22,
   "metadata": {},
   "outputs": [
    {
     "data": {
      "image/png": "[encoded data removed]",
      "text/plain": [
       "<Figure size 1000x500 with 2 Axes>"
      ]
     },
     "metadata": {},
     "output_type": "display_data"
    }
   ],
   "source": [
    "pc = []\n",
    "max_accs = []\n",
    "\n",
    "for dim_red in range(1, train_X.shape[-1]):\n",
    "    pca4 = PCA(n_components=dim_red)\n",
    "    train_X_red4 = pca4.fit_transform(train_X[:,-1,:])\n",
    "    val_X_red4 = pca4.transform(val_X[:,-1,:])\n",
    "    accs = []\n",
    "\n",
    "    for i in range(0, train_X_red4.shape[-1]):\n",
    "        x = train_X_red4[:,i]\n",
    "        x = x[:, np.newaxis]\n",
    "        classifier4 = LogisticRegression(max_iter=5000, random_state=seed)\n",
    "        classifier4.fit(x, train_y)\n",
    "        x = val_X_red4[:,i]\n",
    "        x = x[:, np.newaxis]\n",
    "        y_pred = classifier4.predict(x)\n",
    "        accs.append(accuracy_score(val_y, y_pred))\n",
    "\n",
    "    accs = np.array(accs)\n",
    "    pc.append(np.argmax(accs) + 1)\n",
    "    max_accs.append(np.max(accs))\n",
    "\n",
    "fig, ax1 = plt.subplots(figsize=(10, 5))\n",
    "ax1.hist(pc, bins=train_X.shape[-1], range=(0, train_X.shape[-1]), alpha=0.5, color='blue')\n",
    "ax1.set_ylabel('Frequency')\n",
    "\n",
    "ax2 = ax1.twinx()\n",
    "ax2.plot(max_accs, color='red')\n",
    "ax2.set_ylabel('Max accuracy')\n",
    "ax1.set_xlabel('Number of PCs')\n",
    "\n",
    "plt.show()"
   ]
  },
  {
   "cell_type": "code",
   "execution_count": 23,
   "metadata": {},
   "outputs": [
    {
     "data": {
      "text/plain": [
       "5"
      ]
     },
     "execution_count": 23,
     "metadata": {},
     "output_type": "execute_result"
    }
   ],
   "source": [
    "max(set(pc), key=pc.count)"
   ]
  },
  {
   "cell_type": "markdown",
   "metadata": {},
   "source": [
    "## ... at node level"
   ]
  },
  {
   "cell_type": "code",
   "execution_count": 20,
   "metadata": {},
   "outputs": [
    {
     "data": {
      "text/plain": [
       "torch.Size([200, 864, 170])"
      ]
     },
     "execution_count": 20,
     "metadata": {},
     "output_type": "execute_result"
    }
   ],
   "source": [
    "states.shape"
   ]
  },
  {
   "cell_type": "markdown",
   "metadata": {},
   "source": [
    "# Training DynGESN"
   ]
  },
  {
   "cell_type": "code",
   "execution_count": 2,
   "metadata": {},
   "outputs": [],
   "source": [
    "import tsl\n",
    "\n",
    "from dataset.utils import load_FB\n",
    "from torch_geometric.loader import DataLoader\n",
    "from sklearn.model_selection import train_test_split"
   ]
  },
  {
   "cell_type": "code",
   "execution_count": 5,
   "metadata": {},
   "outputs": [],
   "source": [
    "edge_indexes, node_labels, graph_labels = load_FB(config['add_self_loops'])"
   ]
  },
  {
   "cell_type": "code",
   "execution_count": 29,
   "metadata": {},
   "outputs": [
    {
     "name": "stderr",
     "output_type": "stream",
     "text": [
      "100%|██████████| 995/995 [00:02<00:00, 335.87it/s]\n"
     ]
    }
   ],
   "source": [
    "data = []\n",
    "\n",
    "for n in tqdm(range(len(node_labels))):\n",
    "    data.append(\n",
    "                tsl.data.data.Data(\n",
    "                        input={'x': node_labels[n]},\n",
    "                        target={'y': graph_labels[n]},\n",
    "                        edge_index=edge_indexes[n]\n",
    "                    ).to(device)\n",
    "                )\n",
    "\n",
    "train_data, test_data = train_test_split(data, test_size=0.2)\n",
    "\n",
    "batch_size = 1\n",
    "train_dataloader = DataLoader(train_data, batch_size=batch_size, shuffle=True)\n",
    "test_dataloader = DataLoader(test_data, batch_size=batch_size, shuffle=False)"
   ]
  },
  {
   "cell_type": "code",
   "execution_count": 35,
   "metadata": {},
   "outputs": [],
   "source": [
    "y_l = []\n",
    "\n",
    "for d in test_data:\n",
    "    y_l.append(d.target['y'].item())"
   ]
  },
  {
   "cell_type": "code",
   "execution_count": 7,
   "metadata": {},
   "outputs": [],
   "source": [
    "from models.DynGraphESN import DynGESNModel\n",
    "import torch\n",
    "import torch.nn as nn\n",
    "\n",
    "# Define the linear model\n",
    "class DGESN(nn.Module):\n",
    "    def __init__(self, reservoir, input_size, output_size):\n",
    "        super(DGESN, self).__init__()\n",
    "        self.reservoir = reservoir\n",
    "        self.linear = nn.Linear(input_size, output_size)\n",
    "\n",
    "    def forward(self, x):\n",
    "        h = self.reservoir(x.input.x, x.edge_index, None).sum(dim=1)[-1,:,:]\n",
    "        h = rearrange(h, 'l h -> (l h)')\n",
    "        return self.linear(h)\n",
    "\n",
    "model = DynGESNModel(input_size=1,\n",
    "                    reservoir_size=config['reservoir_size'],\n",
    "                    input_scaling=config['input_scaling'],\n",
    "                    reservoir_layers=config['reservoir_layers'],\n",
    "                    leaking_rate=config['leaking_rate'],\n",
    "                    spectral_radius=config['spectral_radius'],\n",
    "                    density=config['density'],\n",
    "                    reservoir_activation=config['reservoir_activation'],\n",
    "                    alpha_decay=config['alpha_decay'],\n",
    "                    requires_grad=True,\n",
    "                    b_leaking_rate=config['b_leaking_rate']).to(device)\n",
    "\n",
    "classifier = DGESN(model, input_size=config['reservoir_size']*config['reservoir_layers'],\n",
    "                              output_size=1).to(device)"
   ]
  },
  {
   "cell_type": "code",
   "execution_count": 49,
   "metadata": {},
   "outputs": [
    {
     "name": "stderr",
     "output_type": "stream",
     "text": [
      "100%|██████████| 796/796 [04:10<00:00,  3.18it/s]\n"
     ]
    },
    {
     "name": "stdout",
     "output_type": "stream",
     "text": [
      "Epoch 1 - Loss: 52.70603077335434\n"
     ]
    },
    {
     "name": "stderr",
     "output_type": "stream",
     "text": [
      "100%|██████████| 796/796 [04:10<00:00,  3.18it/s]\n"
     ]
    },
    {
     "name": "stdout",
     "output_type": "stream",
     "text": [
      "Epoch 2 - Loss: 83.84004416924162\n"
     ]
    },
    {
     "name": "stderr",
     "output_type": "stream",
     "text": [
      "100%|██████████| 796/796 [04:10<00:00,  3.18it/s]\n"
     ]
    },
    {
     "name": "stdout",
     "output_type": "stream",
     "text": [
      "Epoch 3 - Loss: 49.91448544362244\n"
     ]
    },
    {
     "name": "stderr",
     "output_type": "stream",
     "text": [
      "100%|██████████| 796/796 [04:09<00:00,  3.18it/s]\n"
     ]
    },
    {
     "name": "stdout",
     "output_type": "stream",
     "text": [
      "Epoch 4 - Loss: 55.737126689739135\n"
     ]
    },
    {
     "name": "stderr",
     "output_type": "stream",
     "text": [
      "100%|██████████| 796/796 [04:08<00:00,  3.20it/s]\n"
     ]
    },
    {
     "name": "stdout",
     "output_type": "stream",
     "text": [
      "Epoch 5 - Loss: 64.35693540216012\n"
     ]
    },
    {
     "name": "stderr",
     "output_type": "stream",
     "text": [
      "100%|██████████| 796/796 [04:09<00:00,  3.19it/s]\n"
     ]
    },
    {
     "name": "stdout",
     "output_type": "stream",
     "text": [
      "Epoch 6 - Loss: 50.93789785179927\n"
     ]
    },
    {
     "name": "stderr",
     "output_type": "stream",
     "text": [
      "100%|██████████| 796/796 [04:08<00:00,  3.20it/s]\n"
     ]
    },
    {
     "name": "stdout",
     "output_type": "stream",
     "text": [
      "Epoch 7 - Loss: 52.9225494801444\n"
     ]
    },
    {
     "name": "stderr",
     "output_type": "stream",
     "text": [
      "100%|██████████| 796/796 [04:09<00:00,  3.19it/s]\n"
     ]
    },
    {
     "name": "stdout",
     "output_type": "stream",
     "text": [
      "Epoch 8 - Loss: 51.53479458568482\n"
     ]
    },
    {
     "name": "stderr",
     "output_type": "stream",
     "text": [
      "100%|██████████| 796/796 [04:08<00:00,  3.20it/s]\n"
     ]
    },
    {
     "name": "stdout",
     "output_type": "stream",
     "text": [
      "Epoch 9 - Loss: 55.6069961581902\n"
     ]
    },
    {
     "name": "stderr",
     "output_type": "stream",
     "text": [
      "100%|██████████| 796/796 [04:07<00:00,  3.22it/s]\n"
     ]
    },
    {
     "name": "stdout",
     "output_type": "stream",
     "text": [
      "Epoch 10 - Loss: 58.022338176845096\n"
     ]
    },
    {
     "name": "stderr",
     "output_type": "stream",
     "text": [
      "100%|██████████| 796/796 [04:08<00:00,  3.20it/s]\n"
     ]
    },
    {
     "name": "stdout",
     "output_type": "stream",
     "text": [
      "Epoch 11 - Loss: 52.70742561247591\n"
     ]
    },
    {
     "name": "stderr",
     "output_type": "stream",
     "text": [
      "100%|██████████| 796/796 [04:08<00:00,  3.21it/s]\n"
     ]
    },
    {
     "name": "stdout",
     "output_type": "stream",
     "text": [
      "Epoch 12 - Loss: 36.027284061675964\n"
     ]
    },
    {
     "name": "stderr",
     "output_type": "stream",
     "text": [
      "100%|██████████| 796/796 [04:08<00:00,  3.20it/s]\n"
     ]
    },
    {
     "name": "stdout",
     "output_type": "stream",
     "text": [
      "Epoch 13 - Loss: 44.42496146684971\n"
     ]
    },
    {
     "name": "stderr",
     "output_type": "stream",
     "text": [
      "100%|██████████| 796/796 [04:09<00:00,  3.20it/s]\n"
     ]
    },
    {
     "name": "stdout",
     "output_type": "stream",
     "text": [
      "Epoch 14 - Loss: 49.372049692501434\n"
     ]
    },
    {
     "name": "stderr",
     "output_type": "stream",
     "text": [
      "100%|██████████| 796/796 [04:08<00:00,  3.21it/s]\n"
     ]
    },
    {
     "name": "stdout",
     "output_type": "stream",
     "text": [
      "Epoch 15 - Loss: 58.31190979154753\n"
     ]
    },
    {
     "name": "stderr",
     "output_type": "stream",
     "text": [
      "100%|██████████| 796/796 [04:08<00:00,  3.20it/s]\n"
     ]
    },
    {
     "name": "stdout",
     "output_type": "stream",
     "text": [
      "Epoch 16 - Loss: 42.99723631846424\n"
     ]
    },
    {
     "name": "stderr",
     "output_type": "stream",
     "text": [
      "100%|██████████| 796/796 [04:08<00:00,  3.20it/s]\n"
     ]
    },
    {
     "name": "stdout",
     "output_type": "stream",
     "text": [
      "Epoch 17 - Loss: 52.91243984926772\n"
     ]
    },
    {
     "name": "stderr",
     "output_type": "stream",
     "text": [
      "100%|██████████| 796/796 [04:08<00:00,  3.20it/s]\n"
     ]
    },
    {
     "name": "stdout",
     "output_type": "stream",
     "text": [
      "Epoch 18 - Loss: 50.47183268507685\n"
     ]
    },
    {
     "name": "stderr",
     "output_type": "stream",
     "text": [
      "100%|██████████| 796/796 [04:08<00:00,  3.21it/s]\n"
     ]
    },
    {
     "name": "stdout",
     "output_type": "stream",
     "text": [
      "Epoch 19 - Loss: 68.00162937282289\n"
     ]
    },
    {
     "name": "stderr",
     "output_type": "stream",
     "text": [
      "100%|██████████| 796/796 [04:08<00:00,  3.21it/s]\n"
     ]
    },
    {
     "name": "stdout",
     "output_type": "stream",
     "text": [
      "Epoch 20 - Loss: 45.10663124849997\n"
     ]
    },
    {
     "name": "stderr",
     "output_type": "stream",
     "text": [
      "100%|██████████| 796/796 [04:08<00:00,  3.21it/s]\n"
     ]
    },
    {
     "name": "stdout",
     "output_type": "stream",
     "text": [
      "Epoch 21 - Loss: 47.69496832700927\n"
     ]
    },
    {
     "name": "stderr",
     "output_type": "stream",
     "text": [
      "100%|██████████| 796/796 [04:07<00:00,  3.22it/s]\n"
     ]
    },
    {
     "name": "stdout",
     "output_type": "stream",
     "text": [
      "Epoch 22 - Loss: 52.54538669190667\n"
     ]
    },
    {
     "name": "stderr",
     "output_type": "stream",
     "text": [
      "100%|██████████| 796/796 [04:07<00:00,  3.22it/s]\n"
     ]
    },
    {
     "name": "stdout",
     "output_type": "stream",
     "text": [
      "Epoch 23 - Loss: 39.73751256448493\n"
     ]
    },
    {
     "name": "stderr",
     "output_type": "stream",
     "text": [
      "100%|██████████| 796/796 [04:06<00:00,  3.22it/s]\n"
     ]
    },
    {
     "name": "stdout",
     "output_type": "stream",
     "text": [
      "Epoch 24 - Loss: 53.489458459889065\n"
     ]
    },
    {
     "name": "stderr",
     "output_type": "stream",
     "text": [
      "100%|██████████| 796/796 [04:06<00:00,  3.22it/s]\n"
     ]
    },
    {
     "name": "stdout",
     "output_type": "stream",
     "text": [
      "Epoch 25 - Loss: 49.792475367089395\n"
     ]
    },
    {
     "name": "stderr",
     "output_type": "stream",
     "text": [
      "100%|██████████| 796/796 [04:07<00:00,  3.21it/s]\n"
     ]
    },
    {
     "name": "stdout",
     "output_type": "stream",
     "text": [
      "Epoch 26 - Loss: 44.27362648950911\n"
     ]
    },
    {
     "name": "stderr",
     "output_type": "stream",
     "text": [
      "100%|██████████| 796/796 [04:07<00:00,  3.22it/s]\n"
     ]
    },
    {
     "name": "stdout",
     "output_type": "stream",
     "text": [
      "Epoch 27 - Loss: 83.30705715597836\n"
     ]
    },
    {
     "name": "stderr",
     "output_type": "stream",
     "text": [
      "100%|██████████| 796/796 [04:07<00:00,  3.22it/s]\n"
     ]
    },
    {
     "name": "stdout",
     "output_type": "stream",
     "text": [
      "Epoch 28 - Loss: 52.302342163071515\n"
     ]
    },
    {
     "name": "stderr",
     "output_type": "stream",
     "text": [
      "100%|██████████| 796/796 [04:07<00:00,  3.22it/s]\n"
     ]
    },
    {
     "name": "stdout",
     "output_type": "stream",
     "text": [
      "Epoch 29 - Loss: 50.35112646344312\n"
     ]
    },
    {
     "name": "stderr",
     "output_type": "stream",
     "text": [
      "100%|██████████| 796/796 [04:07<00:00,  3.21it/s]\n"
     ]
    },
    {
     "name": "stdout",
     "output_type": "stream",
     "text": [
      "Epoch 30 - Loss: 37.15903615283665\n"
     ]
    },
    {
     "name": "stderr",
     "output_type": "stream",
     "text": [
      "100%|██████████| 796/796 [04:07<00:00,  3.22it/s]\n"
     ]
    },
    {
     "name": "stdout",
     "output_type": "stream",
     "text": [
      "Epoch 31 - Loss: 57.22238981326361\n"
     ]
    },
    {
     "name": "stderr",
     "output_type": "stream",
     "text": [
      "100%|██████████| 796/796 [04:07<00:00,  3.22it/s]\n"
     ]
    },
    {
     "name": "stdout",
     "output_type": "stream",
     "text": [
      "Epoch 32 - Loss: 52.461852388020546\n"
     ]
    },
    {
     "name": "stderr",
     "output_type": "stream",
     "text": [
      "100%|██████████| 796/796 [04:07<00:00,  3.22it/s]\n"
     ]
    },
    {
     "name": "stdout",
     "output_type": "stream",
     "text": [
      "Epoch 33 - Loss: 51.66481017951042\n"
     ]
    },
    {
     "name": "stderr",
     "output_type": "stream",
     "text": [
      "100%|██████████| 796/796 [04:07<00:00,  3.22it/s]\n"
     ]
    },
    {
     "name": "stdout",
     "output_type": "stream",
     "text": [
      "Epoch 34 - Loss: 42.2957095234991\n"
     ]
    },
    {
     "name": "stderr",
     "output_type": "stream",
     "text": [
      "100%|██████████| 796/796 [04:07<00:00,  3.22it/s]\n"
     ]
    },
    {
     "name": "stdout",
     "output_type": "stream",
     "text": [
      "Epoch 35 - Loss: 60.39896774580004\n"
     ]
    },
    {
     "name": "stderr",
     "output_type": "stream",
     "text": [
      "100%|██████████| 796/796 [04:07<00:00,  3.22it/s]\n"
     ]
    },
    {
     "name": "stdout",
     "output_type": "stream",
     "text": [
      "Epoch 36 - Loss: 51.03843801870575\n"
     ]
    },
    {
     "name": "stderr",
     "output_type": "stream",
     "text": [
      "100%|██████████| 796/796 [04:07<00:00,  3.22it/s]\n"
     ]
    },
    {
     "name": "stdout",
     "output_type": "stream",
     "text": [
      "Epoch 37 - Loss: 52.674746331399966\n"
     ]
    },
    {
     "name": "stderr",
     "output_type": "stream",
     "text": [
      "100%|██████████| 796/796 [04:07<00:00,  3.22it/s]\n"
     ]
    },
    {
     "name": "stdout",
     "output_type": "stream",
     "text": [
      "Epoch 38 - Loss: 53.73704882429137\n"
     ]
    },
    {
     "name": "stderr",
     "output_type": "stream",
     "text": [
      "100%|██████████| 796/796 [04:07<00:00,  3.22it/s]\n"
     ]
    },
    {
     "name": "stdout",
     "output_type": "stream",
     "text": [
      "Epoch 39 - Loss: 34.18929598863934\n"
     ]
    },
    {
     "name": "stderr",
     "output_type": "stream",
     "text": [
      "100%|██████████| 796/796 [04:08<00:00,  3.21it/s]\n"
     ]
    },
    {
     "name": "stdout",
     "output_type": "stream",
     "text": [
      "Epoch 40 - Loss: 54.54873314449791\n"
     ]
    },
    {
     "name": "stderr",
     "output_type": "stream",
     "text": [
      "100%|██████████| 796/796 [04:08<00:00,  3.20it/s]\n"
     ]
    },
    {
     "name": "stdout",
     "output_type": "stream",
     "text": [
      "Epoch 41 - Loss: 43.45307334056721\n"
     ]
    },
    {
     "name": "stderr",
     "output_type": "stream",
     "text": [
      "100%|██████████| 796/796 [04:08<00:00,  3.20it/s]\n"
     ]
    },
    {
     "name": "stdout",
     "output_type": "stream",
     "text": [
      "Epoch 42 - Loss: 63.548268772213724\n"
     ]
    },
    {
     "name": "stderr",
     "output_type": "stream",
     "text": [
      "100%|██████████| 796/796 [04:08<00:00,  3.20it/s]\n"
     ]
    },
    {
     "name": "stdout",
     "output_type": "stream",
     "text": [
      "Epoch 43 - Loss: 47.09881528725843\n"
     ]
    },
    {
     "name": "stderr",
     "output_type": "stream",
     "text": [
      "100%|██████████| 796/796 [04:08<00:00,  3.20it/s]\n"
     ]
    },
    {
     "name": "stdout",
     "output_type": "stream",
     "text": [
      "Epoch 44 - Loss: 39.964744495034836\n"
     ]
    },
    {
     "name": "stderr",
     "output_type": "stream",
     "text": [
      "100%|██████████| 796/796 [04:08<00:00,  3.20it/s]\n"
     ]
    },
    {
     "name": "stdout",
     "output_type": "stream",
     "text": [
      "Epoch 45 - Loss: 52.770184754342225\n"
     ]
    },
    {
     "name": "stderr",
     "output_type": "stream",
     "text": [
      "100%|██████████| 796/796 [04:08<00:00,  3.20it/s]\n"
     ]
    },
    {
     "name": "stdout",
     "output_type": "stream",
     "text": [
      "Epoch 46 - Loss: 54.129300182580074\n"
     ]
    },
    {
     "name": "stderr",
     "output_type": "stream",
     "text": [
      "100%|██████████| 796/796 [04:08<00:00,  3.21it/s]\n"
     ]
    },
    {
     "name": "stdout",
     "output_type": "stream",
     "text": [
      "Epoch 47 - Loss: 40.01548644545303\n"
     ]
    },
    {
     "name": "stderr",
     "output_type": "stream",
     "text": [
      "100%|██████████| 796/796 [04:08<00:00,  3.21it/s]\n"
     ]
    },
    {
     "name": "stdout",
     "output_type": "stream",
     "text": [
      "Epoch 48 - Loss: 40.761226151055\n"
     ]
    },
    {
     "name": "stderr",
     "output_type": "stream",
     "text": [
      "100%|██████████| 796/796 [04:07<00:00,  3.21it/s]\n"
     ]
    },
    {
     "name": "stdout",
     "output_type": "stream",
     "text": [
      "Epoch 49 - Loss: 72.04903044013808\n"
     ]
    },
    {
     "name": "stderr",
     "output_type": "stream",
     "text": [
      "100%|██████████| 796/796 [04:07<00:00,  3.21it/s]"
     ]
    },
    {
     "name": "stdout",
     "output_type": "stream",
     "text": [
      "Epoch 50 - Loss: 62.36839605911237\n"
     ]
    },
    {
     "name": "stderr",
     "output_type": "stream",
     "text": [
      "\n"
     ]
    }
   ],
   "source": [
    "from tqdm import trange\n",
    "import torch.optim as optim\n",
    "\n",
    "criterion = nn.BCEWithLogitsLoss()\n",
    "optimizer = optim.Adam(classifier.parameters(), lr=config['lr'])\n",
    "\n",
    "classifier.train()\n",
    "\n",
    "# Iterate over the training data\n",
    "for epoch in range(50):\n",
    "    running_loss = 0.0\n",
    "    \n",
    "    for data in tqdm(iter(train_dataloader)):\n",
    "        labels = data.target.y\n",
    "        optimizer.zero_grad()\n",
    "        outputs = classifier(data)\n",
    "        \n",
    "        # Calculate the loss\n",
    "        loss = criterion(outputs, labels)\n",
    "        \n",
    "        loss.backward()\n",
    "        optimizer.step()\n",
    "        running_loss += loss.item()\n",
    "    \n",
    "    # Print the average loss for the epoch\n",
    "    print(f\"Epoch {epoch+1} - Loss: {running_loss / len(train_dataloader)}\")"
   ]
  },
  {
   "cell_type": "code",
   "execution_count": 50,
   "metadata": {},
   "outputs": [],
   "source": [
    "# Specify the path to save the model\n",
    "model_path = \"models/saved/classifier_model.pt\"\n",
    "\n",
    "# Save the model\n",
    "torch.save(classifier.state_dict(), model_path)"
   ]
  },
  {
   "cell_type": "code",
   "execution_count": 52,
   "metadata": {},
   "outputs": [
    {
     "data": {
      "text/plain": [
       "<All keys matched successfully>"
      ]
     },
     "execution_count": 52,
     "metadata": {},
     "output_type": "execute_result"
    }
   ],
   "source": [
    "# Specify the path to the saved model\n",
    "model_path = \"models/saved/classifier_model.pt\"\n",
    "\n",
    "# Create an instance of the LinearRegression model\n",
    "loaded_model = DGESN(model, input_size=config['reservoir_size']*config['reservoir_layers'],\n",
    "                              output_size=1).to(device)\n",
    "\n",
    "# Load the saved model state_dict\n",
    "loaded_model.load_state_dict(torch.load(model_path))"
   ]
  },
  {
   "cell_type": "code",
   "execution_count": 53,
   "metadata": {},
   "outputs": [
    {
     "name": "stderr",
     "output_type": "stream",
     "text": [
      "100%|██████████| 199/199 [00:32<00:00,  6.14it/s]\n"
     ]
    }
   ],
   "source": [
    "loaded_model.eval()\n",
    "y_h = []\n",
    "y = []\n",
    "\n",
    "for data in tqdm(iter(test_dataloader)):\n",
    "    labels = data.target.y\n",
    "    outputs = torch.heaviside(loaded_model(data), torch.tensor(0.))\n",
    "    y_h.append(labels)\n",
    "    y.append(outputs)\n",
    "\n",
    "y_h = torch.cat(y_h)\n",
    "y = torch.cat(y)"
   ]
  },
  {
   "cell_type": "code",
   "execution_count": 54,
   "metadata": {},
   "outputs": [
    {
     "name": "stdout",
     "output_type": "stream",
     "text": [
      "Accuracy: 0.6633165829145728\n"
     ]
    }
   ],
   "source": [
    "from sklearn.metrics import accuracy_score\n",
    "\n",
    "accuracy = accuracy_score(y_h.cpu().detach().numpy(), y.cpu().detach().numpy())\n",
    "print(f\"Accuracy: {accuracy}\")"
   ]
  },
  {
   "cell_type": "markdown",
   "metadata": {},
   "source": [
    "Koopman:"
   ]
  },
  {
   "cell_type": "code",
   "execution_count": 72,
   "metadata": {},
   "outputs": [
    {
     "name": "stderr",
     "output_type": "stream",
     "text": [
      "100%|██████████| 796/796 [02:22<00:00,  5.58it/s]\n",
      "100%|██████████| 199/199 [00:35<00:00,  5.63it/s]\n"
     ]
    }
   ],
   "source": [
    "loaded_model.eval()\n",
    "tr_states, tr_y = [], []\n",
    "te_states, te_y = [], []\n",
    "\n",
    "for data in tqdm(iter(train_dataloader)):\n",
    "    tr_y.append(data.target.y)\n",
    "    state = rearrange(loaded_model.reservoir(data.input.x, data.edge_index, None).sum(dim=1), 't l r -> t (l r)')\n",
    "    tr_states.append(state)\n",
    "\n",
    "for data in tqdm(iter(test_dataloader)):\n",
    "    te_y.append(data.target.y)\n",
    "    state = rearrange(loaded_model.reservoir(data.input.x, data.edge_index, None).sum(dim=1), 't l r -> t (l r)')\n",
    "    te_states.append(state)\n",
    "\n",
    "tr_states = torch.stack(tr_states).cpu().detach()\n",
    "te_states = torch.stack(te_states).cpu().detach()\n",
    "tr_y = torch.stack(tr_y).cpu().detach()\n",
    "te_y = torch.stack(te_y).cpu().detach() "
   ]
  },
  {
   "cell_type": "code",
   "execution_count": 98,
   "metadata": {},
   "outputs": [],
   "source": [
    "from DMD.dmd import KANN\n",
    "\n",
    "dim_red = 20\n",
    "method = 'TruncatedSVD'\n",
    "\n",
    "# compute local Koopman operator\n",
    "kann_ = KANN(tr_states.cpu(), k=dim_red, emb=method)\n",
    "\n",
    "K_trained = kann_.compute_KOP()"
   ]
  },
  {
   "cell_type": "code",
   "execution_count": 99,
   "metadata": {},
   "outputs": [],
   "source": [
    "pred_states = []\n",
    "s = kann_.emb_engine.transform(te_states[:,0,:])\n",
    "\n",
    "for t in range(te_states.shape[1]):\n",
    "    pred_states.append(torch.from_numpy(s))\n",
    "    s = s @ K_trained\n",
    "\n",
    "pred_states = torch.stack(pred_states, dim=1).squeeze()\n",
    "pred_states = torch.from_numpy(kann_.recover_states(pred_states, dim_red))"
   ]
  },
  {
   "cell_type": "code",
   "execution_count": 100,
   "metadata": {},
   "outputs": [
    {
     "data": {
      "text/plain": [
       "torch.Size([199, 106, 80])"
      ]
     },
     "execution_count": 100,
     "metadata": {},
     "output_type": "execute_result"
    }
   ],
   "source": [
    "pred_states.shape"
   ]
  },
  {
   "cell_type": "code",
   "execution_count": 101,
   "metadata": {},
   "outputs": [
    {
     "name": "stdout",
     "output_type": "stream",
     "text": [
      "0.542713567839196\n"
     ]
    }
   ],
   "source": [
    "pred_y = loaded_model.linear(pred_states[:, -1, :].to(device)).cpu().detach()\n",
    "\n",
    "accuracy = accuracy_score(te_y, torch.heaviside(pred_y, torch.tensor(0.)))\n",
    "\n",
    "print(accuracy)"
   ]
  },
  {
   "cell_type": "markdown",
   "metadata": {},
   "source": [
    "- M samples\n",
    "- N nodi\n",
    "- T time steps\n",
    "- F features \n",
    "\n",
    "[M, sum(N), T[:-1], F] ---> [M, F]\n",
    "\n",
    "- PCA F ---> [F, f]\n",
    "\n",
    "\n",
    "[M, sum(N), T, F] ---> [MT, F]\n",
    "\n",
    "- PCA F ---> f\n",
    "\n",
    "\n",
    "[M, N, T, F] ---> [MNT, F]\n",
    "\n",
    "- PCA F ---> f\n",
    "- [MN, T, f] ---> K\n",
    "\n",
    "\n",
    "**TODO**\n",
    "\n",
    "- bidir\n",
    "- media sul tempo o qualcosa di piu' avanzato dell'iultimo step\n",
    "- tensorPCA per tenere separati M e N (e forse anche T se si riesce ad estendere tensorPCA a 4 dimensioni)"
   ]
  }
 ],
 "metadata": {
  "kernelspec": {
   "display_name": "koopman",
   "language": "python",
   "name": "python3"
  },
  "language_info": {
   "codemirror_mode": {
    "name": "ipython",
    "version": 3
   },
   "file_extension": ".py",
   "mimetype": "text/x-python",
   "name": "python",
   "nbconvert_exporter": "python",
   "pygments_lexer": "ipython3",
   "version": "3.9.17"
  }
 },
 "nbformat": 4,
 "nbformat_minor": 2
}
