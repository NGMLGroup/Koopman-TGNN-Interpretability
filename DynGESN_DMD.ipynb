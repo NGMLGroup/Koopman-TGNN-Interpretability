{
 "cells": [
  {
   "cell_type": "code",
   "execution_count": 1,
   "metadata": {},
   "outputs": [
    {
     "name": "stderr",
     "output_type": "stream",
     "text": [
      "c:\\Users\\mgphy\\anaconda3\\envs\\koopman\\lib\\site-packages\\tqdm\\auto.py:21: TqdmWarning: IProgress not found. Please update jupyter and ipywidgets. See https://ipywidgets.readthedocs.io/en/stable/user_install.html\n",
      "  from .autonotebook import tqdm as notebook_tqdm\n",
      "c:\\Users\\mgphy\\anaconda3\\envs\\koopman\\lib\\site-packages\\torchaudio\\backend\\utils.py:62: UserWarning: No audio backend is available.\n",
      "  warnings.warn(\"No audio backend is available.\")\n"
     ]
    }
   ],
   "source": [
    "import torch\n",
    "import torch.nn as nn\n",
    "import torch.optim as optim\n",
    "import pytorch_lightning as pl\n",
    "# import scipy\n",
    "# import umap\n",
    "import random\n",
    "# import itertools\n",
    "import tsl\n",
    "import numpy as np\n",
    "# import pandas as pd\n",
    "import networkx as nx\n",
    "import torch_geometric\n",
    "import lightning as L\n",
    "import matplotlib.pyplot as plt\n",
    "\n",
    "from tsl.datasets import PvUS\n",
    "from tsl.data.datamodule import SpatioTemporalDataModule, TemporalSplitter\n",
    "from tsl.data.preprocessing import StandardScaler\n",
    "from tsl.metrics.torch import MaskedMAE\n",
    "from tsl.engines import Predictor\n",
    "from pytorch_lightning.loggers import TensorBoardLogger\n",
    "from pytorch_lightning.callbacks import ModelCheckpoint\n",
    "from einops import rearrange\n",
    "\n",
    "# from dataset.NCI1_dataset import NCI1\n",
    "# from tqdm import trange\n",
    "# from sklearn.model_selection import train_test_split\n",
    "\n",
    "from models.DynGraphESN import DynGESNModel\n",
    "\n",
    "from DMD.dmd import KANN\n",
    "\n",
    "seed = 42\n",
    "random.seed(seed)\n",
    "torch.manual_seed(seed)\n",
    "np.random.seed(seed)\n",
    "\n",
    "if torch.cuda.is_available():\n",
    "    device = torch.device('cuda')\n",
    "else:\n",
    "    device = torch.device('cpu')"
   ]
  },
  {
   "cell_type": "markdown",
   "metadata": {},
   "source": [
    "for more datasets:\n",
    "\n",
    "https://github.com/dtortorella/dyngraphesn/tree/master"
   ]
  },
  {
   "cell_type": "code",
   "execution_count": 2,
   "metadata": {},
   "outputs": [
    {
     "name": "stdout",
     "output_type": "stream",
     "text": [
      "PvUS-west(length=52560, n_nodes=1082, n_channels=1)\n",
      "Default similarity: distance\n",
      "Available similarity options: {'distance', 'correntropy'}\n"
     ]
    }
   ],
   "source": [
    "dataset = PvUS(root=\"dataset\", zones=['west'])\n",
    "print(dataset)\n",
    "\n",
    "print(f\"Default similarity: {dataset.similarity_score}\")\n",
    "print(f\"Available similarity options: {dataset.similarity_options}\")\n",
    "\n",
    "sim = dataset.get_similarity(\"distance\")  # or dataset.compute_similarity()\n",
    "\n",
    "connectivity = dataset.get_connectivity(threshold=0.1,\n",
    "                                        include_self=False,\n",
    "                                        normalize_axis=1,\n",
    "                                        layout=\"edge_index\")"
   ]
  },
  {
   "cell_type": "code",
   "execution_count": 3,
   "metadata": {},
   "outputs": [
    {
     "name": "stdout",
     "output_type": "stream",
     "text": [
      "SpatioTemporalDataset(n_samples=52473, n_nodes=1082, n_channels=1)\n"
     ]
    }
   ],
   "source": [
    "horizon = 24\n",
    "\n",
    "torch_dataset = tsl.data.SpatioTemporalDataset(target=dataset.dataframe(),\n",
    "                                      connectivity=connectivity,\n",
    "                                      mask=dataset.mask,\n",
    "                                      horizon=horizon,\n",
    "                                      window=64,\n",
    "                                      stride=1)\n",
    "print(torch_dataset)"
   ]
  },
  {
   "cell_type": "code",
   "execution_count": 4,
   "metadata": {},
   "outputs": [
    {
     "name": "stdout",
     "output_type": "stream",
     "text": [
      "Data(\n",
      "  input=(x=[t=64, n=1082, f=1], edge_index=[2, e=124778], edge_weight=[e=124778]),\n",
      "  target=(y=[t=24, n=1082, f=1]),\n",
      "  has_mask=False\n",
      ")\n",
      "{'x': 't n f', 'edge_index': '2 e', 'edge_weight': 'e', 'y': 't n f'}\n"
     ]
    }
   ],
   "source": [
    "sample = torch_dataset[0].to(device)\n",
    "print(sample)\n",
    "print(sample.pattern)"
   ]
  },
  {
   "cell_type": "code",
   "execution_count": 5,
   "metadata": {},
   "outputs": [
    {
     "name": "stdout",
     "output_type": "stream",
     "text": [
      "SpatioTemporalDataModule(train_len=37718, val_len=4133, test_len=10494, scalers=[target], batch_size=1)\n"
     ]
    }
   ],
   "source": [
    "scalers = {'target': StandardScaler(axis=(0, 1))}\n",
    "\n",
    "# Split data sequentially:\n",
    "#   |------------ dataset -----------|\n",
    "#   |--- train ---|- val -|-- test --|\n",
    "splitter = TemporalSplitter(val_len=0.1, test_len=0.2)\n",
    "\n",
    "dm = SpatioTemporalDataModule(\n",
    "    dataset=torch_dataset,\n",
    "    scalers=scalers,\n",
    "    splitter=splitter,\n",
    "    batch_size=1,\n",
    ")\n",
    "\n",
    "dm.setup()\n",
    "print(dm)"
   ]
  },
  {
   "cell_type": "code",
   "execution_count": 6,
   "metadata": {},
   "outputs": [],
   "source": [
    "time_interval, num_nodes, feat_size = sample.input.x.shape\n",
    "num_layers = 4\n",
    "reservoir_size = 150\n",
    "\n",
    "model = DynGESNModel(input_size=feat_size,\n",
    "                reservoir_size=reservoir_size,\n",
    "                input_scaling=0.4,\n",
    "                reservoir_layers=num_layers,\n",
    "                leaking_rate=0.5,\n",
    "                spectral_radius=4.0,\n",
    "                density=0.4,\n",
    "                reservoir_activation='self_norm',\n",
    "                alpha_decay=False).to(device)"
   ]
  },
  {
   "cell_type": "code",
   "execution_count": 8,
   "metadata": {},
   "outputs": [
    {
     "data": {
      "text/plain": [
       "StorageView(x=[64, 1082, 1], edge_index=[2, 124778], edge_weight=[124778])"
      ]
     },
     "execution_count": 8,
     "metadata": {},
     "output_type": "execute_result"
    }
   ],
   "source": [
    "sample.input"
   ]
  },
  {
   "cell_type": "code",
   "execution_count": 13,
   "metadata": {},
   "outputs": [
    {
     "data": {
      "text/plain": [
       "torch.Size([1, 1082, 600])"
      ]
     },
     "execution_count": 13,
     "metadata": {},
     "output_type": "execute_result"
    }
   ],
   "source": [
    "model(sample.input.x.unsqueeze(dim=0), sample.input.edge_index, sample.input.edge_weight).shape"
   ]
  },
  {
   "cell_type": "code",
   "execution_count": 8,
   "metadata": {},
   "outputs": [
    {
     "data": {
      "text/plain": [
       "StorageView(y=[24, 1082, 1])"
      ]
     },
     "execution_count": 8,
     "metadata": {},
     "output_type": "execute_result"
    }
   ],
   "source": [
    "sample.target"
   ]
  },
  {
   "cell_type": "code",
   "execution_count": 7,
   "metadata": {},
   "outputs": [],
   "source": [
    "class LinearRegression(pl.LightningModule):\n",
    "    def __init__(self, encoder, input_size, output_size):\n",
    "        super().__init__()\n",
    "        self.output_size = output_size\n",
    "        self.encoder = encoder\n",
    "        self.linear = nn.Linear(input_size, output_size)\n",
    "\n",
    "    def forward(self, x, edge_index, edge_weight):\n",
    "        z = self.encoder(x, edge_index, edge_weight)\n",
    "        b, n, f = z.shape\n",
    "        # z = rearrange(z, 'b n f -> b n f', n=n)\n",
    "        new_x = self.linear(z)\n",
    "        new_x = rearrange(new_x, 'b n f -> f n b', n=n, f=self.output_size)\n",
    "\n",
    "        return new_x"
   ]
  },
  {
   "cell_type": "code",
   "execution_count": 8,
   "metadata": {},
   "outputs": [],
   "source": [
    "forecaster = LinearRegression(model, input_size=reservoir_size*num_layers, output_size=feat_size*horizon).to(device)"
   ]
  },
  {
   "cell_type": "code",
   "execution_count": 9,
   "metadata": {},
   "outputs": [
    {
     "name": "stderr",
     "output_type": "stream",
     "text": [
      "GPU available: True (cuda), used: True\n",
      "TPU available: False, using: 0 TPU cores\n",
      "IPU available: False, using: 0 IPUs\n",
      "HPU available: False, using: 0 HPUs\n"
     ]
    }
   ],
   "source": [
    "loss_fn = MaskedMAE()\n",
    "\n",
    "metrics = {'mae': MaskedMAE()}\n",
    "\n",
    "# setup predictor\n",
    "predictor = Predictor(\n",
    "    model=forecaster,              # our initialized model\n",
    "    optim_class=torch.optim.Adam,  # specify optimizer to be used...\n",
    "    optim_kwargs={'lr': 0.07},    # ...and parameters for its initialization\n",
    "    loss_fn=loss_fn,               # which loss function to be used\n",
    "    metrics=metrics                # metrics to be logged during train/val/test\n",
    ")\n",
    "\n",
    "# logger = TensorBoardLogger(save_dir=\"logs\", name=\"dynGESN\", version=0)\n",
    "# %load_ext tensorboard\n",
    "# %tensorboard --logdir logs\n",
    "\n",
    "checkpoint_callback = ModelCheckpoint(\n",
    "    dirpath='logs',\n",
    "    save_top_k=1,\n",
    "    monitor='val_mae',\n",
    "    mode='min',\n",
    ")\n",
    "\n",
    "trainer = pl.Trainer(max_epochs=15,\n",
    "                    #  logger=logger,\n",
    "                     devices=1, \n",
    "                     accelerator=\"gpu\" if torch.cuda.is_available() else \"cpu\",\n",
    "                     limit_train_batches=100,  # end an epoch after 100 updates\n",
    "                     callbacks=[checkpoint_callback])\n"
   ]
  },
  {
   "cell_type": "code",
   "execution_count": null,
   "metadata": {},
   "outputs": [],
   "source": [
    "trainer.fit(predictor, datamodule=dm)"
   ]
  },
  {
   "cell_type": "code",
   "execution_count": 18,
   "metadata": {},
   "outputs": [],
   "source": [
    "torch.save(forecaster.state_dict(), \"models/dynGESN.pt\")"
   ]
  },
  {
   "cell_type": "code",
   "execution_count": 10,
   "metadata": {},
   "outputs": [
    {
     "data": {
      "text/plain": [
       "LinearRegression(\n",
       "  (encoder): DynGESNModel(\n",
       "    (reservoir): DynGraphESN(\n",
       "      (rnn_cells): ModuleList(\n",
       "        (0): GESNLayer()\n",
       "        (1): GESNLayer()\n",
       "        (2): GESNLayer()\n",
       "        (3): GESNLayer()\n",
       "      )\n",
       "    )\n",
       "  )\n",
       "  (linear): Linear(in_features=600, out_features=24, bias=True)\n",
       ")"
      ]
     },
     "execution_count": 10,
     "metadata": {},
     "output_type": "execute_result"
    }
   ],
   "source": [
    "# Specify the path to the saved model\n",
    "model_path = \"models/dynGESN.pt\"\n",
    "\n",
    "# Create an instance of the LinearRegression model\n",
    "loaded_model = LinearRegression(model, input_size=reservoir_size*num_layers, output_size=feat_size*horizon).to(device)\n",
    "\n",
    "# Load the saved model state_dict\n",
    "loaded_model.load_state_dict(torch.load(model_path))\n",
    "\n",
    "# Set the model to evaluation mode\n",
    "loaded_model.eval()\n"
   ]
  },
  {
   "cell_type": "code",
   "execution_count": 16,
   "metadata": {},
   "outputs": [],
   "source": [
    "test_sample = next(iter(dm.test_dataloader())).to(device)\n",
    "output = loaded_model(test_sample.input.x, test_sample.input.edge_index, test_sample.input.edge_weight)"
   ]
  },
  {
   "cell_type": "code",
   "execution_count": 26,
   "metadata": {},
   "outputs": [],
   "source": [
    "outputs = []\n",
    "\n",
    "for test_sample in dm.test_dataloader():\n",
    "    test_sample = test_sample.to(device)\n",
    "    output = loaded_model(test_sample.input.x, test_sample.input.edge_index, test_sample.input.edge_weight).squeeze()\n",
    "    outputs.append(output)\n",
    "\n",
    "stacked_outputs = torch.stack(outputs, dim=0)"
   ]
  },
  {
   "cell_type": "code",
   "execution_count": 17,
   "metadata": {},
   "outputs": [
    {
     "data": {
      "text/plain": [
       "torch.Size([24, 1082, 1])"
      ]
     },
     "execution_count": 17,
     "metadata": {},
     "output_type": "execute_result"
    }
   ],
   "source": [
    "output.shape"
   ]
  },
  {
   "cell_type": "code",
   "execution_count": 21,
   "metadata": {},
   "outputs": [
    {
     "data": {
      "text/plain": [
       "torch.Size([1, 24, 1082, 1])"
      ]
     },
     "execution_count": 21,
     "metadata": {},
     "output_type": "execute_result"
    }
   ],
   "source": [
    "test_sample.target.y.shape"
   ]
  },
  {
   "cell_type": "code",
   "execution_count": 23,
   "metadata": {},
   "outputs": [
    {
     "name": "stdout",
     "output_type": "stream",
     "text": [
      "tensor([], device='cuda:0', size=(0, 2), dtype=torch.int64)\n"
     ]
    }
   ],
   "source": [
    "nonzero_indices = torch.nonzero(test_sample.target.y[0, :, :, 0])\n",
    "print(nonzero_indices)"
   ]
  },
  {
   "cell_type": "code",
   "execution_count": 22,
   "metadata": {},
   "outputs": [
    {
     "data": {
      "image/png": "[encoded data removed]",
      "text/plain": [
       "<Figure size 640x480 with 1 Axes>"
      ]
     },
     "metadata": {},
     "output_type": "display_data"
    }
   ],
   "source": [
    "node_id = 0\n",
    "\n",
    "plt.plot(test_sample.target.y[0,:,node_id,0].cpu().detach().numpy(), label='Actual')\n",
    "plt.plot(output[:,node_id,0].cpu().detach().numpy(), label='Predicted')\n",
    "plt.legend()\n",
    "plt.xlabel('Time')\n",
    "plt.ylabel('Value')\n",
    "plt.title(f'Comparison of Actual and Predicted Values, node {node_id}')\n",
    "plt.show()"
   ]
  }
 ],
 "metadata": {
  "kernelspec": {
   "display_name": "koopman",
   "language": "python",
   "name": "python3"
  },
  "language_info": {
   "codemirror_mode": {
    "name": "ipython",
    "version": 3
   },
   "file_extension": ".py",
   "mimetype": "text/x-python",
   "name": "python",
   "nbconvert_exporter": "python",
   "pygments_lexer": "ipython3",
   "version": "3.10.13"
  }
 },
 "nbformat": 4,
 "nbformat_minor": 2
}
