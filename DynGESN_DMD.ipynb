{
 "cells": [
  {
   "cell_type": "code",
   "execution_count": 1,
   "metadata": {},
   "outputs": [
    {
     "name": "stderr",
     "output_type": "stream",
     "text": [
      "c:\\Users\\mgphy\\Anaconda3\\envs\\koopman\\lib\\site-packages\\torchaudio\\backend\\utils.py:74: UserWarning: No audio backend is available.\n",
      "  warnings.warn(\"No audio backend is available.\")\n"
     ]
    }
   ],
   "source": [
    "import torch\n",
    "import torch.nn as nn\n",
    "# import torch.optim as optim\n",
    "import pytorch_lightning as pl\n",
    "# import scipy\n",
    "# import umap\n",
    "import random\n",
    "# import itertools\n",
    "import tsl\n",
    "import numpy as np\n",
    "# import pandas as pd\n",
    "# import networkx as nx\n",
    "# import torch_geometric\n",
    "# import lightning as L\n",
    "import matplotlib.pyplot as plt\n",
    "\n",
    "from tsl.datasets import PvUS\n",
    "from tsl.data.datamodule import SpatioTemporalDataModule, TemporalSplitter\n",
    "from tsl.data.preprocessing import StandardScaler\n",
    "from tsl.metrics.torch import MaskedMAE\n",
    "from tsl.engines import Predictor\n",
    "from pytorch_lightning.loggers import TensorBoardLogger\n",
    "from pytorch_lightning.callbacks import ModelCheckpoint\n",
    "from pytorch_lightning.callbacks.early_stopping import EarlyStopping\n",
    "from einops import rearrange\n",
    "from tqdm import tqdm\n",
    "\n",
    "# from dataset.NCI1_dataset import NCI1\n",
    "# from tqdm import trange\n",
    "# from sklearn.model_selection import train_test_split\n",
    "\n",
    "from models.DynGraphESN import DynGESNModel\n",
    "\n",
    "from DMD.dmd import KANN\n",
    "\n",
    "seed = 42\n",
    "random.seed(seed)\n",
    "torch.manual_seed(seed)\n",
    "np.random.seed(seed)\n",
    "\n",
    "if torch.cuda.is_available():\n",
    "    device = torch.device('cuda')\n",
    "else:\n",
    "    device = torch.device('cpu')"
   ]
  },
  {
   "cell_type": "markdown",
   "metadata": {},
   "source": [
    "for more datasets:\n",
    "\n",
    "https://github.com/dtortorella/dyngraphesn/tree/master"
   ]
  },
  {
   "cell_type": "code",
   "execution_count": 2,
   "metadata": {},
   "outputs": [
    {
     "name": "stdout",
     "output_type": "stream",
     "text": [
      "PvUS-west(length=52560, n_nodes=1082, n_channels=1)\n",
      "Default similarity: distance\n",
      "Available similarity options: {'distance', 'correntropy'}\n"
     ]
    }
   ],
   "source": [
    "dataset = PvUS(root=\"dataset\", zones=['west'])\n",
    "print(dataset)\n",
    "\n",
    "print(f\"Default similarity: {dataset.similarity_score}\")\n",
    "print(f\"Available similarity options: {dataset.similarity_options}\")\n",
    "\n",
    "sim = dataset.get_similarity(\"distance\")  # or dataset.compute_similarity()\n",
    "\n",
    "connectivity = dataset.get_connectivity(threshold=0.1,\n",
    "                                        include_self=False,\n",
    "                                        normalize_axis=1,\n",
    "                                        layout=\"edge_index\")"
   ]
  },
  {
   "cell_type": "code",
   "execution_count": 3,
   "metadata": {},
   "outputs": [
    {
     "name": "stdout",
     "output_type": "stream",
     "text": [
      "SpatioTemporalDataset(n_samples=52283, n_nodes=1082, n_channels=1)\n"
     ]
    }
   ],
   "source": [
    "horizon = 24\n",
    "\n",
    "torch_dataset = tsl.data.SpatioTemporalDataset(target=dataset.dataframe(),\n",
    "                                      connectivity=connectivity,\n",
    "                                      mask=dataset.mask,\n",
    "                                      horizon=horizon,\n",
    "                                      window=254,\n",
    "                                      stride=1)\n",
    "print(torch_dataset)"
   ]
  },
  {
   "cell_type": "code",
   "execution_count": 4,
   "metadata": {},
   "outputs": [
    {
     "name": "stdout",
     "output_type": "stream",
     "text": [
      "Data(\n",
      "  input=(x=[t=254, n=1082, f=1], edge_index=[2, e=124778], edge_weight=[e=124778]),\n",
      "  target=(y=[t=24, n=1082, f=1]),\n",
      "  has_mask=False\n",
      ")\n",
      "{'x': 't n f', 'edge_index': '2 e', 'edge_weight': 'e', 'y': 't n f'}\n"
     ]
    }
   ],
   "source": [
    "sample = torch_dataset[0].to(device)\n",
    "print(sample)\n",
    "print(sample.pattern)"
   ]
  },
  {
   "cell_type": "code",
   "execution_count": 5,
   "metadata": {},
   "outputs": [
    {
     "name": "stdout",
     "output_type": "stream",
     "text": [
      "SpatioTemporalDataModule(train_len=37391, val_len=3928, test_len=10456, scalers=[target], batch_size=1)\n"
     ]
    }
   ],
   "source": [
    "scalers = {'target': StandardScaler(axis=(0, 1))}\n",
    "\n",
    "# Split data sequentially:\n",
    "#   |------------ dataset -----------|\n",
    "#   |--- train ---|- val -|-- test --|\n",
    "splitter = TemporalSplitter(val_len=0.1, test_len=0.2)\n",
    "\n",
    "dm = SpatioTemporalDataModule(\n",
    "    dataset=torch_dataset,\n",
    "    scalers=scalers,\n",
    "    splitter=splitter,\n",
    "    batch_size=1,\n",
    ")\n",
    "\n",
    "dm.setup()\n",
    "print(dm)"
   ]
  },
  {
   "cell_type": "code",
   "execution_count": 6,
   "metadata": {},
   "outputs": [],
   "source": [
    "time_interval, num_nodes, feat_size = sample.input.x.shape\n",
    "num_layers = 4\n",
    "reservoir_size = 150\n",
    "\n",
    "model = DynGESNModel(input_size=feat_size,\n",
    "                reservoir_size=reservoir_size,\n",
    "                input_scaling=0.4,\n",
    "                reservoir_layers=num_layers,\n",
    "                leaking_rate=0.5,\n",
    "                spectral_radius=4.0,\n",
    "                density=0.4,\n",
    "                reservoir_activation='self_norm',\n",
    "                alpha_decay=False).to(device)"
   ]
  },
  {
   "cell_type": "code",
   "execution_count": 8,
   "metadata": {},
   "outputs": [
    {
     "data": {
      "text/plain": [
       "StorageView(x=[64, 1082, 1], edge_index=[2, 124778], edge_weight=[124778])"
      ]
     },
     "execution_count": 8,
     "metadata": {},
     "output_type": "execute_result"
    }
   ],
   "source": [
    "sample.input"
   ]
  },
  {
   "cell_type": "code",
   "execution_count": 13,
   "metadata": {},
   "outputs": [
    {
     "data": {
      "text/plain": [
       "torch.Size([1, 1082, 600])"
      ]
     },
     "execution_count": 13,
     "metadata": {},
     "output_type": "execute_result"
    }
   ],
   "source": [
    "model(sample.input.x.unsqueeze(dim=0), sample.input.edge_index, sample.input.edge_weight).shape"
   ]
  },
  {
   "cell_type": "code",
   "execution_count": 8,
   "metadata": {},
   "outputs": [
    {
     "data": {
      "text/plain": [
       "StorageView(y=[24, 1082, 1])"
      ]
     },
     "execution_count": 8,
     "metadata": {},
     "output_type": "execute_result"
    }
   ],
   "source": [
    "sample.target"
   ]
  },
  {
   "cell_type": "code",
   "execution_count": 7,
   "metadata": {},
   "outputs": [],
   "source": [
    "class LinearRegression(pl.LightningModule):\n",
    "    def __init__(self, encoder, input_size, output_size):\n",
    "        super().__init__()\n",
    "        self.output_size = output_size\n",
    "        self.encoder = encoder\n",
    "        self.linear = nn.Linear(input_size, output_size)\n",
    "\n",
    "    def forward(self, x, edge_index, edge_weight):\n",
    "        z = self.encoder(x, edge_index, edge_weight)\n",
    "        b, n, f = z.shape\n",
    "        # z = rearrange(z, 'b n f -> b n f', n=n)\n",
    "        new_x = self.linear(z)\n",
    "        new_x = rearrange(new_x, 'b n f -> f n b', n=n, f=self.output_size)\n",
    "\n",
    "        return new_x"
   ]
  },
  {
   "cell_type": "code",
   "execution_count": 8,
   "metadata": {},
   "outputs": [],
   "source": [
    "forecaster = LinearRegression(model, input_size=reservoir_size*num_layers, output_size=feat_size*horizon).to(device)"
   ]
  },
  {
   "cell_type": "code",
   "execution_count": 18,
   "metadata": {},
   "outputs": [
    {
     "name": "stderr",
     "output_type": "stream",
     "text": [
      "GPU available: True (cuda), used: True\n",
      "TPU available: False, using: 0 TPU cores\n",
      "IPU available: False, using: 0 IPUs\n",
      "HPU available: False, using: 0 HPUs\n"
     ]
    }
   ],
   "source": [
    "loss_fn = MaskedMAE()\n",
    "\n",
    "metrics = {'mae': MaskedMAE()}\n",
    "\n",
    "# setup predictor\n",
    "predictor = Predictor(\n",
    "    model=forecaster,              # our initialized model\n",
    "    optim_class=torch.optim.Adam,  # specify optimizer to be used...\n",
    "    optim_kwargs={'lr': 0.07},    # ...and parameters for its initialization\n",
    "    loss_fn=loss_fn,               # which loss function to be used\n",
    "    metrics=metrics                # metrics to be logged during train/val/test\n",
    ")\n",
    "\n",
    "logger = TensorBoardLogger(save_dir=\"logs\", name=\"dynGESN\", version=0)\n",
    "# %load_ext tensorboard\n",
    "# %tensorboard --logdir logs\n",
    "\n",
    "checkpoint_callback = ModelCheckpoint(\n",
    "    dirpath='logs',\n",
    "    save_top_k=1,\n",
    "    monitor='val_mae',\n",
    "    mode='min',\n",
    ")\n",
    "early_stop_callback = EarlyStopping(monitor=\"val_mae\", min_delta=0.01, patience=3, verbose=False, mode=\"max\")\n",
    "\n",
    "trainer = pl.Trainer(\n",
    "                    max_epochs=15,\n",
    "                    logger=logger,\n",
    "                    profiler=\"simple\",\n",
    "                    # limit_train_batches=0.1, \n",
    "                    limit_val_batches=0.01,\n",
    "                    devices=1, \n",
    "                    accelerator=\"gpu\" if torch.cuda.is_available() else \"cpu\",\n",
    "                    limit_train_batches=10,  # end an epoch after 10 updates\n",
    "                    callbacks=[checkpoint_callback, early_stop_callback])\n"
   ]
  },
  {
   "cell_type": "code",
   "execution_count": 19,
   "metadata": {},
   "outputs": [
    {
     "name": "stderr",
     "output_type": "stream",
     "text": [
      "LOCAL_RANK: 0 - CUDA_VISIBLE_DEVICES: [0]\n",
      "\n",
      "  | Name          | Type             | Params\n",
      "---------------------------------------------------\n",
      "0 | loss_fn       | MaskedMAE        | 0     \n",
      "1 | train_metrics | MetricCollection | 0     \n",
      "2 | val_metrics   | MetricCollection | 0     \n",
      "3 | test_metrics  | MetricCollection | 0     \n",
      "4 | model         | LinearRegression | 172 K \n",
      "---------------------------------------------------\n",
      "14.4 K    Trainable params\n",
      "158 K     Non-trainable params\n",
      "172 K     Total params\n",
      "0.691     Total estimated model params size (MB)\n"
     ]
    },
    {
     "name": "stdout",
     "output_type": "stream",
     "text": [
      "Sanity Checking DataLoader 0:   0%|          | 0/2 [00:00<?, ?it/s]"
     ]
    },
    {
     "name": "stderr",
     "output_type": "stream",
     "text": [
      "Only args ['edge_index', 'edge_weight', 'x'] are forwarded to the model (LinearRegression). \n"
     ]
    },
    {
     "name": "stdout",
     "output_type": "stream",
     "text": [
      "Epoch 0:  97%|█████████▋| 97/100 [02:17<00:04,  0.70it/s, v_num=0]1.70it/s]\n",
      "Epoch 0:   0%|          | 16/3739 [00:25<1:39:44,  0.62it/s, v_num=0]\n",
      "                                                                           "
     ]
    },
    {
     "name": "stderr",
     "output_type": "stream",
     "text": [
      "c:\\Users\\mgphy\\Anaconda3\\envs\\koopman\\lib\\site-packages\\pytorch_lightning\\loops\\fit_loop.py:293: The number of training batches (10) is smaller than the logging interval Trainer(log_every_n_steps=50). Set a lower value for log_every_n_steps if you want to see logs for the training epoch.\n"
     ]
    },
    {
     "name": "stdout",
     "output_type": "stream",
     "text": [
      "Epoch 3: 100%|██████████| 10/10 [00:18<00:00,  0.53it/s, v_num=0, val_mae=23.40, train_mae=18.10]"
     ]
    },
    {
     "name": "stderr",
     "output_type": "stream",
     "text": [
      "FIT Profiler Report\n",
      "\n",
      "---------------------------------------------------------------------------------------------------------------------------------------------------------------------------------------------------------------------------------------------------------------------------\n",
      "|  Action                                                                                                                                                              \t|  Mean duration (s)\t|  Num calls      \t|  Total time (s) \t|  Percentage %   \t|\n",
      "---------------------------------------------------------------------------------------------------------------------------------------------------------------------------------------------------------------------------------------------------------------------------\n",
      "|  Total                                                                                                                                                               \t|  -              \t|  4442           \t|  78.797         \t|  100 %          \t|\n",
      "---------------------------------------------------------------------------------------------------------------------------------------------------------------------------------------------------------------------------------------------------------------------------\n",
      "|  run_training_epoch                                                                                                                                                  \t|  18.781         \t|  4              \t|  75.125         \t|  95.34          \t|\n",
      "|  [Strategy]SingleDeviceStrategy.validation_step                                                                                                                      \t|  0.37875        \t|  158            \t|  59.842         \t|  75.945         \t|\n",
      "|  [LightningModule]Predictor.optimizer_step                                                                                                                           \t|  0.38207        \t|  40             \t|  15.283         \t|  19.395         \t|\n",
      "|  run_training_batch                                                                                                                                                  \t|  0.38207        \t|  40             \t|  15.283         \t|  19.395         \t|\n",
      "|  [Strategy]SingleDeviceStrategy.training_step                                                                                                                        \t|  0.38127        \t|  40             \t|  15.251         \t|  19.355         \t|\n",
      "|  [LightningDataModule]SpatioTemporalDataModule.setup                                                                                                                 \t|  0.313          \t|  1              \t|  0.313          \t|  0.39722        \t|\n",
      "|  [Callback]TQDMProgressBar.on_validation_batch_end                                                                                                                   \t|  0.0017658      \t|  158            \t|  0.279          \t|  0.35407        \t|\n",
      "|  [_EvaluationLoop].val_next                                                                                                                                          \t|  0.0017025      \t|  158            \t|  0.269          \t|  0.34138        \t|\n",
      "|  [Strategy]SingleDeviceStrategy.batch_to_device                                                                                                                      \t|  0.0011061      \t|  198            \t|  0.219          \t|  0.27793        \t|\n",
      "|  [LightningModule]Predictor.transfer_batch_to_device                                                                                                                 \t|  0.0010253      \t|  198            \t|  0.203          \t|  0.25762        \t|\n",
      "|  [_TrainingEpochLoop].train_dataloader_next                                                                                                                          \t|  0.002325       \t|  40             \t|  0.093          \t|  0.11802        \t|\n",
      "|  [Callback]TQDMProgressBar.on_train_batch_end                                                                                                                        \t|  0.000775       \t|  40             \t|  0.031          \t|  0.039342       \t|\n",
      "|  [Strategy]SingleDeviceStrategy.backward                                                                                                                             \t|  0.0004         \t|  40             \t|  0.016          \t|  0.020305       \t|\n",
      "|  [Callback]ModelCheckpoint{'monitor': 'val_mae', 'mode': 'min', 'every_n_train_steps': 0, 'every_n_epochs': 1, 'train_time_interval': None}.on_train_epoch_end       \t|  0.004          \t|  4              \t|  0.016          \t|  0.020305       \t|\n",
      "|  [Callback]TQDMProgressBar.on_train_start                                                                                                                            \t|  0.015          \t|  1              \t|  0.015          \t|  0.019036       \t|\n",
      "|  [LightningModule]Predictor.configure_callbacks                                                                                                                      \t|  0.0            \t|  1              \t|  0.0            \t|  0.0            \t|\n",
      "|  [LightningDataModule]SpatioTemporalDataModule.prepare_data                                                                                                          \t|  0.0            \t|  1              \t|  0.0            \t|  0.0            \t|\n",
      "|  [LightningModule]Predictor.prepare_data                                                                                                                             \t|  0.0            \t|  1              \t|  0.0            \t|  0.0            \t|\n",
      "|  [Callback]EarlyStopping{'monitor': 'val_mae', 'mode': 'max'}.setup                                                                                                  \t|  0.0            \t|  1              \t|  0.0            \t|  0.0            \t|\n",
      "|  [Callback]TQDMProgressBar.setup                                                                                                                                     \t|  0.0            \t|  1              \t|  0.0            \t|  0.0            \t|\n",
      "|  [Callback]ModelSummary.setup                                                                                                                                        \t|  0.0            \t|  1              \t|  0.0            \t|  0.0            \t|\n",
      "|  [Callback]ModelCheckpoint{'monitor': 'val_mae', 'mode': 'min', 'every_n_train_steps': 0, 'every_n_epochs': 1, 'train_time_interval': None}.setup                    \t|  0.0            \t|  1              \t|  0.0            \t|  0.0            \t|\n",
      "|  [LightningModule]Predictor.setup                                                                                                                                    \t|  0.0            \t|  1              \t|  0.0            \t|  0.0            \t|\n",
      "|  [LightningModule]Predictor.configure_optimizers                                                                                                                     \t|  0.0            \t|  1              \t|  0.0            \t|  0.0            \t|\n",
      "|  [Callback]EarlyStopping{'monitor': 'val_mae', 'mode': 'max'}.on_fit_start                                                                                           \t|  0.0            \t|  1              \t|  0.0            \t|  0.0            \t|\n",
      "|  [Callback]TQDMProgressBar.on_fit_start                                                                                                                              \t|  0.0            \t|  1              \t|  0.0            \t|  0.0            \t|\n",
      "|  [Callback]ModelSummary.on_fit_start                                                                                                                                 \t|  0.0            \t|  1              \t|  0.0            \t|  0.0            \t|\n",
      "|  [Callback]ModelCheckpoint{'monitor': 'val_mae', 'mode': 'min', 'every_n_train_steps': 0, 'every_n_epochs': 1, 'train_time_interval': None}.on_fit_start             \t|  0.0            \t|  1              \t|  0.0            \t|  0.0            \t|\n",
      "|  [LightningModule]Predictor.on_fit_start                                                                                                                             \t|  0.0            \t|  1              \t|  0.0            \t|  0.0            \t|\n",
      "|  [Callback]EarlyStopping{'monitor': 'val_mae', 'mode': 'max'}.on_sanity_check_start                                                                                  \t|  0.0            \t|  1              \t|  0.0            \t|  0.0            \t|\n",
      "|  [Callback]TQDMProgressBar.on_sanity_check_start                                                                                                                     \t|  0.0            \t|  1              \t|  0.0            \t|  0.0            \t|\n",
      "|  [Callback]ModelSummary.on_sanity_check_start                                                                                                                        \t|  0.0            \t|  1              \t|  0.0            \t|  0.0            \t|\n",
      "|  [Callback]ModelCheckpoint{'monitor': 'val_mae', 'mode': 'min', 'every_n_train_steps': 0, 'every_n_epochs': 1, 'train_time_interval': None}.on_sanity_check_start    \t|  0.0            \t|  1              \t|  0.0            \t|  0.0            \t|\n",
      "|  [LightningDataModule]SpatioTemporalDataModule.val_dataloader                                                                                                        \t|  0.0            \t|  1              \t|  0.0            \t|  0.0            \t|\n",
      "|  [LightningModule]Predictor.on_validation_model_eval                                                                                                                 \t|  0.0            \t|  5              \t|  0.0            \t|  0.0            \t|\n",
      "|  [Callback]EarlyStopping{'monitor': 'val_mae', 'mode': 'max'}.on_validation_start                                                                                    \t|  0.0            \t|  5              \t|  0.0            \t|  0.0            \t|\n",
      "|  [Callback]TQDMProgressBar.on_validation_start                                                                                                                       \t|  0.0            \t|  5              \t|  0.0            \t|  0.0            \t|\n",
      "|  [Callback]ModelSummary.on_validation_start                                                                                                                          \t|  0.0            \t|  5              \t|  0.0            \t|  0.0            \t|\n",
      "|  [Callback]ModelCheckpoint{'monitor': 'val_mae', 'mode': 'min', 'every_n_train_steps': 0, 'every_n_epochs': 1, 'train_time_interval': None}.on_validation_start      \t|  0.0            \t|  5              \t|  0.0            \t|  0.0            \t|\n",
      "|  [LightningModule]Predictor.on_validation_start                                                                                                                      \t|  0.0            \t|  5              \t|  0.0            \t|  0.0            \t|\n",
      "|  [Strategy]SingleDeviceStrategy.on_validation_start                                                                                                                  \t|  0.0            \t|  5              \t|  0.0            \t|  0.0            \t|\n",
      "|  [Callback]EarlyStopping{'monitor': 'val_mae', 'mode': 'max'}.on_validation_epoch_start                                                                              \t|  0.0            \t|  5              \t|  0.0            \t|  0.0            \t|\n",
      "|  [Callback]TQDMProgressBar.on_validation_epoch_start                                                                                                                 \t|  0.0            \t|  5              \t|  0.0            \t|  0.0            \t|\n",
      "|  [Callback]ModelSummary.on_validation_epoch_start                                                                                                                    \t|  0.0            \t|  5              \t|  0.0            \t|  0.0            \t|\n",
      "|  [Callback]ModelCheckpoint{'monitor': 'val_mae', 'mode': 'min', 'every_n_train_steps': 0, 'every_n_epochs': 1, 'train_time_interval': None}.on_validation_epoch_start\t|  0.0            \t|  5              \t|  0.0            \t|  0.0            \t|\n",
      "|  [LightningModule]Predictor.on_validation_epoch_start                                                                                                                \t|  0.0            \t|  5              \t|  0.0            \t|  0.0            \t|\n",
      "|  [LightningModule]Predictor.on_before_batch_transfer                                                                                                                 \t|  0.0            \t|  198            \t|  0.0            \t|  0.0            \t|\n",
      "|  [LightningModule]Predictor.on_after_batch_transfer                                                                                                                  \t|  0.0            \t|  198            \t|  0.0            \t|  0.0            \t|\n",
      "|  [Callback]EarlyStopping{'monitor': 'val_mae', 'mode': 'max'}.on_validation_batch_start                                                                              \t|  0.0            \t|  158            \t|  0.0            \t|  0.0            \t|\n",
      "|  [Callback]TQDMProgressBar.on_validation_batch_start                                                                                                                 \t|  0.0            \t|  158            \t|  0.0            \t|  0.0            \t|\n",
      "|  [Callback]ModelSummary.on_validation_batch_start                                                                                                                    \t|  0.0            \t|  158            \t|  0.0            \t|  0.0            \t|\n",
      "|  [Callback]ModelCheckpoint{'monitor': 'val_mae', 'mode': 'min', 'every_n_train_steps': 0, 'every_n_epochs': 1, 'train_time_interval': None}.on_validation_batch_start\t|  0.0            \t|  158            \t|  0.0            \t|  0.0            \t|\n",
      "|  [LightningModule]Predictor.on_validation_batch_start                                                                                                                \t|  0.0            \t|  158            \t|  0.0            \t|  0.0            \t|\n",
      "|  [Callback]EarlyStopping{'monitor': 'val_mae', 'mode': 'max'}.on_validation_batch_end                                                                                \t|  0.0            \t|  158            \t|  0.0            \t|  0.0            \t|\n",
      "|  [Callback]ModelSummary.on_validation_batch_end                                                                                                                      \t|  0.0            \t|  158            \t|  0.0            \t|  0.0            \t|\n",
      "|  [Callback]ModelCheckpoint{'monitor': 'val_mae', 'mode': 'min', 'every_n_train_steps': 0, 'every_n_epochs': 1, 'train_time_interval': None}.on_validation_batch_end  \t|  0.0            \t|  158            \t|  0.0            \t|  0.0            \t|\n",
      "|  [LightningModule]Predictor.on_validation_batch_end                                                                                                                  \t|  0.0            \t|  158            \t|  0.0            \t|  0.0            \t|\n",
      "|  [Callback]EarlyStopping{'monitor': 'val_mae', 'mode': 'max'}.on_validation_epoch_end                                                                                \t|  0.0            \t|  5              \t|  0.0            \t|  0.0            \t|\n",
      "|  [Callback]TQDMProgressBar.on_validation_epoch_end                                                                                                                   \t|  0.0            \t|  5              \t|  0.0            \t|  0.0            \t|\n",
      "|  [Callback]ModelSummary.on_validation_epoch_end                                                                                                                      \t|  0.0            \t|  5              \t|  0.0            \t|  0.0            \t|\n",
      "|  [Callback]ModelCheckpoint{'monitor': 'val_mae', 'mode': 'min', 'every_n_train_steps': 0, 'every_n_epochs': 1, 'train_time_interval': None}.on_validation_epoch_end  \t|  0.0            \t|  5              \t|  0.0            \t|  0.0            \t|\n",
      "|  [LightningModule]Predictor.on_validation_epoch_end                                                                                                                  \t|  0.0            \t|  5              \t|  0.0            \t|  0.0            \t|\n",
      "|  [Callback]EarlyStopping{'monitor': 'val_mae', 'mode': 'max'}.on_validation_end                                                                                      \t|  0.0            \t|  5              \t|  0.0            \t|  0.0            \t|\n",
      "|  [Callback]TQDMProgressBar.on_validation_end                                                                                                                         \t|  0.0            \t|  5              \t|  0.0            \t|  0.0            \t|\n",
      "|  [Callback]ModelSummary.on_validation_end                                                                                                                            \t|  0.0            \t|  5              \t|  0.0            \t|  0.0            \t|\n",
      "|  [Callback]ModelCheckpoint{'monitor': 'val_mae', 'mode': 'min', 'every_n_train_steps': 0, 'every_n_epochs': 1, 'train_time_interval': None}.on_validation_end        \t|  0.0            \t|  5              \t|  0.0            \t|  0.0            \t|\n",
      "|  [LightningModule]Predictor.on_validation_end                                                                                                                        \t|  0.0            \t|  5              \t|  0.0            \t|  0.0            \t|\n",
      "|  [Strategy]SingleDeviceStrategy.on_validation_end                                                                                                                    \t|  0.0            \t|  5              \t|  0.0            \t|  0.0            \t|\n",
      "|  [LightningModule]Predictor.on_validation_model_train                                                                                                                \t|  0.0            \t|  5              \t|  0.0            \t|  0.0            \t|\n",
      "|  [Callback]EarlyStopping{'monitor': 'val_mae', 'mode': 'max'}.on_sanity_check_end                                                                                    \t|  0.0            \t|  1              \t|  0.0            \t|  0.0            \t|\n",
      "|  [Callback]TQDMProgressBar.on_sanity_check_end                                                                                                                       \t|  0.0            \t|  1              \t|  0.0            \t|  0.0            \t|\n",
      "|  [Callback]ModelSummary.on_sanity_check_end                                                                                                                          \t|  0.0            \t|  1              \t|  0.0            \t|  0.0            \t|\n",
      "|  [Callback]ModelCheckpoint{'monitor': 'val_mae', 'mode': 'min', 'every_n_train_steps': 0, 'every_n_epochs': 1, 'train_time_interval': None}.on_sanity_check_end      \t|  0.0            \t|  1              \t|  0.0            \t|  0.0            \t|\n",
      "|  [LightningDataModule]SpatioTemporalDataModule.train_dataloader                                                                                                      \t|  0.0            \t|  1              \t|  0.0            \t|  0.0            \t|\n",
      "|  [Callback]EarlyStopping{'monitor': 'val_mae', 'mode': 'max'}.on_train_start                                                                                         \t|  0.0            \t|  1              \t|  0.0            \t|  0.0            \t|\n",
      "|  [Callback]ModelSummary.on_train_start                                                                                                                               \t|  0.0            \t|  1              \t|  0.0            \t|  0.0            \t|\n",
      "|  [Callback]ModelCheckpoint{'monitor': 'val_mae', 'mode': 'min', 'every_n_train_steps': 0, 'every_n_epochs': 1, 'train_time_interval': None}.on_train_start           \t|  0.0            \t|  1              \t|  0.0            \t|  0.0            \t|\n",
      "|  [LightningModule]Predictor.on_train_start                                                                                                                           \t|  0.0            \t|  1              \t|  0.0            \t|  0.0            \t|\n",
      "|  [Strategy]SingleDeviceStrategy.on_train_start                                                                                                                       \t|  0.0            \t|  1              \t|  0.0            \t|  0.0            \t|\n",
      "|  [Callback]EarlyStopping{'monitor': 'val_mae', 'mode': 'max'}.on_train_epoch_start                                                                                   \t|  0.0            \t|  4              \t|  0.0            \t|  0.0            \t|\n",
      "|  [Callback]TQDMProgressBar.on_train_epoch_start                                                                                                                      \t|  0.0            \t|  4              \t|  0.0            \t|  0.0            \t|\n",
      "|  [Callback]ModelSummary.on_train_epoch_start                                                                                                                         \t|  0.0            \t|  4              \t|  0.0            \t|  0.0            \t|\n",
      "|  [Callback]ModelCheckpoint{'monitor': 'val_mae', 'mode': 'min', 'every_n_train_steps': 0, 'every_n_epochs': 1, 'train_time_interval': None}.on_train_epoch_start     \t|  0.0            \t|  4              \t|  0.0            \t|  0.0            \t|\n",
      "|  [LightningModule]Predictor.on_train_epoch_start                                                                                                                     \t|  0.0            \t|  4              \t|  0.0            \t|  0.0            \t|\n",
      "|  [Callback]EarlyStopping{'monitor': 'val_mae', 'mode': 'max'}.on_train_batch_start                                                                                   \t|  0.0            \t|  40             \t|  0.0            \t|  0.0            \t|\n",
      "|  [Callback]TQDMProgressBar.on_train_batch_start                                                                                                                      \t|  0.0            \t|  40             \t|  0.0            \t|  0.0            \t|\n",
      "|  [Callback]ModelSummary.on_train_batch_start                                                                                                                         \t|  0.0            \t|  40             \t|  0.0            \t|  0.0            \t|\n",
      "|  [Callback]ModelCheckpoint{'monitor': 'val_mae', 'mode': 'min', 'every_n_train_steps': 0, 'every_n_epochs': 1, 'train_time_interval': None}.on_train_batch_start     \t|  0.0            \t|  40             \t|  0.0            \t|  0.0            \t|\n",
      "|  [LightningModule]Predictor.on_train_batch_start                                                                                                                     \t|  0.0            \t|  40             \t|  0.0            \t|  0.0            \t|\n",
      "|  [Strategy]SingleDeviceStrategy.on_train_batch_start                                                                                                                 \t|  0.0            \t|  40             \t|  0.0            \t|  0.0            \t|\n",
      "|  [Callback]EarlyStopping{'monitor': 'val_mae', 'mode': 'max'}.on_before_zero_grad                                                                                    \t|  0.0            \t|  40             \t|  0.0            \t|  0.0            \t|\n",
      "|  [Callback]TQDMProgressBar.on_before_zero_grad                                                                                                                       \t|  0.0            \t|  40             \t|  0.0            \t|  0.0            \t|\n",
      "|  [Callback]ModelSummary.on_before_zero_grad                                                                                                                          \t|  0.0            \t|  40             \t|  0.0            \t|  0.0            \t|\n",
      "|  [Callback]ModelCheckpoint{'monitor': 'val_mae', 'mode': 'min', 'every_n_train_steps': 0, 'every_n_epochs': 1, 'train_time_interval': None}.on_before_zero_grad      \t|  0.0            \t|  40             \t|  0.0            \t|  0.0            \t|\n",
      "|  [LightningModule]Predictor.on_before_zero_grad                                                                                                                      \t|  0.0            \t|  40             \t|  0.0            \t|  0.0            \t|\n",
      "|  [LightningModule]Predictor.optimizer_zero_grad                                                                                                                      \t|  0.0            \t|  40             \t|  0.0            \t|  0.0            \t|\n",
      "|  [Callback]EarlyStopping{'monitor': 'val_mae', 'mode': 'max'}.on_before_backward                                                                                     \t|  0.0            \t|  40             \t|  0.0            \t|  0.0            \t|\n",
      "|  [Callback]TQDMProgressBar.on_before_backward                                                                                                                        \t|  0.0            \t|  40             \t|  0.0            \t|  0.0            \t|\n",
      "|  [Callback]ModelSummary.on_before_backward                                                                                                                           \t|  0.0            \t|  40             \t|  0.0            \t|  0.0            \t|\n",
      "|  [Callback]ModelCheckpoint{'monitor': 'val_mae', 'mode': 'min', 'every_n_train_steps': 0, 'every_n_epochs': 1, 'train_time_interval': None}.on_before_backward       \t|  0.0            \t|  40             \t|  0.0            \t|  0.0            \t|\n",
      "|  [LightningModule]Predictor.on_before_backward                                                                                                                       \t|  0.0            \t|  40             \t|  0.0            \t|  0.0            \t|\n",
      "|  [Callback]EarlyStopping{'monitor': 'val_mae', 'mode': 'max'}.on_after_backward                                                                                      \t|  0.0            \t|  40             \t|  0.0            \t|  0.0            \t|\n",
      "|  [Callback]TQDMProgressBar.on_after_backward                                                                                                                         \t|  0.0            \t|  40             \t|  0.0            \t|  0.0            \t|\n",
      "|  [Callback]ModelSummary.on_after_backward                                                                                                                            \t|  0.0            \t|  40             \t|  0.0            \t|  0.0            \t|\n",
      "|  [Callback]ModelCheckpoint{'monitor': 'val_mae', 'mode': 'min', 'every_n_train_steps': 0, 'every_n_epochs': 1, 'train_time_interval': None}.on_after_backward        \t|  0.0            \t|  40             \t|  0.0            \t|  0.0            \t|\n",
      "|  [LightningModule]Predictor.on_after_backward                                                                                                                        \t|  0.0            \t|  40             \t|  0.0            \t|  0.0            \t|\n",
      "|  [Callback]EarlyStopping{'monitor': 'val_mae', 'mode': 'max'}.on_before_optimizer_step                                                                               \t|  0.0            \t|  40             \t|  0.0            \t|  0.0            \t|\n",
      "|  [Callback]TQDMProgressBar.on_before_optimizer_step                                                                                                                  \t|  0.0            \t|  40             \t|  0.0            \t|  0.0            \t|\n",
      "|  [Callback]ModelSummary.on_before_optimizer_step                                                                                                                     \t|  0.0            \t|  40             \t|  0.0            \t|  0.0            \t|\n",
      "|  [Callback]ModelCheckpoint{'monitor': 'val_mae', 'mode': 'min', 'every_n_train_steps': 0, 'every_n_epochs': 1, 'train_time_interval': None}.on_before_optimizer_step \t|  0.0            \t|  40             \t|  0.0            \t|  0.0            \t|\n",
      "|  [LightningModule]Predictor.on_before_optimizer_step                                                                                                                 \t|  0.0            \t|  40             \t|  0.0            \t|  0.0            \t|\n",
      "|  [LightningModule]Predictor.configure_gradient_clipping                                                                                                              \t|  0.0            \t|  40             \t|  0.0            \t|  0.0            \t|\n",
      "|  [Callback]EarlyStopping{'monitor': 'val_mae', 'mode': 'max'}.on_train_batch_end                                                                                     \t|  0.0            \t|  40             \t|  0.0            \t|  0.0            \t|\n",
      "|  [Callback]ModelSummary.on_train_batch_end                                                                                                                           \t|  0.0            \t|  40             \t|  0.0            \t|  0.0            \t|\n",
      "|  [Callback]ModelCheckpoint{'monitor': 'val_mae', 'mode': 'min', 'every_n_train_steps': 0, 'every_n_epochs': 1, 'train_time_interval': None}.on_train_batch_end       \t|  0.0            \t|  40             \t|  0.0            \t|  0.0            \t|\n",
      "|  [LightningModule]Predictor.on_train_batch_end                                                                                                                       \t|  0.0            \t|  40             \t|  0.0            \t|  0.0            \t|\n",
      "|  [LightningModule]Predictor.on_validation_model_zero_grad                                                                                                            \t|  0.0            \t|  4              \t|  0.0            \t|  0.0            \t|\n",
      "|  [Callback]TQDMProgressBar.on_train_epoch_end                                                                                                                        \t|  0.0            \t|  4              \t|  0.0            \t|  0.0            \t|\n",
      "|  [Callback]ModelSummary.on_train_epoch_end                                                                                                                           \t|  0.0            \t|  4              \t|  0.0            \t|  0.0            \t|\n",
      "|  [LightningModule]Predictor.on_train_epoch_end                                                                                                                       \t|  0.0            \t|  4              \t|  0.0            \t|  0.0            \t|\n",
      "|  [Callback]EarlyStopping{'monitor': 'val_mae', 'mode': 'max'}.on_train_epoch_end                                                                                     \t|  0.0            \t|  4              \t|  0.0            \t|  0.0            \t|\n",
      "|  [LightningDataModule]SpatioTemporalDataModule.state_dict                                                                                                            \t|  0.0            \t|  3              \t|  0.0            \t|  0.0            \t|\n",
      "|  [Callback]EarlyStopping{'monitor': 'val_mae', 'mode': 'max'}.on_save_checkpoint                                                                                     \t|  0.0            \t|  3              \t|  0.0            \t|  0.0            \t|\n",
      "|  [Callback]TQDMProgressBar.on_save_checkpoint                                                                                                                        \t|  0.0            \t|  3              \t|  0.0            \t|  0.0            \t|\n",
      "|  [Callback]ModelSummary.on_save_checkpoint                                                                                                                           \t|  0.0            \t|  3              \t|  0.0            \t|  0.0            \t|\n",
      "|  [Callback]ModelCheckpoint{'monitor': 'val_mae', 'mode': 'min', 'every_n_train_steps': 0, 'every_n_epochs': 1, 'train_time_interval': None}.on_save_checkpoint       \t|  0.0            \t|  3              \t|  0.0            \t|  0.0            \t|\n",
      "|  [LightningModule]Predictor.on_save_checkpoint                                                                                                                       \t|  0.0            \t|  3              \t|  0.0            \t|  0.0            \t|\n",
      "|  [Callback]EarlyStopping{'monitor': 'val_mae', 'mode': 'max'}.on_train_end                                                                                           \t|  0.0            \t|  1              \t|  0.0            \t|  0.0            \t|\n",
      "|  [Callback]TQDMProgressBar.on_train_end                                                                                                                              \t|  0.0            \t|  1              \t|  0.0            \t|  0.0            \t|\n",
      "|  [Callback]ModelSummary.on_train_end                                                                                                                                 \t|  0.0            \t|  1              \t|  0.0            \t|  0.0            \t|\n",
      "|  [Callback]ModelCheckpoint{'monitor': 'val_mae', 'mode': 'min', 'every_n_train_steps': 0, 'every_n_epochs': 1, 'train_time_interval': None}.on_train_end             \t|  0.0            \t|  1              \t|  0.0            \t|  0.0            \t|\n",
      "|  [LightningModule]Predictor.on_train_end                                                                                                                             \t|  0.0            \t|  1              \t|  0.0            \t|  0.0            \t|\n",
      "|  [Strategy]SingleDeviceStrategy.on_train_end                                                                                                                         \t|  0.0            \t|  1              \t|  0.0            \t|  0.0            \t|\n",
      "|  [Callback]EarlyStopping{'monitor': 'val_mae', 'mode': 'max'}.on_fit_end                                                                                             \t|  0.0            \t|  1              \t|  0.0            \t|  0.0            \t|\n",
      "|  [Callback]TQDMProgressBar.on_fit_end                                                                                                                                \t|  0.0            \t|  1              \t|  0.0            \t|  0.0            \t|\n",
      "|  [Callback]ModelSummary.on_fit_end                                                                                                                                   \t|  0.0            \t|  1              \t|  0.0            \t|  0.0            \t|\n",
      "|  [Callback]ModelCheckpoint{'monitor': 'val_mae', 'mode': 'min', 'every_n_train_steps': 0, 'every_n_epochs': 1, 'train_time_interval': None}.on_fit_end               \t|  0.0            \t|  1              \t|  0.0            \t|  0.0            \t|\n",
      "|  [LightningModule]Predictor.on_fit_end                                                                                                                               \t|  0.0            \t|  1              \t|  0.0            \t|  0.0            \t|\n",
      "|  [LightningDataModule]SpatioTemporalDataModule.teardown                                                                                                              \t|  0.0            \t|  1              \t|  0.0            \t|  0.0            \t|\n",
      "|  [Callback]EarlyStopping{'monitor': 'val_mae', 'mode': 'max'}.teardown                                                                                               \t|  0.0            \t|  1              \t|  0.0            \t|  0.0            \t|\n",
      "|  [Callback]TQDMProgressBar.teardown                                                                                                                                  \t|  0.0            \t|  1              \t|  0.0            \t|  0.0            \t|\n",
      "|  [Callback]ModelSummary.teardown                                                                                                                                     \t|  0.0            \t|  1              \t|  0.0            \t|  0.0            \t|\n",
      "|  [Callback]ModelCheckpoint{'monitor': 'val_mae', 'mode': 'min', 'every_n_train_steps': 0, 'every_n_epochs': 1, 'train_time_interval': None}.teardown                 \t|  0.0            \t|  1              \t|  0.0            \t|  0.0            \t|\n",
      "|  [LightningModule]Predictor.teardown                                                                                                                                 \t|  0.0            \t|  1              \t|  0.0            \t|  0.0            \t|\n",
      "---------------------------------------------------------------------------------------------------------------------------------------------------------------------------------------------------------------------------------------------------------------------------\n",
      "\n"
     ]
    },
    {
     "name": "stdout",
     "output_type": "stream",
     "text": [
      "\n"
     ]
    }
   ],
   "source": [
    "trainer.fit(predictor, datamodule=dm)"
   ]
  },
  {
   "cell_type": "code",
   "execution_count": 20,
   "metadata": {},
   "outputs": [],
   "source": [
    "torch.save(forecaster.state_dict(), \"models/dynGESN.pt\")"
   ]
  },
  {
   "cell_type": "code",
   "execution_count": 21,
   "metadata": {},
   "outputs": [
    {
     "data": {
      "text/plain": [
       "LinearRegression(\n",
       "  (encoder): DynGESNModel(\n",
       "    (reservoir): DynGraphESN(\n",
       "      (rnn_cells): ModuleList(\n",
       "        (0-3): 4 x GESNLayer()\n",
       "      )\n",
       "    )\n",
       "  )\n",
       "  (linear): Linear(in_features=600, out_features=24, bias=True)\n",
       ")"
      ]
     },
     "execution_count": 21,
     "metadata": {},
     "output_type": "execute_result"
    }
   ],
   "source": [
    "# Specify the path to the saved model\n",
    "model_path = \"models/dynGESN.pt\"\n",
    "\n",
    "# Create an instance of the LinearRegression model\n",
    "loaded_model = LinearRegression(model, input_size=reservoir_size*num_layers, output_size=feat_size*horizon).to(device)\n",
    "\n",
    "# Load the saved model state_dict\n",
    "loaded_model.load_state_dict(torch.load(model_path))\n",
    "\n",
    "# Set the model to evaluation mode\n",
    "loaded_model.eval()\n"
   ]
  },
  {
   "cell_type": "code",
   "execution_count": 16,
   "metadata": {},
   "outputs": [],
   "source": [
    "test_sample = next(iter(dm.test_dataloader())).to(device)\n",
    "output = loaded_model(test_sample.input.x, test_sample.input.edge_index, test_sample.input.edge_weight)"
   ]
  },
  {
   "cell_type": "code",
   "execution_count": null,
   "metadata": {},
   "outputs": [],
   "source": [
    "outputs = []\n",
    "targets = []\n",
    "\n",
    "for test_sample in tqdm(dm.test_dataloader()):\n",
    "    test_sample = test_sample.to(device)\n",
    "    output = loaded_model(test_sample.input.x, test_sample.input.edge_index, test_sample.input.edge_weight).squeeze()\n",
    "\n",
    "    outputs.append(output)\n",
    "    targets.append(test_sample.target.y)\n",
    "    if len(outputs) >= 100:\n",
    "        break\n",
    "\n",
    "stacked_outputs = torch.stack(outputs, dim=0)\n",
    "stacked_targets = torch.stack(targets, dim=0)"
   ]
  },
  {
   "cell_type": "code",
   "execution_count": 15,
   "metadata": {},
   "outputs": [
    {
     "data": {
      "text/plain": [
       "torch.Size([100, 24, 1082])"
      ]
     },
     "execution_count": 15,
     "metadata": {},
     "output_type": "execute_result"
    }
   ],
   "source": [
    "stacked_outputs.shape"
   ]
  },
  {
   "cell_type": "code",
   "execution_count": 21,
   "metadata": {},
   "outputs": [
    {
     "data": {
      "text/plain": [
       "torch.Size([100, 1, 24, 1082, 1])"
      ]
     },
     "execution_count": 21,
     "metadata": {},
     "output_type": "execute_result"
    }
   ],
   "source": [
    "stacked_targets.shape"
   ]
  },
  {
   "cell_type": "code",
   "execution_count": 12,
   "metadata": {},
   "outputs": [
    {
     "data": {
      "image/png": "[encoded data removed]",
      "text/plain": [
       "<Figure size 640x480 with 1 Axes>"
      ]
     },
     "metadata": {},
     "output_type": "display_data"
    }
   ],
   "source": [
    "plt.hist(stacked_outputs.flatten().cpu().detach().numpy(), bins=50)\n",
    "plt.xlabel('Value')\n",
    "plt.ylabel('Frequency')\n",
    "plt.title('Distribution of stacked_outputs')\n",
    "plt.show()\n"
   ]
  },
  {
   "cell_type": "code",
   "execution_count": 22,
   "metadata": {},
   "outputs": [
    {
     "name": "stdout",
     "output_type": "stream",
     "text": [
      "tensor([[ 18,  23, 181],\n",
      "        [ 18,  23, 193],\n",
      "        [ 18,  23, 211],\n",
      "        ...,\n",
      "        [ 99,  12, 929],\n",
      "        [ 99,  12, 931],\n",
      "        [ 99,  13, 924]], device='cuda:0')\n"
     ]
    }
   ],
   "source": [
    "nonzero_indices = torch.nonzero(stacked_targets[:, 0, :, :, 0])\n",
    "print(nonzero_indices)"
   ]
  },
  {
   "cell_type": "code",
   "execution_count": 27,
   "metadata": {},
   "outputs": [
    {
     "data": {
      "text/plain": [
       "tensor([20.3000, 19.9500, 19.9500, 19.3500, 18.8000, 18.2000, 17.0500, 15.6500,\n",
       "        14.5500, 13.4000, 10.4500,  6.2500,  1.8500,  0.0000,  0.0000,  0.0000,\n",
       "         0.0000,  0.0000,  0.0000,  0.0000,  0.0000,  0.0000,  0.0000,  0.0000],\n",
       "       device='cuda:0')"
      ]
     },
     "execution_count": 27,
     "metadata": {},
     "output_type": "execute_result"
    }
   ],
   "source": [
    "stacked_targets[99, 0,:,929,0]"
   ]
  },
  {
   "cell_type": "code",
   "execution_count": 28,
   "metadata": {},
   "outputs": [
    {
     "data": {
      "image/png": "[encoded data removed]",
      "text/plain": [
       "<Figure size 640x480 with 1 Axes>"
      ]
     },
     "metadata": {},
     "output_type": "display_data"
    }
   ],
   "source": [
    "node_id = 929\n",
    "\n",
    "plt.plot(stacked_targets[99,0,:,node_id,0].cpu().detach().numpy(), label='Actual')\n",
    "plt.plot(stacked_outputs[99,:,node_id].cpu().detach().numpy(), label='Predicted')\n",
    "plt.legend()\n",
    "plt.xlabel('Time')\n",
    "plt.ylabel('Value')\n",
    "plt.title(f'Comparison of Actual and Predicted Values, node {node_id}')\n",
    "plt.show()"
   ]
  }
 ],
 "metadata": {
  "kernelspec": {
   "display_name": "koopman",
   "language": "python",
   "name": "python3"
  },
  "language_info": {
   "codemirror_mode": {
    "name": "ipython",
    "version": 3
   },
   "file_extension": ".py",
   "mimetype": "text/x-python",
   "name": "python",
   "nbconvert_exporter": "python",
   "pygments_lexer": "ipython3",
   "version": "3.9.17"
  }
 },
 "nbformat": 4,
 "nbformat_minor": 2
}
