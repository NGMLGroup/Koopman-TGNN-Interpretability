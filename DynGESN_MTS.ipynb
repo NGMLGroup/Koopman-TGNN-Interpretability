{
 "cells": [
  {
   "cell_type": "code",
   "execution_count": 1,
   "metadata": {},
   "outputs": [
    {
     "name": "stderr",
     "output_type": "stream",
     "text": [
      "c:\\Users\\mgphy\\Anaconda3\\envs\\koopman\\lib\\site-packages\\torchaudio\\backend\\utils.py:74: UserWarning: No audio backend is available.\n",
      "  warnings.warn(\"No audio backend is available.\")\n"
     ]
    }
   ],
   "source": [
    "import torch\n",
    "import numpy as np\n",
    "import random\n",
    "\n",
    "from dataset.utils import DataLoader\n",
    "from models.DynGraphESN import DynGESNModel\n",
    "from tqdm import tqdm\n",
    "from einops import rearrange\n",
    "\n",
    "seed = 42\n",
    "random.seed(seed)\n",
    "torch.manual_seed(seed)\n",
    "np.random.seed(seed)\n",
    "\n",
    "if torch.cuda.is_available():\n",
    "    device = torch.device('cuda')\n",
    "else:\n",
    "    device = torch.device('cpu')\n",
    "\n",
    "config = {\n",
    "        'reservoir_size': 800,\n",
    "        'input_scaling': 0.15,\n",
    "        'reservoir_layers': 1,\n",
    "        'leaking_rate': 0.1,\n",
    "        'spectral_radius': 0.99,\n",
    "        'density': 0.25,\n",
    "        'reservoir_activation': 'tanh',\n",
    "        'lr': 0.05,\n",
    "        'epochs': 100,\n",
    "        'alpha_decay': False,\n",
    "        'add_self_loops': False,\n",
    "        'b_leaking_rate': True,\n",
    "        }"
   ]
  },
  {
   "cell_type": "markdown",
   "metadata": {},
   "source": [
    "# Load & process datasets"
   ]
  },
  {
   "cell_type": "markdown",
   "metadata": {},
   "source": [
    "Japanese_Vowels:\n",
    "\n",
    "Multivariate time series classification.\n",
    "Samples: 640 (270 training, 370 test)\n",
    "Features: 12\n",
    "Classes: 9\n",
    "Time series length: 29"
   ]
  },
  {
   "cell_type": "code",
   "execution_count": 2,
   "metadata": {},
   "outputs": [
    {
     "name": "stdout",
     "output_type": "stream",
     "text": [
      "Loaded Japanese_Vowels dataset.\n",
      "Number of classes: 9\n",
      "Data shapes:\n",
      "  Xtr: (270, 29, 12)\n",
      "  Ytr: (270, 1)\n",
      "  Xte: (370, 29, 12)\n",
      "  Yte: (370, 1)\n"
     ]
    }
   ],
   "source": [
    "downloader = DataLoader()\n",
    "Xtr, Ytr, Xte, Yte = downloader.get_data('Japanese_Vowels')"
   ]
  },
  {
   "cell_type": "code",
   "execution_count": 3,
   "metadata": {},
   "outputs": [],
   "source": [
    "X = torch.from_numpy(np.concatenate((Xtr, Xte), axis=0)).float().to(device)\n",
    "Y = torch.from_numpy(np.concatenate((Ytr, Yte), axis=0)).float().to(device)"
   ]
  },
  {
   "cell_type": "code",
   "execution_count": 4,
   "metadata": {},
   "outputs": [
    {
     "name": "stderr",
     "output_type": "stream",
     "text": [
      "100%|██████████| 640/640 [00:10<00:00, 62.96it/s]\n"
     ]
    }
   ],
   "source": [
    "# Define the model\n",
    "feat_size = X.shape[2]\n",
    "model = DynGESNModel(input_size=feat_size,\n",
    "                        reservoir_size=config['reservoir_size'],\n",
    "                        input_scaling=config['input_scaling'],\n",
    "                        reservoir_layers=config['reservoir_layers'],\n",
    "                        leaking_rate=config['leaking_rate'],\n",
    "                        spectral_radius=config['spectral_radius'],\n",
    "                        density=config['density'],\n",
    "                        reservoir_activation=config['reservoir_activation'],\n",
    "                        alpha_decay=config['alpha_decay'],\n",
    "                        b_leaking_rate=config['b_leaking_rate']).to(device)\n",
    "\n",
    "inputs = []\n",
    "labels = []\n",
    "states = []\n",
    "\n",
    "for n in tqdm(range(X.shape[0])):\n",
    "    node_label = rearrange(X[n], 't f -> t 1 f') # time steps, 1 node, features\n",
    "    graph_label = Y[n]\n",
    "    edge_index = torch.tensor([[0], [0]], dtype=torch.long).to(device) # single node graph\n",
    "    edge_weight = torch.tensor([1], dtype=torch.float32).to(device) # single node graph\n",
    "    output = model(node_label, edge_index, edge_weight)\n",
    "    output = rearrange(output, 't n l f -> t n (l f)')\n",
    "    inputs.append(output.detach().cpu()[-1])\n",
    "    states.append(output.detach().cpu())\n",
    "    labels.append(graph_label.squeeze().detach().cpu())\n",
    "\n",
    "inputs = torch.stack(inputs, dim=0).squeeze()\n",
    "states = torch.stack(states, dim=0).squeeze()\n",
    "labels = torch.stack(labels, dim=0)"
   ]
  },
  {
   "cell_type": "code",
   "execution_count": 13,
   "metadata": {},
   "outputs": [
    {
     "data": {
      "text/plain": [
       "torch.Size([640, 29, 800])"
      ]
     },
     "execution_count": 13,
     "metadata": {},
     "output_type": "execute_result"
    }
   ],
   "source": [
    "states.shape"
   ]
  },
  {
   "cell_type": "markdown",
   "metadata": {},
   "source": [
    "# Train readout"
   ]
  },
  {
   "cell_type": "code",
   "execution_count": 5,
   "metadata": {},
   "outputs": [
    {
     "name": "stdout",
     "output_type": "stream",
     "text": [
      "Accuracy:  0.966542750929368\n"
     ]
    }
   ],
   "source": [
    "from sklearn.model_selection import train_test_split\n",
    "from sklearn.preprocessing import OneHotEncoder\n",
    "from sklearn.linear_model import Ridge\n",
    "from sklearn.metrics import accuracy_score\n",
    "\n",
    "Xtr, Xte, Ytr, Yte = train_test_split(states, labels, test_size=0.42, random_state=seed)\n",
    "\n",
    "onehot_encoder = OneHotEncoder(sparse_output=False)\n",
    "Ytr = onehot_encoder.fit_transform(Ytr.unsqueeze(dim=1))\n",
    "Yte = onehot_encoder.transform(Yte.unsqueeze(dim=1))\n",
    "\n",
    "readout = Ridge(alpha=1.0)\n",
    "\n",
    "readout.fit(Xtr[:,-1,:], Ytr)\n",
    "\n",
    "logits = readout.predict(Xte[:,-1,:])\n",
    "pred_class = np.argmax(logits, axis=1)\n",
    "\n",
    "true_class = np.argmax(Yte, axis=1)\n",
    "accuracy = accuracy_score(true_class, pred_class)\n",
    "\n",
    "print('Accuracy: ', accuracy)"
   ]
  },
  {
   "cell_type": "markdown",
   "metadata": {},
   "source": [
    "# State space model"
   ]
  },
  {
   "cell_type": "markdown",
   "metadata": {},
   "source": [
    "Dimensionality reduction \"TensorPCA\""
   ]
  },
  {
   "cell_type": "code",
   "execution_count": 6,
   "metadata": {},
   "outputs": [],
   "source": [
    "import numpy.linalg as linalg\n",
    "\n",
    "X = Xtr.numpy()\n",
    "Xt = np.swapaxes(X,1,2)  # [N,T,V] --> [N,V,T]\n",
    "Xm = np.expand_dims(np.mean(X, axis=0), axis=0) # mean sample\n",
    "Xmt = np.swapaxes(Xm,1,2)\n",
    "\n",
    "C = np.tensordot(X-Xm,Xt-Xmt,axes=([1,0],[2,0])) / (X.shape[0]-1) # covariance of 0-mode slices\n",
    "\n",
    "# sort eigenvalues of covariance matrix\n",
    "eigenValues, eigenVectors = linalg.eig(C)\n",
    "idx = eigenValues.argsort()[::-1]   \n",
    "eigenVectors = eigenVectors[:,idx]\n",
    "\n",
    "n_components = 75\n",
    "first_eigs = eigenVectors[:,:n_components]\n",
    "\n",
    "Xtr_dimred = np.einsum('klj,ji->kli', X, first_eigs)\n",
    "Xte_dimred = np.einsum('klj,ji->kli', Xte.numpy(), first_eigs)"
   ]
  },
  {
   "cell_type": "code",
   "execution_count": 20,
   "metadata": {},
   "outputs": [
    {
     "data": {
      "text/plain": [
       "(269, 29, 75)"
      ]
     },
     "execution_count": 20,
     "metadata": {},
     "output_type": "execute_result"
    }
   ],
   "source": [
    "Xte_dimred.shape"
   ]
  },
  {
   "cell_type": "markdown",
   "metadata": {},
   "source": [
    "Train a linear model between reduced states"
   ]
  },
  {
   "cell_type": "code",
   "execution_count": 7,
   "metadata": {},
   "outputs": [
    {
     "data": {
      "text/html": [
       "<style>#sk-container-id-1 {color: black;}#sk-container-id-1 pre{padding: 0;}#sk-container-id-1 div.sk-toggleable {background-color: white;}#sk-container-id-1 label.sk-toggleable__label {cursor: pointer;display: block;width: 100%;margin-bottom: 0;padding: 0.3em;box-sizing: border-box;text-align: center;}#sk-container-id-1 label.sk-toggleable__label-arrow:before {content: \"▸\";float: left;margin-right: 0.25em;color: #696969;}#sk-container-id-1 label.sk-toggleable__label-arrow:hover:before {color: black;}#sk-container-id-1 div.sk-estimator:hover label.sk-toggleable__label-arrow:before {color: black;}#sk-container-id-1 div.sk-toggleable__content {max-height: 0;max-width: 0;overflow: hidden;text-align: left;background-color: #f0f8ff;}#sk-container-id-1 div.sk-toggleable__content pre {margin: 0.2em;color: black;border-radius: 0.25em;background-color: #f0f8ff;}#sk-container-id-1 input.sk-toggleable__control:checked~div.sk-toggleable__content {max-height: 200px;max-width: 100%;overflow: auto;}#sk-container-id-1 input.sk-toggleable__control:checked~label.sk-toggleable__label-arrow:before {content: \"▾\";}#sk-container-id-1 div.sk-estimator input.sk-toggleable__control:checked~label.sk-toggleable__label {background-color: #d4ebff;}#sk-container-id-1 div.sk-label input.sk-toggleable__control:checked~label.sk-toggleable__label {background-color: #d4ebff;}#sk-container-id-1 input.sk-hidden--visually {border: 0;clip: rect(1px 1px 1px 1px);clip: rect(1px, 1px, 1px, 1px);height: 1px;margin: -1px;overflow: hidden;padding: 0;position: absolute;width: 1px;}#sk-container-id-1 div.sk-estimator {font-family: monospace;background-color: #f0f8ff;border: 1px dotted black;border-radius: 0.25em;box-sizing: border-box;margin-bottom: 0.5em;}#sk-container-id-1 div.sk-estimator:hover {background-color: #d4ebff;}#sk-container-id-1 div.sk-parallel-item::after {content: \"\";width: 100%;border-bottom: 1px solid gray;flex-grow: 1;}#sk-container-id-1 div.sk-label:hover label.sk-toggleable__label {background-color: #d4ebff;}#sk-container-id-1 div.sk-serial::before {content: \"\";position: absolute;border-left: 1px solid gray;box-sizing: border-box;top: 0;bottom: 0;left: 50%;z-index: 0;}#sk-container-id-1 div.sk-serial {display: flex;flex-direction: column;align-items: center;background-color: white;padding-right: 0.2em;padding-left: 0.2em;position: relative;}#sk-container-id-1 div.sk-item {position: relative;z-index: 1;}#sk-container-id-1 div.sk-parallel {display: flex;align-items: stretch;justify-content: center;background-color: white;position: relative;}#sk-container-id-1 div.sk-item::before, #sk-container-id-1 div.sk-parallel-item::before {content: \"\";position: absolute;border-left: 1px solid gray;box-sizing: border-box;top: 0;bottom: 0;left: 50%;z-index: -1;}#sk-container-id-1 div.sk-parallel-item {display: flex;flex-direction: column;z-index: 1;position: relative;background-color: white;}#sk-container-id-1 div.sk-parallel-item:first-child::after {align-self: flex-end;width: 50%;}#sk-container-id-1 div.sk-parallel-item:last-child::after {align-self: flex-start;width: 50%;}#sk-container-id-1 div.sk-parallel-item:only-child::after {width: 0;}#sk-container-id-1 div.sk-dashed-wrapped {border: 1px dashed gray;margin: 0 0.4em 0.5em 0.4em;box-sizing: border-box;padding-bottom: 0.4em;background-color: white;}#sk-container-id-1 div.sk-label label {font-family: monospace;font-weight: bold;display: inline-block;line-height: 1.2em;}#sk-container-id-1 div.sk-label-container {text-align: center;}#sk-container-id-1 div.sk-container {/* jupyter's `normalize.less` sets `[hidden] { display: none; }` but bootstrap.min.css set `[hidden] { display: none !important; }` so we also need the `!important` here to be able to override the default hidden behavior on the sphinx rendered scikit-learn.org. See: https://github.com/scikit-learn/scikit-learn/issues/21755 */display: inline-block !important;position: relative;}#sk-container-id-1 div.sk-text-repr-fallback {display: none;}</style><div id=\"sk-container-id-1\" class=\"sk-top-container\"><div class=\"sk-text-repr-fallback\"><pre>Ridge()</pre><b>In a Jupyter environment, please rerun this cell to show the HTML representation or trust the notebook. <br />On GitHub, the HTML representation is unable to render, please try loading this page with nbviewer.org.</b></div><div class=\"sk-container\" hidden><div class=\"sk-item\"><div class=\"sk-estimator sk-toggleable\"><input class=\"sk-toggleable__control sk-hidden--visually\" id=\"sk-estimator-id-1\" type=\"checkbox\" checked><label for=\"sk-estimator-id-1\" class=\"sk-toggleable__label sk-toggleable__label-arrow\">Ridge</label><div class=\"sk-toggleable__content\"><pre>Ridge()</pre></div></div></div></div></div>"
      ],
      "text/plain": [
       "Ridge()"
      ]
     },
     "execution_count": 7,
     "metadata": {},
     "output_type": "execute_result"
    }
   ],
   "source": [
    "fit_intercept = False\n",
    "ridge_embedding = Ridge(alpha=1.0, fit_intercept=fit_intercept)\n",
    "\n",
    "coeff_tr = []\n",
    "biases_tr = [] \n",
    "\n",
    "for i in range(X.shape[0]):\n",
    "    ridge_embedding.fit(Xtr_dimred[i, 0:-1, :], Xtr_dimred[i, 1:, :])\n",
    "    coeff_tr.append(ridge_embedding.coef_.ravel())\n",
    "    if fit_intercept:\n",
    "        biases_tr.append(ridge_embedding.intercept_.ravel())\n",
    "if fit_intercept:\n",
    "    input_repr_tr = np.concatenate((np.vstack(coeff_tr), np.vstack(biases_tr)), axis=1)\n",
    "else:\n",
    "    input_repr_tr = np.vstack(coeff_tr)\n",
    "\n",
    "readout.fit(input_repr_tr, Ytr)"
   ]
  },
  {
   "cell_type": "markdown",
   "metadata": {},
   "source": [
    "Train readout on state model representation"
   ]
  },
  {
   "cell_type": "code",
   "execution_count": 8,
   "metadata": {},
   "outputs": [
    {
     "data": {
      "text/html": [
       "<style>#sk-container-id-2 {color: black;}#sk-container-id-2 pre{padding: 0;}#sk-container-id-2 div.sk-toggleable {background-color: white;}#sk-container-id-2 label.sk-toggleable__label {cursor: pointer;display: block;width: 100%;margin-bottom: 0;padding: 0.3em;box-sizing: border-box;text-align: center;}#sk-container-id-2 label.sk-toggleable__label-arrow:before {content: \"▸\";float: left;margin-right: 0.25em;color: #696969;}#sk-container-id-2 label.sk-toggleable__label-arrow:hover:before {color: black;}#sk-container-id-2 div.sk-estimator:hover label.sk-toggleable__label-arrow:before {color: black;}#sk-container-id-2 div.sk-toggleable__content {max-height: 0;max-width: 0;overflow: hidden;text-align: left;background-color: #f0f8ff;}#sk-container-id-2 div.sk-toggleable__content pre {margin: 0.2em;color: black;border-radius: 0.25em;background-color: #f0f8ff;}#sk-container-id-2 input.sk-toggleable__control:checked~div.sk-toggleable__content {max-height: 200px;max-width: 100%;overflow: auto;}#sk-container-id-2 input.sk-toggleable__control:checked~label.sk-toggleable__label-arrow:before {content: \"▾\";}#sk-container-id-2 div.sk-estimator input.sk-toggleable__control:checked~label.sk-toggleable__label {background-color: #d4ebff;}#sk-container-id-2 div.sk-label input.sk-toggleable__control:checked~label.sk-toggleable__label {background-color: #d4ebff;}#sk-container-id-2 input.sk-hidden--visually {border: 0;clip: rect(1px 1px 1px 1px);clip: rect(1px, 1px, 1px, 1px);height: 1px;margin: -1px;overflow: hidden;padding: 0;position: absolute;width: 1px;}#sk-container-id-2 div.sk-estimator {font-family: monospace;background-color: #f0f8ff;border: 1px dotted black;border-radius: 0.25em;box-sizing: border-box;margin-bottom: 0.5em;}#sk-container-id-2 div.sk-estimator:hover {background-color: #d4ebff;}#sk-container-id-2 div.sk-parallel-item::after {content: \"\";width: 100%;border-bottom: 1px solid gray;flex-grow: 1;}#sk-container-id-2 div.sk-label:hover label.sk-toggleable__label {background-color: #d4ebff;}#sk-container-id-2 div.sk-serial::before {content: \"\";position: absolute;border-left: 1px solid gray;box-sizing: border-box;top: 0;bottom: 0;left: 50%;z-index: 0;}#sk-container-id-2 div.sk-serial {display: flex;flex-direction: column;align-items: center;background-color: white;padding-right: 0.2em;padding-left: 0.2em;position: relative;}#sk-container-id-2 div.sk-item {position: relative;z-index: 1;}#sk-container-id-2 div.sk-parallel {display: flex;align-items: stretch;justify-content: center;background-color: white;position: relative;}#sk-container-id-2 div.sk-item::before, #sk-container-id-2 div.sk-parallel-item::before {content: \"\";position: absolute;border-left: 1px solid gray;box-sizing: border-box;top: 0;bottom: 0;left: 50%;z-index: -1;}#sk-container-id-2 div.sk-parallel-item {display: flex;flex-direction: column;z-index: 1;position: relative;background-color: white;}#sk-container-id-2 div.sk-parallel-item:first-child::after {align-self: flex-end;width: 50%;}#sk-container-id-2 div.sk-parallel-item:last-child::after {align-self: flex-start;width: 50%;}#sk-container-id-2 div.sk-parallel-item:only-child::after {width: 0;}#sk-container-id-2 div.sk-dashed-wrapped {border: 1px dashed gray;margin: 0 0.4em 0.5em 0.4em;box-sizing: border-box;padding-bottom: 0.4em;background-color: white;}#sk-container-id-2 div.sk-label label {font-family: monospace;font-weight: bold;display: inline-block;line-height: 1.2em;}#sk-container-id-2 div.sk-label-container {text-align: center;}#sk-container-id-2 div.sk-container {/* jupyter's `normalize.less` sets `[hidden] { display: none; }` but bootstrap.min.css set `[hidden] { display: none !important; }` so we also need the `!important` here to be able to override the default hidden behavior on the sphinx rendered scikit-learn.org. See: https://github.com/scikit-learn/scikit-learn/issues/21755 */display: inline-block !important;position: relative;}#sk-container-id-2 div.sk-text-repr-fallback {display: none;}</style><div id=\"sk-container-id-2\" class=\"sk-top-container\"><div class=\"sk-text-repr-fallback\"><pre>Ridge()</pre><b>In a Jupyter environment, please rerun this cell to show the HTML representation or trust the notebook. <br />On GitHub, the HTML representation is unable to render, please try loading this page with nbviewer.org.</b></div><div class=\"sk-container\" hidden><div class=\"sk-item\"><div class=\"sk-estimator sk-toggleable\"><input class=\"sk-toggleable__control sk-hidden--visually\" id=\"sk-estimator-id-2\" type=\"checkbox\" checked><label for=\"sk-estimator-id-2\" class=\"sk-toggleable__label sk-toggleable__label-arrow\">Ridge</label><div class=\"sk-toggleable__content\"><pre>Ridge()</pre></div></div></div></div></div>"
      ],
      "text/plain": [
       "Ridge()"
      ]
     },
     "execution_count": 8,
     "metadata": {},
     "output_type": "execute_result"
    }
   ],
   "source": [
    "readout.fit(input_repr_tr, Ytr)"
   ]
  },
  {
   "cell_type": "markdown",
   "metadata": {},
   "source": [
    "Test it"
   ]
  },
  {
   "cell_type": "code",
   "execution_count": 9,
   "metadata": {},
   "outputs": [
    {
     "name": "stdout",
     "output_type": "stream",
     "text": [
      "Accuracy:  0.9888475836431226\n"
     ]
    }
   ],
   "source": [
    "coeff_te = []\n",
    "biases_te = []   \n",
    "         \n",
    "for i in range(Xte.shape[0]):\n",
    "    ridge_embedding.fit(Xte_dimred[i, 0:-1, :], Xte_dimred[i, 1:, :])\n",
    "    coeff_te.append(ridge_embedding.coef_.ravel())\n",
    "    if fit_intercept:\n",
    "        biases_te.append(ridge_embedding.intercept_.ravel())\n",
    "\n",
    "if fit_intercept:\n",
    "    input_repr_te = np.concatenate((np.vstack(coeff_te), np.vstack(biases_te)), axis=1)\n",
    "else:\n",
    "    input_repr_te = np.vstack(coeff_te)\n",
    "\n",
    "logits = readout.predict(input_repr_te)\n",
    "pred_class = np.argmax(logits, axis=1)\n",
    "\n",
    "true_class = np.argmax(Yte, axis=1)\n",
    "accuracy = accuracy_score(true_class, pred_class)\n",
    "\n",
    "print('Accuracy: ', accuracy)"
   ]
  },
  {
   "cell_type": "markdown",
   "metadata": {},
   "source": [
    "# Same thing, with KANN"
   ]
  },
  {
   "cell_type": "markdown",
   "metadata": {},
   "source": [
    "Dimensionality reduction with standard PCA"
   ]
  },
  {
   "cell_type": "code",
   "execution_count": 33,
   "metadata": {},
   "outputs": [
    {
     "data": {
      "text/plain": [
       "torch.Size([371, 29, 800])"
      ]
     },
     "execution_count": 33,
     "metadata": {},
     "output_type": "execute_result"
    }
   ],
   "source": [
    "Xtr.shape"
   ]
  },
  {
   "cell_type": "code",
   "execution_count": 10,
   "metadata": {},
   "outputs": [],
   "source": [
    "from sklearn.decomposition import PCA\n",
    "\n",
    "pca = PCA(n_components=75)\n",
    "pca.fit(Xtr.reshape(-1, Xtr.shape[-1]))\n",
    "pca_proj = pca.components_\n",
    "\n",
    "# project states\n",
    "Xtr_dimred_pca = np.einsum('klj,ji->kli', Xtr, pca_proj.T)\n",
    "Xte_dimred_pca = np.einsum('klj,ji->kli', Xte.numpy(), pca_proj.T)"
   ]
  },
  {
   "cell_type": "code",
   "execution_count": 38,
   "metadata": {},
   "outputs": [
    {
     "data": {
      "text/plain": [
       "(371, 29, 75)"
      ]
     },
     "execution_count": 38,
     "metadata": {},
     "output_type": "execute_result"
    }
   ],
   "source": [
    "Xtr_dimred_pca.shape"
   ]
  },
  {
   "cell_type": "markdown",
   "metadata": {},
   "source": [
    "Find the linear operator"
   ]
  },
  {
   "cell_type": "code",
   "execution_count": 11,
   "metadata": {},
   "outputs": [
    {
     "name": "stdout",
     "output_type": "stream",
     "text": [
      "Accuracy: 0.9888475836431226\n"
     ]
    }
   ],
   "source": [
    "from DMD.dmd import KANN\n",
    "\n",
    "Ks = []\n",
    "\n",
    "dim_red = 0\n",
    "method = None\n",
    "\n",
    "# Koperator = Ridge(alpha=0.00001, fit_intercept=False)\n",
    "\n",
    "for x in Xtr_dimred_pca:\n",
    "    # Koperator.fit(x[:-1,:], x[1:,:])\n",
    "    # Ks.append(Koperator.coef_.flatten())\n",
    "    kann_ = KANN(x[np.newaxis,:,:], k=dim_red, emb=method)\n",
    "    KL = kann_.compute_KOP()\n",
    "    Ks.append(KL.flatten())\n",
    "\n",
    "Ks = np.stack(Ks, axis=0)\n",
    "\n",
    "# Fit a classifier on linear operators\n",
    "Kclassifier = Ridge(alpha=1.0)\n",
    "\n",
    "Kclassifier.fit(Ks, Ytr)\n",
    "\n",
    "# Test the classifier\n",
    "Ks_te = []\n",
    "\n",
    "for x in Xte_dimred_pca:\n",
    "    # Koperator.fit(x[:-1,:], x[1:,:])\n",
    "    # Ks_te.append(Koperator.coef_.flatten())\n",
    "    kann_ = KANN(x[np.newaxis,:,:], k=dim_red, emb=method)\n",
    "    KL = kann_.compute_KOP()\n",
    "    Ks_te.append(KL.flatten())\n",
    "\n",
    "Ks_te = np.stack(Ks_te, axis=0)\n",
    "\n",
    "y_pred = Kclassifier.predict(Ks_te)\n",
    "pred_class = np.argmax(y_pred, axis=1)\n",
    "\n",
    "true_class = np.argmax(Yte, axis=1)\n",
    "accuracy = accuracy_score(true_class, pred_class)\n",
    "print(f\"Accuracy: {accuracy}\")"
   ]
  },
  {
   "cell_type": "code",
   "execution_count": 12,
   "metadata": {},
   "outputs": [
    {
     "data": {
      "text/plain": [
       "(75, 75)"
      ]
     },
     "execution_count": 12,
     "metadata": {},
     "output_type": "execute_result"
    }
   ],
   "source": [
    "KL.shape"
   ]
  },
  {
   "cell_type": "code",
   "execution_count": null,
   "metadata": {},
   "outputs": [],
   "source": []
  }
 ],
 "metadata": {
  "kernelspec": {
   "display_name": "koopman",
   "language": "python",
   "name": "python3"
  },
  "language_info": {
   "codemirror_mode": {
    "name": "ipython",
    "version": 3
   },
   "file_extension": ".py",
   "mimetype": "text/x-python",
   "name": "python",
   "nbconvert_exporter": "python",
   "pygments_lexer": "ipython3",
   "version": "3.9.17"
  }
 },
 "nbformat": 4,
 "nbformat_minor": 2
}
